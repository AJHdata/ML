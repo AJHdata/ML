{
 "cells": [
  {
   "cell_type": "code",
   "execution_count": 1,
   "id": "36fa865d-0773-4f0b-a28b-82f336f1167d",
   "metadata": {},
   "outputs": [],
   "source": [
    "import pandas as pd\n",
    "from sklearn.ensemble import VotingClassifier\n",
    "from sklearn.linear_model import LogisticRegression\n",
    "from sklearn.neighbors import KNeighborsClassifier\n",
    "from sklearn.datasets import load_breast_cancer\n",
    "from sklearn.model_selection import train_test_split\n",
    "from sklearn.metrics import accuracy_score\n",
    "\n",
    "import warnings\n",
    "warnings.filterwarnings('ignore')"
   ]
  },
  {
   "cell_type": "markdown",
   "id": "a3876cf7-f6d8-40b5-ac68-d1ff26ac759f",
   "metadata": {},
   "source": [
    "### load_breast_cancer"
   ]
  },
  {
   "cell_type": "code",
   "execution_count": 2,
   "id": "428ff9c0-dc9b-4458-b9ad-f66635d761de",
   "metadata": {},
   "outputs": [
    {
     "data": {
      "text/plain": [
       "dict_keys(['data', 'target', 'frame', 'target_names', 'DESCR', 'feature_names', 'filename'])"
      ]
     },
     "execution_count": 2,
     "metadata": {},
     "output_type": "execute_result"
    }
   ],
   "source": [
    "cancer = load_breast_cancer()\n",
    "cancer.keys()"
   ]
  },
  {
   "cell_type": "code",
   "execution_count": 3,
   "id": "cf46670e-2574-499e-876e-67de0d084dc2",
   "metadata": {},
   "outputs": [],
   "source": [
    "cancer.target;"
   ]
  },
  {
   "cell_type": "code",
   "execution_count": 4,
   "id": "b835324f-24fb-47fc-9d8d-be06d902ed29",
   "metadata": {},
   "outputs": [
    {
     "data": {
      "text/plain": [
       "array(['malignant', 'benign'], dtype='<U9')"
      ]
     },
     "execution_count": 4,
     "metadata": {},
     "output_type": "execute_result"
    }
   ],
   "source": [
    "# 0,1 중에서 어떤 것이 양성인지 확인해야한다!\n",
    "cancer.target_names"
   ]
  },
  {
   "cell_type": "code",
   "execution_count": 5,
   "id": "6249c9db-b2a9-4d84-a32a-063b89c5c41a",
   "metadata": {},
   "outputs": [
    {
     "data": {
      "text/html": [
       "<div>\n",
       "<style scoped>\n",
       "    .dataframe tbody tr th:only-of-type {\n",
       "        vertical-align: middle;\n",
       "    }\n",
       "\n",
       "    .dataframe tbody tr th {\n",
       "        vertical-align: top;\n",
       "    }\n",
       "\n",
       "    .dataframe thead th {\n",
       "        text-align: right;\n",
       "    }\n",
       "</style>\n",
       "<table border=\"1\" class=\"dataframe\">\n",
       "  <thead>\n",
       "    <tr style=\"text-align: right;\">\n",
       "      <th></th>\n",
       "      <th>mean radius</th>\n",
       "      <th>mean texture</th>\n",
       "      <th>mean perimeter</th>\n",
       "      <th>mean area</th>\n",
       "      <th>mean smoothness</th>\n",
       "      <th>mean compactness</th>\n",
       "      <th>mean concavity</th>\n",
       "      <th>mean concave points</th>\n",
       "      <th>mean symmetry</th>\n",
       "      <th>mean fractal dimension</th>\n",
       "      <th>...</th>\n",
       "      <th>worst radius</th>\n",
       "      <th>worst texture</th>\n",
       "      <th>worst perimeter</th>\n",
       "      <th>worst area</th>\n",
       "      <th>worst smoothness</th>\n",
       "      <th>worst compactness</th>\n",
       "      <th>worst concavity</th>\n",
       "      <th>worst concave points</th>\n",
       "      <th>worst symmetry</th>\n",
       "      <th>worst fractal dimension</th>\n",
       "    </tr>\n",
       "  </thead>\n",
       "  <tbody>\n",
       "    <tr>\n",
       "      <th>0</th>\n",
       "      <td>17.99</td>\n",
       "      <td>10.38</td>\n",
       "      <td>122.8</td>\n",
       "      <td>1001.0</td>\n",
       "      <td>0.11840</td>\n",
       "      <td>0.27760</td>\n",
       "      <td>0.3001</td>\n",
       "      <td>0.14710</td>\n",
       "      <td>0.2419</td>\n",
       "      <td>0.07871</td>\n",
       "      <td>...</td>\n",
       "      <td>25.38</td>\n",
       "      <td>17.33</td>\n",
       "      <td>184.6</td>\n",
       "      <td>2019.0</td>\n",
       "      <td>0.1622</td>\n",
       "      <td>0.6656</td>\n",
       "      <td>0.7119</td>\n",
       "      <td>0.2654</td>\n",
       "      <td>0.4601</td>\n",
       "      <td>0.11890</td>\n",
       "    </tr>\n",
       "    <tr>\n",
       "      <th>1</th>\n",
       "      <td>20.57</td>\n",
       "      <td>17.77</td>\n",
       "      <td>132.9</td>\n",
       "      <td>1326.0</td>\n",
       "      <td>0.08474</td>\n",
       "      <td>0.07864</td>\n",
       "      <td>0.0869</td>\n",
       "      <td>0.07017</td>\n",
       "      <td>0.1812</td>\n",
       "      <td>0.05667</td>\n",
       "      <td>...</td>\n",
       "      <td>24.99</td>\n",
       "      <td>23.41</td>\n",
       "      <td>158.8</td>\n",
       "      <td>1956.0</td>\n",
       "      <td>0.1238</td>\n",
       "      <td>0.1866</td>\n",
       "      <td>0.2416</td>\n",
       "      <td>0.1860</td>\n",
       "      <td>0.2750</td>\n",
       "      <td>0.08902</td>\n",
       "    </tr>\n",
       "    <tr>\n",
       "      <th>2</th>\n",
       "      <td>19.69</td>\n",
       "      <td>21.25</td>\n",
       "      <td>130.0</td>\n",
       "      <td>1203.0</td>\n",
       "      <td>0.10960</td>\n",
       "      <td>0.15990</td>\n",
       "      <td>0.1974</td>\n",
       "      <td>0.12790</td>\n",
       "      <td>0.2069</td>\n",
       "      <td>0.05999</td>\n",
       "      <td>...</td>\n",
       "      <td>23.57</td>\n",
       "      <td>25.53</td>\n",
       "      <td>152.5</td>\n",
       "      <td>1709.0</td>\n",
       "      <td>0.1444</td>\n",
       "      <td>0.4245</td>\n",
       "      <td>0.4504</td>\n",
       "      <td>0.2430</td>\n",
       "      <td>0.3613</td>\n",
       "      <td>0.08758</td>\n",
       "    </tr>\n",
       "  </tbody>\n",
       "</table>\n",
       "<p>3 rows × 30 columns</p>\n",
       "</div>"
      ],
      "text/plain": [
       "   mean radius  mean texture  mean perimeter  mean area  mean smoothness  \\\n",
       "0        17.99         10.38           122.8     1001.0          0.11840   \n",
       "1        20.57         17.77           132.9     1326.0          0.08474   \n",
       "2        19.69         21.25           130.0     1203.0          0.10960   \n",
       "\n",
       "   mean compactness  mean concavity  mean concave points  mean symmetry  \\\n",
       "0           0.27760          0.3001              0.14710         0.2419   \n",
       "1           0.07864          0.0869              0.07017         0.1812   \n",
       "2           0.15990          0.1974              0.12790         0.2069   \n",
       "\n",
       "   mean fractal dimension  ...  worst radius  worst texture  worst perimeter  \\\n",
       "0                 0.07871  ...         25.38          17.33            184.6   \n",
       "1                 0.05667  ...         24.99          23.41            158.8   \n",
       "2                 0.05999  ...         23.57          25.53            152.5   \n",
       "\n",
       "   worst area  worst smoothness  worst compactness  worst concavity  \\\n",
       "0      2019.0            0.1622             0.6656           0.7119   \n",
       "1      1956.0            0.1238             0.1866           0.2416   \n",
       "2      1709.0            0.1444             0.4245           0.4504   \n",
       "\n",
       "   worst concave points  worst symmetry  worst fractal dimension  \n",
       "0                0.2654          0.4601                  0.11890  \n",
       "1                0.1860          0.2750                  0.08902  \n",
       "2                0.2430          0.3613                  0.08758  \n",
       "\n",
       "[3 rows x 30 columns]"
      ]
     },
     "execution_count": 5,
     "metadata": {},
     "output_type": "execute_result"
    }
   ],
   "source": [
    "data_df = pd.DataFrame(cancer.data, columns=cancer.feature_names)\n",
    "data_df.head(3)"
   ]
  },
  {
   "cell_type": "code",
   "execution_count": 6,
   "id": "0d58ae64-332d-4a7c-b317-c6c126ff84f8",
   "metadata": {
    "collapsed": true,
    "jupyter": {
     "outputs_hidden": true
    },
    "tags": []
   },
   "outputs": [
    {
     "name": "stdout",
     "output_type": "stream",
     "text": [
      "<class 'pandas.core.frame.DataFrame'>\n",
      "RangeIndex: 569 entries, 0 to 568\n",
      "Data columns (total 30 columns):\n",
      " #   Column                   Non-Null Count  Dtype  \n",
      "---  ------                   --------------  -----  \n",
      " 0   mean radius              569 non-null    float64\n",
      " 1   mean texture             569 non-null    float64\n",
      " 2   mean perimeter           569 non-null    float64\n",
      " 3   mean area                569 non-null    float64\n",
      " 4   mean smoothness          569 non-null    float64\n",
      " 5   mean compactness         569 non-null    float64\n",
      " 6   mean concavity           569 non-null    float64\n",
      " 7   mean concave points      569 non-null    float64\n",
      " 8   mean symmetry            569 non-null    float64\n",
      " 9   mean fractal dimension   569 non-null    float64\n",
      " 10  radius error             569 non-null    float64\n",
      " 11  texture error            569 non-null    float64\n",
      " 12  perimeter error          569 non-null    float64\n",
      " 13  area error               569 non-null    float64\n",
      " 14  smoothness error         569 non-null    float64\n",
      " 15  compactness error        569 non-null    float64\n",
      " 16  concavity error          569 non-null    float64\n",
      " 17  concave points error     569 non-null    float64\n",
      " 18  symmetry error           569 non-null    float64\n",
      " 19  fractal dimension error  569 non-null    float64\n",
      " 20  worst radius             569 non-null    float64\n",
      " 21  worst texture            569 non-null    float64\n",
      " 22  worst perimeter          569 non-null    float64\n",
      " 23  worst area               569 non-null    float64\n",
      " 24  worst smoothness         569 non-null    float64\n",
      " 25  worst compactness        569 non-null    float64\n",
      " 26  worst concavity          569 non-null    float64\n",
      " 27  worst concave points     569 non-null    float64\n",
      " 28  worst symmetry           569 non-null    float64\n",
      " 29  worst fractal dimension  569 non-null    float64\n",
      "dtypes: float64(30)\n",
      "memory usage: 133.5 KB\n"
     ]
    }
   ],
   "source": [
    "data_df.info()"
   ]
  },
  {
   "cell_type": "code",
   "execution_count": 7,
   "id": "d8a31134-d0f9-4f00-a1a7-3b3f2b931ccd",
   "metadata": {},
   "outputs": [],
   "source": [
    "lr_clf = LogisticRegression()"
   ]
  },
  {
   "cell_type": "code",
   "execution_count": 8,
   "id": "dc0d30e8-adb4-4300-a3b5-9062c302bac5",
   "metadata": {},
   "outputs": [],
   "source": [
    "knn_clf = KNeighborsClassifier(n_neighbors=8)"
   ]
  },
  {
   "cell_type": "code",
   "execution_count": 9,
   "id": "4202256f-df92-493a-a1e4-91dd23f6c53a",
   "metadata": {},
   "outputs": [],
   "source": [
    "vo_clf = VotingClassifier([('LR', lr_clf), \n",
    "                           ('knn_clf', knn_clf)], voting='soft')"
   ]
  },
  {
   "cell_type": "code",
   "execution_count": 10,
   "id": "0d4939af-d1b8-493c-8f09-f7460340c603",
   "metadata": {},
   "outputs": [],
   "source": [
    "X_train, X_test, y_train, y_test = train_test_split(cancer.data, cancer.target, test_size=0.2, random_state=156)"
   ]
  },
  {
   "cell_type": "code",
   "execution_count": 11,
   "id": "f0c70389-6c4c-4f97-a925-2f78db293f57",
   "metadata": {},
   "outputs": [
    {
     "data": {
      "text/plain": [
       "0.9473684210526315"
      ]
     },
     "execution_count": 11,
     "metadata": {},
     "output_type": "execute_result"
    }
   ],
   "source": [
    "vo_clf.fit(X_train, y_train)\n",
    "pred = vo_clf.predict(X_test)\n",
    "accuracy_score(y_test, pred)"
   ]
  },
  {
   "cell_type": "code",
   "execution_count": 12,
   "id": "0c13e431-d69c-4e6d-a943-cd09c57e7ae7",
   "metadata": {},
   "outputs": [
    {
     "data": {
      "text/plain": [
       "0.9473684210526315"
      ]
     },
     "execution_count": 12,
     "metadata": {},
     "output_type": "execute_result"
    }
   ],
   "source": [
    "vo_clf.score(X_test, y_test)"
   ]
  },
  {
   "cell_type": "code",
   "execution_count": 13,
   "id": "ee8c6f1a-5f6e-4bb6-b959-c2771e1899b4",
   "metadata": {},
   "outputs": [
    {
     "name": "stdout",
     "output_type": "stream",
     "text": [
      "LogisticRegression 정확도 : 0.9386\n",
      "KNeighborsClassifier 정확도 : 0.9386\n"
     ]
    }
   ],
   "source": [
    "classifiers = [lr_clf, knn_clf]\n",
    "\n",
    "for classifier in classifiers :\n",
    "    classifier.fit(X_train, y_train)\n",
    "    pred = classifier.predict(X_test)\n",
    "    print(f'{classifier.__class__.__name__} 정확도 : {accuracy_score(y_test, pred):.4f}')"
   ]
  },
  {
   "cell_type": "code",
   "execution_count": 14,
   "id": "68778da7-0683-4d76-8705-0ccee24c55ba",
   "metadata": {},
   "outputs": [],
   "source": [
    "from sklearn.ensemble import RandomForestClassifier"
   ]
  },
  {
   "cell_type": "code",
   "execution_count": 15,
   "id": "6f8c816f-1790-4961-8e01-2d4914243857",
   "metadata": {},
   "outputs": [],
   "source": [
    "def get_new_feature_name_df(old) :\n",
    "    feature_dup_df = pd.DataFrame(data=old.groupby('column_name').cumcount(), \n",
    "                                  columns=['dup_cnt']) # cumcount 같은 데이터에 대해서 카운트 해준다.\n",
    "\n",
    "    feature_dup_df = feature_dup_df.reset_index()\n",
    "    new_feature_name_df = pd.merge(old.reset_index(), feature_dup_df, how='outer')\n",
    "\n",
    "    new_feature_name_df['column_name'] = new_feature_name_df[ ['column_name', 'dup_cnt'] ].apply(\n",
    "        lambda x : x[0] + '_' + str(x[1]) if x[1] > 0 else x[0], axis=1 ) # 넘어오는 데이터 두개를 x로 받음. => 인덱싱으로 접근. x[0], x[1]\n",
    "    new_feature_name_df = new_feature_name_df.drop(columns=['index'])\n",
    "    \n",
    "    return new_feature_name_df"
   ]
  },
  {
   "cell_type": "markdown",
   "id": "5bc5fa25-4f3b-4557-b54a-8dbb094592f2",
   "metadata": {},
   "source": [
    "---"
   ]
  },
  {
   "cell_type": "markdown",
   "id": "ac8a0104-bc8d-4ff7-8733-480a2fd5c81e",
   "metadata": {},
   "source": [
    "### human_dataset"
   ]
  },
  {
   "cell_type": "code",
   "execution_count": 16,
   "id": "1d470d52-f936-4935-9b51-864ea2778fbb",
   "metadata": {},
   "outputs": [],
   "source": [
    "def get_human_dataset() :\n",
    "    feature_name_df = pd.read_csv('./human_activity/features.txt', \n",
    "                              sep='\\s+',\n",
    "                              header=None, # 컬럼명 없을 때 None 사용\n",
    "                              names=['column_index', 'column_name']\n",
    "                             )\n",
    "    \n",
    "    new_feature_name_df = get_new_feature_name_df(feature_name_df)\n",
    "    feature_name = new_feature_name_df.iloc[:, 1].values.tolist()\n",
    "    \n",
    "    X_train = pd.read_csv('./human_activity/train/X_train.txt',\n",
    "                          sep='\\s+',\n",
    "                          names=feature_name)\n",
    "    \n",
    "    X_test = pd.read_csv('./human_activity/test/X_test.txt',\n",
    "                          sep='\\s+',\n",
    "                          names=feature_name)\n",
    "    \n",
    "    y_train = pd.read_csv('./human_activity/train/y_train.txt',\n",
    "                          sep='\\s+',\n",
    "                          header=None,\n",
    "                          names=['action'])\n",
    "    \n",
    "    y_test = pd.read_csv('./human_activity/test/y_test.txt',\n",
    "                          sep='\\s+',\n",
    "                          header=None,\n",
    "                          names=['action'])\n",
    "    \n",
    "    return X_train, X_test, y_train, y_test"
   ]
  },
  {
   "cell_type": "code",
   "execution_count": 17,
   "id": "70954c18-58e1-4d9d-8bd8-0fa7609b5927",
   "metadata": {},
   "outputs": [],
   "source": [
    "# human_dataset 으로 데이터 변경됨!\n",
    "X_train, X_test, y_train, y_test = get_human_dataset()"
   ]
  },
  {
   "cell_type": "code",
   "execution_count": 18,
   "id": "1fb85d6a-68e0-49c4-9afe-b2650a76a706",
   "metadata": {},
   "outputs": [
    {
     "data": {
      "text/plain": [
       "0.9253478113335596"
      ]
     },
     "execution_count": 18,
     "metadata": {},
     "output_type": "execute_result"
    }
   ],
   "source": [
    "rf_clf = RandomForestClassifier(random_state=0)\n",
    "rf_clf.fit(X_train, y_train)\n",
    "pred = rf_clf.predict(X_test)\n",
    "accuracy_score(y_test, pred)"
   ]
  },
  {
   "cell_type": "code",
   "execution_count": 19,
   "id": "9bc51893-19d2-4c9d-ad3b-0b896cb0b59f",
   "metadata": {},
   "outputs": [
    {
     "data": {
      "text/plain": [
       "0.9565659993213438"
      ]
     },
     "execution_count": 19,
     "metadata": {},
     "output_type": "execute_result"
    }
   ],
   "source": [
    "# rf_clf와 점수 비교\n",
    "vo_clf = VotingClassifier([('LR', lr_clf), \n",
    "                           ('knn_clf', knn_clf),\n",
    "                           ], voting='soft')\n",
    "vo_clf.fit(X_train, y_train)\n",
    "pred = vo_clf.predict(X_test)\n",
    "accuracy_score(y_test, pred)"
   ]
  },
  {
   "cell_type": "code",
   "execution_count": 20,
   "id": "1d91cb4f-d30a-43aa-a469-0d561a5ec522",
   "metadata": {},
   "outputs": [
    {
     "name": "stdout",
     "output_type": "stream",
     "text": [
      "LogisticRegression 정확도 : 0.9593\n",
      "KNeighborsClassifier 정확도 : 0.9074\n"
     ]
    }
   ],
   "source": [
    "classifiers = [lr_clf, knn_clf]\n",
    "\n",
    "for classifier in classifiers :\n",
    "    classifier.fit(X_train, y_train)\n",
    "    pred = classifier.predict(X_test)\n",
    "    print(f'{classifier.__class__.__name__} 정확도 : {accuracy_score(y_test, pred):.4f}')"
   ]
  },
  {
   "cell_type": "markdown",
   "id": "9add48d1-da84-4fe5-8bf2-f54869bab209",
   "metadata": {},
   "source": [
    "---\n",
    "## GridSearchCV"
   ]
  },
  {
   "cell_type": "code",
   "execution_count": 21,
   "id": "9d637e8d-d4e6-4da4-b01e-67946685e69f",
   "metadata": {},
   "outputs": [],
   "source": [
    "from sklearn.model_selection import GridSearchCV"
   ]
  },
  {
   "cell_type": "code",
   "execution_count": 24,
   "id": "ca7a84fd-993f-4b80-89d3-9d09e49d0be4",
   "metadata": {},
   "outputs": [
    {
     "name": "stdout",
     "output_type": "stream",
     "text": [
      "Wall time: 17.7 s\n"
     ]
    },
    {
     "data": {
      "text/plain": [
       "({'max_depth': 10,\n",
       "  'min_samples_leaf': 8,\n",
       "  'min_samples_split': 18,\n",
       "  'n_estimators': 100},\n",
       " 0.9182535364526659)"
      ]
     },
     "execution_count": 24,
     "metadata": {},
     "output_type": "execute_result"
    }
   ],
   "source": [
    "%%time \n",
    "\n",
    "parms={\n",
    "    'n_estimators': [100],\n",
    "    'max_depth': [6,8,10,12],\n",
    "    'min_samples_split': [8,12,18],\n",
    "    'min_samples_leaf': [8,16,20],\n",
    "}\n",
    "\n",
    "rf_clf = RandomForestClassifier(random_state=0, n_jobs=-1)\n",
    "grid_cv = GridSearchCV(rf_clf, param_grid=parms, cv=2, n_jobs=-1)\n",
    "\n",
    "grid_cv.fit(X_train,y_train)\n",
    "grid_cv.best_params_, grid_cv.best_score_"
   ]
  },
  {
   "cell_type": "code",
   "execution_count": 26,
   "id": "82b56caa-ba94-496e-bcff-1099aceae98c",
   "metadata": {},
   "outputs": [
    {
     "data": {
      "text/plain": [
       "0.9175432643366135"
      ]
     },
     "execution_count": 26,
     "metadata": {},
     "output_type": "execute_result"
    }
   ],
   "source": [
    "rf_clf = RandomForestClassifier(\n",
    "      max_depth = 10,\n",
    "      min_samples_leaf = 8,\n",
    "      min_samples_split = 18,\n",
    "      n_estimators = 300, # 계속 늘린다고 계속 좋아지지 않느다. 오히려 떨어질 수도 있다.\n",
    "      random_state=0)\n",
    "\n",
    "rf_clf.fit(X_train, y_train)\n",
    "pred = rf_clf.predict(X_test)\n",
    "accuracy_score(y_test, pred)"
   ]
  },
  {
   "cell_type": "markdown",
   "id": "e6e955e7-98fb-4544-8516-ac432f1b1125",
   "metadata": {},
   "source": [
    "---"
   ]
  },
  {
   "cell_type": "code",
   "execution_count": 27,
   "id": "f3c4a88a-bb90-407b-b0ff-976d69ccf2af",
   "metadata": {},
   "outputs": [],
   "source": [
    "from sklearn.ensemble import GradientBoostingClassifier"
   ]
  },
  {
   "cell_type": "code",
   "execution_count": 31,
   "id": "8bbb0931-41fc-4ea0-b7fd-e92ecc1279c8",
   "metadata": {},
   "outputs": [
    {
     "name": "stdout",
     "output_type": "stream",
     "text": [
      "GBM 정확도 : 0.9386\n",
      "Wall time: 7min 38s\n"
     ]
    }
   ],
   "source": [
    "%%time\n",
    "gb_clf = GradientBoostingClassifier()\n",
    "gb_clf.fit(X_train, y_train)\n",
    "gb_pred = gb_clf.predict(X_test)\n",
    "gb_accuracy = accuracy_score(y_test, gb_pred)\n",
    "print(f'GBM 정확도 : {gb_accuracy:.4f}')"
   ]
  },
  {
   "cell_type": "markdown",
   "id": "118823e2-06a8-4966-b631-e6712dbbf12f",
   "metadata": {},
   "source": [
    "---\n",
    "# XGB"
   ]
  },
  {
   "cell_type": "code",
   "execution_count": 34,
   "id": "ee93bb0e-3185-4b75-a913-f73f5a3ac469",
   "metadata": {},
   "outputs": [],
   "source": [
    "import xgboost as xgb\n",
    "from xgboost import XGBClassifier\n",
    "\n",
    "import pandas as pd\n",
    "import numpy as np\n",
    "\n",
    "from sklearn.datasets import load_breast_cancer\n",
    "from sklearn.model_selection import train_test_split\n",
    "\n",
    "import warnings\n",
    "warnings.filterwarnings('ignore')"
   ]
  },
  {
   "cell_type": "code",
   "execution_count": 35,
   "id": "4f593494-41b4-4d50-85cd-b6bbb17ab4e7",
   "metadata": {},
   "outputs": [],
   "source": [
    "dataset = load_breast_cancer()\n",
    "\n",
    "X_features = dataset.data\n",
    "y_label = dataset.target"
   ]
  },
  {
   "cell_type": "code",
   "execution_count": 36,
   "id": "f17a4e62-b0d4-40f1-9e00-7375633cddca",
   "metadata": {},
   "outputs": [
    {
     "data": {
      "text/html": [
       "<div>\n",
       "<style scoped>\n",
       "    .dataframe tbody tr th:only-of-type {\n",
       "        vertical-align: middle;\n",
       "    }\n",
       "\n",
       "    .dataframe tbody tr th {\n",
       "        vertical-align: top;\n",
       "    }\n",
       "\n",
       "    .dataframe thead th {\n",
       "        text-align: right;\n",
       "    }\n",
       "</style>\n",
       "<table border=\"1\" class=\"dataframe\">\n",
       "  <thead>\n",
       "    <tr style=\"text-align: right;\">\n",
       "      <th></th>\n",
       "      <th>mean radius</th>\n",
       "      <th>mean texture</th>\n",
       "      <th>mean perimeter</th>\n",
       "      <th>mean area</th>\n",
       "      <th>mean smoothness</th>\n",
       "      <th>mean compactness</th>\n",
       "      <th>mean concavity</th>\n",
       "      <th>mean concave points</th>\n",
       "      <th>mean symmetry</th>\n",
       "      <th>mean fractal dimension</th>\n",
       "      <th>...</th>\n",
       "      <th>worst texture</th>\n",
       "      <th>worst perimeter</th>\n",
       "      <th>worst area</th>\n",
       "      <th>worst smoothness</th>\n",
       "      <th>worst compactness</th>\n",
       "      <th>worst concavity</th>\n",
       "      <th>worst concave points</th>\n",
       "      <th>worst symmetry</th>\n",
       "      <th>worst fractal dimension</th>\n",
       "      <th>target</th>\n",
       "    </tr>\n",
       "  </thead>\n",
       "  <tbody>\n",
       "    <tr>\n",
       "      <th>0</th>\n",
       "      <td>17.99</td>\n",
       "      <td>10.38</td>\n",
       "      <td>122.8</td>\n",
       "      <td>1001.0</td>\n",
       "      <td>0.11840</td>\n",
       "      <td>0.27760</td>\n",
       "      <td>0.3001</td>\n",
       "      <td>0.14710</td>\n",
       "      <td>0.2419</td>\n",
       "      <td>0.07871</td>\n",
       "      <td>...</td>\n",
       "      <td>17.33</td>\n",
       "      <td>184.6</td>\n",
       "      <td>2019.0</td>\n",
       "      <td>0.1622</td>\n",
       "      <td>0.6656</td>\n",
       "      <td>0.7119</td>\n",
       "      <td>0.2654</td>\n",
       "      <td>0.4601</td>\n",
       "      <td>0.11890</td>\n",
       "      <td>0</td>\n",
       "    </tr>\n",
       "    <tr>\n",
       "      <th>1</th>\n",
       "      <td>20.57</td>\n",
       "      <td>17.77</td>\n",
       "      <td>132.9</td>\n",
       "      <td>1326.0</td>\n",
       "      <td>0.08474</td>\n",
       "      <td>0.07864</td>\n",
       "      <td>0.0869</td>\n",
       "      <td>0.07017</td>\n",
       "      <td>0.1812</td>\n",
       "      <td>0.05667</td>\n",
       "      <td>...</td>\n",
       "      <td>23.41</td>\n",
       "      <td>158.8</td>\n",
       "      <td>1956.0</td>\n",
       "      <td>0.1238</td>\n",
       "      <td>0.1866</td>\n",
       "      <td>0.2416</td>\n",
       "      <td>0.1860</td>\n",
       "      <td>0.2750</td>\n",
       "      <td>0.08902</td>\n",
       "      <td>0</td>\n",
       "    </tr>\n",
       "  </tbody>\n",
       "</table>\n",
       "<p>2 rows × 31 columns</p>\n",
       "</div>"
      ],
      "text/plain": [
       "   mean radius  mean texture  mean perimeter  mean area  mean smoothness  \\\n",
       "0        17.99         10.38           122.8     1001.0          0.11840   \n",
       "1        20.57         17.77           132.9     1326.0          0.08474   \n",
       "\n",
       "   mean compactness  mean concavity  mean concave points  mean symmetry  \\\n",
       "0           0.27760          0.3001              0.14710         0.2419   \n",
       "1           0.07864          0.0869              0.07017         0.1812   \n",
       "\n",
       "   mean fractal dimension  ...  worst texture  worst perimeter  worst area  \\\n",
       "0                 0.07871  ...          17.33            184.6      2019.0   \n",
       "1                 0.05667  ...          23.41            158.8      1956.0   \n",
       "\n",
       "   worst smoothness  worst compactness  worst concavity  worst concave points  \\\n",
       "0            0.1622             0.6656           0.7119                0.2654   \n",
       "1            0.1238             0.1866           0.2416                0.1860   \n",
       "\n",
       "   worst symmetry  worst fractal dimension  target  \n",
       "0          0.4601                  0.11890       0  \n",
       "1          0.2750                  0.08902       0  \n",
       "\n",
       "[2 rows x 31 columns]"
      ]
     },
     "execution_count": 36,
     "metadata": {},
     "output_type": "execute_result"
    }
   ],
   "source": [
    "cancer_df = pd.DataFrame(data=X_features, columns=dataset.feature_names)\n",
    "cancer_df['target'] = y_label\n",
    "cancer_df.head(2)"
   ]
  },
  {
   "cell_type": "code",
   "execution_count": 37,
   "id": "9043780e-7921-4858-a8c6-ed7816d501d0",
   "metadata": {},
   "outputs": [
    {
     "data": {
      "text/plain": [
       "array(['malignant', 'benign'], dtype='<U9')"
      ]
     },
     "execution_count": 37,
     "metadata": {},
     "output_type": "execute_result"
    }
   ],
   "source": [
    "dataset.target_names"
   ]
  },
  {
   "cell_type": "code",
   "execution_count": 38,
   "id": "7ee32945-ff01-4e57-bf2c-fef0fb2558da",
   "metadata": {},
   "outputs": [
    {
     "data": {
      "text/plain": [
       "1    357\n",
       "0    212\n",
       "Name: target, dtype: int64"
      ]
     },
     "execution_count": 38,
     "metadata": {},
     "output_type": "execute_result"
    }
   ],
   "source": [
    "# target 데이터의 비율 확인하기\n",
    "cancer_df['target'].value_counts()"
   ]
  },
  {
   "cell_type": "code",
   "execution_count": 39,
   "id": "64de7352-0ad5-4ebb-a153-4cbb893b8a4f",
   "metadata": {},
   "outputs": [],
   "source": [
    "X_train, X_test, y_train, y_test = train_test_split(X_features, y_label, test_size=0.2, random_state=156)"
   ]
  },
  {
   "cell_type": "code",
   "execution_count": 40,
   "id": "fea8f133-a046-421d-8ce8-9ffa3c5e852f",
   "metadata": {},
   "outputs": [
    {
     "data": {
      "text/plain": [
       "((455, 30), (114, 30))"
      ]
     },
     "execution_count": 40,
     "metadata": {},
     "output_type": "execute_result"
    }
   ],
   "source": [
    "X_train.shape, X_test.shape"
   ]
  },
  {
   "cell_type": "code",
   "execution_count": 41,
   "id": "1d50c119-78a6-48c1-b55d-9170a908c0fe",
   "metadata": {},
   "outputs": [],
   "source": [
    "# XGB는 DMatrix 만들어서 데이터를 넘겨줘야한다!\n",
    "dtrain = xgb.DMatrix(data=X_train, label=y_train)\n",
    "dtest = xgb.DMatrix(data=X_test, label=y_test)"
   ]
  },
  {
   "cell_type": "code",
   "execution_count": 42,
   "id": "ac4f5c51-4da1-422e-b95c-a0e6a25f0e71",
   "metadata": {
    "collapsed": true,
    "jupyter": {
     "outputs_hidden": true
    },
    "tags": []
   },
   "outputs": [
    {
     "name": "stdout",
     "output_type": "stream",
     "text": [
      "[16:12:41] WARNING: ..\\src\\learner.cc:576: \n",
      "Parameters: { \"early_stoppings\" } might not be used.\n",
      "\n",
      "  This could be a false alarm, with some parameters getting used by language bindings but\n",
      "  then being mistakenly passed down to XGBoost core, or some parameter actually being used\n",
      "  but getting flagged wrongly here. Please open an issue if you find any such cases.\n",
      "\n",
      "\n",
      "[0]\ttrain-logloss:0.46775\teval-logloss:0.47984\n",
      "[1]\ttrain-logloss:0.33578\teval-logloss:0.36218\n",
      "[2]\ttrain-logloss:0.25254\teval-logloss:0.29004\n",
      "[3]\ttrain-logloss:0.19584\teval-logloss:0.23382\n",
      "[4]\ttrain-logloss:0.15664\teval-logloss:0.19901\n",
      "[5]\ttrain-logloss:0.12663\teval-logloss:0.17469\n",
      "[6]\ttrain-logloss:0.10353\teval-logloss:0.15549\n",
      "[7]\ttrain-logloss:0.08545\teval-logloss:0.13367\n",
      "[8]\ttrain-logloss:0.07277\teval-logloss:0.12411\n",
      "[9]\ttrain-logloss:0.06333\teval-logloss:0.11611\n",
      "[10]\ttrain-logloss:0.05484\teval-logloss:0.10768\n",
      "[11]\ttrain-logloss:0.04787\teval-logloss:0.10018\n",
      "[12]\ttrain-logloss:0.04334\teval-logloss:0.09754\n",
      "[13]\ttrain-logloss:0.03794\teval-logloss:0.08920\n",
      "[14]\ttrain-logloss:0.03308\teval-logloss:0.09259\n",
      "[15]\ttrain-logloss:0.02942\teval-logloss:0.09144\n",
      "[16]\ttrain-logloss:0.02689\teval-logloss:0.09066\n",
      "[17]\ttrain-logloss:0.02439\teval-logloss:0.09058\n",
      "[18]\ttrain-logloss:0.02226\teval-logloss:0.08894\n",
      "[19]\ttrain-logloss:0.02053\teval-logloss:0.08622\n",
      "[20]\ttrain-logloss:0.01891\teval-logloss:0.08694\n",
      "[21]\ttrain-logloss:0.01766\teval-logloss:0.08437\n",
      "[22]\ttrain-logloss:0.01649\teval-logloss:0.08092\n",
      "[23]\ttrain-logloss:0.01547\teval-logloss:0.08404\n",
      "[24]\ttrain-logloss:0.01457\teval-logloss:0.08252\n",
      "[25]\ttrain-logloss:0.01381\teval-logloss:0.08363\n",
      "[26]\ttrain-logloss:0.01322\teval-logloss:0.08221\n",
      "[27]\ttrain-logloss:0.01285\teval-logloss:0.08006\n",
      "[28]\ttrain-logloss:0.01222\teval-logloss:0.08012\n",
      "[29]\ttrain-logloss:0.01170\teval-logloss:0.08106\n",
      "[30]\ttrain-logloss:0.01127\teval-logloss:0.07912\n",
      "[31]\ttrain-logloss:0.01086\teval-logloss:0.07902\n",
      "[32]\ttrain-logloss:0.01044\teval-logloss:0.07828\n",
      "[33]\ttrain-logloss:0.01009\teval-logloss:0.07763\n",
      "[34]\ttrain-logloss:0.00977\teval-logloss:0.07815\n",
      "[35]\ttrain-logloss:0.00948\teval-logloss:0.07717\n",
      "[36]\ttrain-logloss:0.00916\teval-logloss:0.08030\n",
      "[37]\ttrain-logloss:0.00899\teval-logloss:0.07981\n",
      "[38]\ttrain-logloss:0.00875\teval-logloss:0.07970\n",
      "[39]\ttrain-logloss:0.00862\teval-logloss:0.07979\n",
      "[40]\ttrain-logloss:0.00842\teval-logloss:0.08142\n",
      "[41]\ttrain-logloss:0.00826\teval-logloss:0.08108\n",
      "[42]\ttrain-logloss:0.00817\teval-logloss:0.08093\n",
      "[43]\ttrain-logloss:0.00791\teval-logloss:0.08288\n",
      "[44]\ttrain-logloss:0.00783\teval-logloss:0.08297\n",
      "[45]\ttrain-logloss:0.00775\teval-logloss:0.08286\n",
      "[46]\ttrain-logloss:0.00757\teval-logloss:0.08421\n",
      "[47]\ttrain-logloss:0.00749\teval-logloss:0.08398\n",
      "[48]\ttrain-logloss:0.00741\teval-logloss:0.08323\n",
      "[49]\ttrain-logloss:0.00734\teval-logloss:0.08398\n",
      "[50]\ttrain-logloss:0.00727\teval-logloss:0.08317\n",
      "[51]\ttrain-logloss:0.00721\teval-logloss:0.08331\n",
      "[52]\ttrain-logloss:0.00714\teval-logloss:0.08325\n",
      "[53]\ttrain-logloss:0.00708\teval-logloss:0.08248\n",
      "[54]\ttrain-logloss:0.00702\teval-logloss:0.08220\n",
      "[55]\ttrain-logloss:0.00696\teval-logloss:0.08152\n",
      "[56]\ttrain-logloss:0.00690\teval-logloss:0.08139\n",
      "[57]\ttrain-logloss:0.00683\teval-logloss:0.08152\n",
      "[58]\ttrain-logloss:0.00678\teval-logloss:0.08088\n",
      "[59]\ttrain-logloss:0.00672\teval-logloss:0.08083\n",
      "[60]\ttrain-logloss:0.00667\teval-logloss:0.08148\n",
      "[61]\ttrain-logloss:0.00662\teval-logloss:0.08076\n",
      "[62]\ttrain-logloss:0.00656\teval-logloss:0.08069\n",
      "[63]\ttrain-logloss:0.00652\teval-logloss:0.08011\n",
      "[64]\ttrain-logloss:0.00647\teval-logloss:0.07985\n",
      "[65]\ttrain-logloss:0.00642\teval-logloss:0.08013\n",
      "[66]\ttrain-logloss:0.00637\teval-logloss:0.08075\n",
      "[67]\ttrain-logloss:0.00633\teval-logloss:0.08075\n",
      "[68]\ttrain-logloss:0.00628\teval-logloss:0.08018\n",
      "[69]\ttrain-logloss:0.00624\teval-logloss:0.08022\n",
      "[70]\ttrain-logloss:0.00620\teval-logloss:0.08028\n",
      "[71]\ttrain-logloss:0.00615\teval-logloss:0.08027\n",
      "[72]\ttrain-logloss:0.00612\teval-logloss:0.08066\n",
      "[73]\ttrain-logloss:0.00607\teval-logloss:0.08046\n",
      "[74]\ttrain-logloss:0.00604\teval-logloss:0.08022\n",
      "[75]\ttrain-logloss:0.00600\teval-logloss:0.08049\n",
      "[76]\ttrain-logloss:0.00596\teval-logloss:0.08103\n",
      "[77]\ttrain-logloss:0.00592\teval-logloss:0.08086\n",
      "[78]\ttrain-logloss:0.00589\teval-logloss:0.08093\n",
      "[79]\ttrain-logloss:0.00585\teval-logloss:0.08098\n",
      "[80]\ttrain-logloss:0.00582\teval-logloss:0.08100\n",
      "[81]\ttrain-logloss:0.00579\teval-logloss:0.08151\n",
      "[82]\ttrain-logloss:0.00576\teval-logloss:0.08136\n",
      "[83]\ttrain-logloss:0.00573\teval-logloss:0.08115\n",
      "[84]\ttrain-logloss:0.00570\teval-logloss:0.08078\n",
      "[85]\ttrain-logloss:0.00567\teval-logloss:0.08082\n",
      "[86]\ttrain-logloss:0.00564\teval-logloss:0.08086\n",
      "[87]\ttrain-logloss:0.00562\teval-logloss:0.08052\n",
      "[88]\ttrain-logloss:0.00559\teval-logloss:0.08057\n",
      "[89]\ttrain-logloss:0.00557\teval-logloss:0.08081\n",
      "[90]\ttrain-logloss:0.00554\teval-logloss:0.08051\n",
      "[91]\ttrain-logloss:0.00552\teval-logloss:0.08086\n",
      "[92]\ttrain-logloss:0.00549\teval-logloss:0.08069\n",
      "[93]\ttrain-logloss:0.00547\teval-logloss:0.08040\n",
      "[94]\ttrain-logloss:0.00545\teval-logloss:0.08045\n",
      "[95]\ttrain-logloss:0.00543\teval-logloss:0.08050\n",
      "[96]\ttrain-logloss:0.00541\teval-logloss:0.08072\n",
      "[97]\ttrain-logloss:0.00539\teval-logloss:0.08045\n",
      "[98]\ttrain-logloss:0.00537\teval-logloss:0.08078\n",
      "[99]\ttrain-logloss:0.00535\teval-logloss:0.08044\n",
      "[100]\ttrain-logloss:0.00533\teval-logloss:0.08018\n",
      "[101]\ttrain-logloss:0.00531\teval-logloss:0.08049\n",
      "[102]\ttrain-logloss:0.00529\teval-logloss:0.08070\n",
      "[103]\ttrain-logloss:0.00527\teval-logloss:0.08045\n",
      "[104]\ttrain-logloss:0.00526\teval-logloss:0.08013\n",
      "[105]\ttrain-logloss:0.00524\teval-logloss:0.08007\n",
      "[106]\ttrain-logloss:0.00522\teval-logloss:0.08011\n",
      "[107]\ttrain-logloss:0.00520\teval-logloss:0.07986\n",
      "[108]\ttrain-logloss:0.00519\teval-logloss:0.08016\n",
      "[109]\ttrain-logloss:0.00517\teval-logloss:0.08036\n",
      "[110]\ttrain-logloss:0.00515\teval-logloss:0.08013\n",
      "[111]\ttrain-logloss:0.00514\teval-logloss:0.08019\n",
      "[112]\ttrain-logloss:0.00512\teval-logloss:0.08023\n",
      "[113]\ttrain-logloss:0.00511\teval-logloss:0.07999\n",
      "[114]\ttrain-logloss:0.00509\teval-logloss:0.08028\n",
      "[115]\ttrain-logloss:0.00508\teval-logloss:0.08048\n",
      "[116]\ttrain-logloss:0.00506\teval-logloss:0.08017\n",
      "[117]\ttrain-logloss:0.00505\teval-logloss:0.07995\n",
      "[118]\ttrain-logloss:0.00503\teval-logloss:0.07990\n",
      "[119]\ttrain-logloss:0.00502\teval-logloss:0.07994\n",
      "[120]\ttrain-logloss:0.00501\teval-logloss:0.07997\n",
      "[121]\ttrain-logloss:0.00500\teval-logloss:0.08002\n",
      "[122]\ttrain-logloss:0.00498\teval-logloss:0.08006\n",
      "[123]\ttrain-logloss:0.00497\teval-logloss:0.07986\n",
      "[124]\ttrain-logloss:0.00496\teval-logloss:0.08012\n",
      "[125]\ttrain-logloss:0.00494\teval-logloss:0.08031\n",
      "[126]\ttrain-logloss:0.00493\teval-logloss:0.08004\n",
      "[127]\ttrain-logloss:0.00492\teval-logloss:0.07984\n",
      "[128]\ttrain-logloss:0.00491\teval-logloss:0.08009\n",
      "[129]\ttrain-logloss:0.00490\teval-logloss:0.07974\n",
      "[130]\ttrain-logloss:0.00489\teval-logloss:0.07978\n",
      "[131]\ttrain-logloss:0.00488\teval-logloss:0.07982\n",
      "[132]\ttrain-logloss:0.00487\teval-logloss:0.07963\n",
      "[133]\ttrain-logloss:0.00486\teval-logloss:0.07980\n",
      "[134]\ttrain-logloss:0.00485\teval-logloss:0.07956\n",
      "[135]\ttrain-logloss:0.00484\teval-logloss:0.07939\n"
     ]
    }
   ],
   "source": [
    "params = {\n",
    "    'max_depth' : 3,\n",
    "    'objective' : 'binary:logistic',\n",
    "    'eval_metric' : 'logloss',\n",
    "    'early_stoppings' : 100, # 100번 동안에 성능 개선이 없을 경우 멈춘다.\n",
    "}\n",
    "\n",
    "num_rounds = 400\n",
    "\n",
    "wlist = [(dtrain, 'train'), (dtest, 'eval')]\n",
    "xgb_model = xgb.train(params=params, dtrain=dtrain, num_boost_round=num_rounds,\n",
    "                      early_stopping_rounds=100,\n",
    "                      evals=wlist)"
   ]
  },
  {
   "cell_type": "code",
   "execution_count": 43,
   "id": "0a947235-20b3-4aab-bf08-4ec4d5e6e42c",
   "metadata": {},
   "outputs": [
    {
     "data": {
      "text/plain": [
       "array([9.7849441e-01, 3.8310601e-03, 9.4475126e-01, 5.4276973e-02,\n",
       "       9.9449289e-01, 9.9998605e-01, 9.9978822e-01, 9.9959677e-01,\n",
       "       9.9818242e-01, 7.6262520e-05, 8.5400556e-05, 8.7273998e-05,\n",
       "       9.9985099e-01, 9.9994135e-01, 9.9899274e-01, 9.9138582e-01,\n",
       "       9.9554789e-01, 9.9993980e-01, 9.9968743e-01, 9.9975663e-01,\n",
       "       8.0555456e-04, 5.5488956e-01, 1.2712798e-04, 9.9998760e-01,\n",
       "       1.5862775e-04, 6.6383767e-01, 2.2517648e-03, 1.5270994e-04,\n",
       "       9.9968803e-01, 5.2804612e-02, 9.9891365e-01, 1.6868571e-04,\n",
       "       9.9267286e-01, 7.9403830e-01, 1.2954368e-03, 5.3546857e-05,\n",
       "       9.9951720e-01, 9.9932575e-01, 3.0032575e-01, 9.9990332e-01,\n",
       "       1.1817576e-01, 9.9840575e-01, 9.9957114e-01, 9.9984813e-01,\n",
       "       9.9951065e-01, 9.8719770e-01, 9.1385338e-03, 9.9985731e-01,\n",
       "       9.9958748e-01, 9.9985397e-01, 9.9906081e-01, 2.7417587e-04,\n",
       "       9.9958986e-01, 9.9991405e-01, 9.9980885e-01, 9.9966490e-01,\n",
       "       9.9993479e-01, 9.9475622e-01, 9.9967134e-01, 9.7636569e-01,\n",
       "       9.9941730e-01, 9.7283292e-01, 4.9203954e-04, 4.8878597e-04,\n",
       "       9.9975282e-01, 9.9944812e-01, 4.2887981e-04, 9.8388737e-01,\n",
       "       9.9994040e-01, 9.9980778e-01, 2.6466901e-04, 9.9913990e-01,\n",
       "       2.5339038e-04, 9.9901426e-01, 9.9951744e-01, 1.8103603e-04,\n",
       "       9.9988353e-01, 9.9992490e-01, 9.9996495e-01, 5.5823028e-05,\n",
       "       8.3710416e-05, 9.9093139e-01, 9.9972683e-01, 9.9975520e-01,\n",
       "       9.9961036e-01, 9.9533647e-01, 9.9917442e-01, 9.9981135e-01,\n",
       "       9.9252510e-01, 1.0832118e-04, 2.8525716e-01, 9.9994242e-01,\n",
       "       6.6945190e-04, 1.4517744e-03, 9.9983025e-01, 3.5453173e-03,\n",
       "       3.6355583e-03, 9.9918562e-01, 2.2223129e-04, 8.4803885e-01,\n",
       "       2.0040150e-03, 5.1954924e-04, 9.9718481e-01, 9.9763262e-01,\n",
       "       3.8066155e-01, 9.9904412e-01, 9.9960202e-01, 9.8497438e-01,\n",
       "       9.9959022e-01, 9.9995112e-01, 4.9015266e-01, 9.9951911e-01,\n",
       "       9.9946922e-01, 9.9909735e-01], dtype=float32)"
      ]
     },
     "execution_count": 43,
     "metadata": {},
     "output_type": "execute_result"
    }
   ],
   "source": [
    "pred_probs = xgb_model.predict(dtest)\n",
    "pred_probs"
   ]
  },
  {
   "cell_type": "code",
   "execution_count": 46,
   "id": "c68b2a92-00ed-40d4-993f-7792b5a8204a",
   "metadata": {},
   "outputs": [
    {
     "data": {
      "text/plain": [
       "array([0.978, 0.004, 0.945, 0.054, 0.994, 1.   , 1.   , 1.   , 0.998,\n",
       "       0.   , 0.   , 0.   , 1.   , 1.   , 0.999, 0.991, 0.996, 1.   ,\n",
       "       1.   , 1.   ], dtype=float32)"
      ]
     },
     "execution_count": 46,
     "metadata": {},
     "output_type": "execute_result"
    }
   ],
   "source": [
    "np.round(pred_probs, 3)[:20]"
   ]
  },
  {
   "cell_type": "code",
   "execution_count": 47,
   "id": "64038969-c02e-4563-b42d-1d609e859105",
   "metadata": {},
   "outputs": [
    {
     "data": {
      "text/plain": [
       "[1, 0, 1, 0, 1, 1, 1, 1, 1, 0]"
      ]
     },
     "execution_count": 47,
     "metadata": {},
     "output_type": "execute_result"
    }
   ],
   "source": [
    "preds = [1 if x > 0.5 else 0 for x in pred_probs]\n",
    "preds[:10]"
   ]
  },
  {
   "cell_type": "code",
   "execution_count": 58,
   "id": "78b709de-12c8-4741-a0c3-3fceac3d100a",
   "metadata": {},
   "outputs": [],
   "source": [
    "def get_clf_eval(y_test, pred, pred_proba) :\n",
    "    from sklearn.metrics import confusion_matrix, precision_score, recall_score, f1_score, roc_auc_score\n",
    "    confusion = confusion_matrix(y_test, pred)\n",
    "    accuracy = accuracy_score(y_test, pred)\n",
    "    precision = precision_score(y_test, pred)\n",
    "    recall = recall_score(y_test, pred)\n",
    "    f1 = f1_score(y_test, pred)\n",
    "    auc = roc_auc_score(y_test, pred_proba)\n",
    "    \n",
    "    print('오차행렬')\n",
    "    print(confusion)\n",
    "    print()\n",
    "    print(f'정확도 : {accuracy:.4f}, 정밀도 : {precision:.4f}, 재현율 : {recall:.4f}, F1 : {f1:.4f}, AUC : {auc:.4f}')"
   ]
  },
  {
   "cell_type": "code",
   "execution_count": 59,
   "id": "fc2cab0b-187c-4273-b55c-224b4a9fcb8a",
   "metadata": {},
   "outputs": [
    {
     "name": "stdout",
     "output_type": "stream",
     "text": [
      "오차행렬\n",
      "[[35  2]\n",
      " [ 2 75]]\n",
      "\n",
      "정확도 : 0.9649, 정밀도 : 0.9740, 재현율 : 0.9740, F1 : 0.9740, AUC : 0.9961\n"
     ]
    }
   ],
   "source": [
    "get_clf_eval(y_test, preds, pred_probs)"
   ]
  },
  {
   "cell_type": "code",
   "execution_count": null,
   "id": "7887aab6-18a1-4445-bee3-de9becb0cc33",
   "metadata": {},
   "outputs": [],
   "source": []
  },
  {
   "cell_type": "code",
   "execution_count": 62,
   "id": "036bd0d5-bfbf-4eec-82c8-d1e704d85862",
   "metadata": {},
   "outputs": [
    {
     "data": {
      "text/plain": [
       "<AxesSubplot:title={'center':'Feature importance'}, xlabel='F score', ylabel='Features'>"
      ]
     },
     "execution_count": 62,
     "metadata": {},
     "output_type": "execute_result"
    },
    {
     "data": {
      "image/png": "[encoded data removed]",
      "text/plain": [
       "<Figure size 432x288 with 1 Axes>"
      ]
     },
     "metadata": {
      "needs_background": "light"
     },
     "output_type": "display_data"
    }
   ],
   "source": [
    "from xgboost import plot_importance\n",
    "\n",
    "plot_importance(xgb_model)"
   ]
  },
  {
   "cell_type": "markdown",
   "id": "73bb49fa-b10c-4763-84e8-cdba2ba91a63",
   "metadata": {},
   "source": [
    "---"
   ]
  },
  {
   "cell_type": "code",
   "execution_count": 63,
   "id": "4240a6f3-aca0-4375-8861-f39d109eb98d",
   "metadata": {},
   "outputs": [],
   "source": [
    "from xgboost import XGBClassifier"
   ]
  },
  {
   "cell_type": "code",
   "execution_count": 64,
   "id": "497c933b-e06f-42c8-a210-a4fcb689626e",
   "metadata": {},
   "outputs": [
    {
     "name": "stdout",
     "output_type": "stream",
     "text": [
      "[16:45:38] WARNING: ..\\src\\learner.cc:1115: Starting in XGBoost 1.3.0, the default evaluation metric used with the objective 'binary:logistic' was changed from 'error' to 'logloss'. Explicitly set eval_metric if you'd like to restore the old behavior.\n",
      "오차행렬\n",
      "[[35  2]\n",
      " [ 1 76]]\n",
      "\n",
      "정확도 : 0.9737, 정밀도 : 0.9744, 재현율 : 0.9870, F1 : 0.9806, AUC : 0.9951\n"
     ]
    }
   ],
   "source": [
    "xgb_wrapper = XGBClassifier(n_estimators=400, learning_rate=0.1, max_depth=3)\n",
    "xgb_wrapper.fit(X_train, y_train)\n",
    "w_preds = xgb_wrapper.predict(X_test)\n",
    "w_preds_proba = xgb_wrapper.predict_proba(X_test)[:,1]\n",
    "\n",
    "get_clf_eval(y_test, w_preds, w_preds_proba)"
   ]
  },
  {
   "cell_type": "code",
   "execution_count": 66,
   "id": "ee87168a-c60e-426b-aaef-7ad09a96246f",
   "metadata": {},
   "outputs": [
    {
     "name": "stdout",
     "output_type": "stream",
     "text": [
      "[0]\tvalidation_0-logloss:0.61352\n",
      "[1]\tvalidation_0-logloss:0.54784\n",
      "[2]\tvalidation_0-logloss:0.49425\n",
      "[3]\tvalidation_0-logloss:0.44799\n",
      "[4]\tvalidation_0-logloss:0.40911\n",
      "[5]\tvalidation_0-logloss:0.37498\n",
      "[6]\tvalidation_0-logloss:0.34571\n",
      "[7]\tvalidation_0-logloss:0.32053\n",
      "[8]\tvalidation_0-logloss:0.29721\n",
      "[9]\tvalidation_0-logloss:0.27799\n",
      "[10]\tvalidation_0-logloss:0.26030\n",
      "[11]\tvalidation_0-logloss:0.24604\n",
      "[12]\tvalidation_0-logloss:0.23156\n",
      "[13]\tvalidation_0-logloss:0.22005\n",
      "[14]\tvalidation_0-logloss:0.20857\n",
      "[15]\tvalidation_0-logloss:0.19999\n",
      "[16]\tvalidation_0-logloss:0.19012\n",
      "[17]\tvalidation_0-logloss:0.18182\n",
      "[18]\tvalidation_0-logloss:0.17473\n",
      "[19]\tvalidation_0-logloss:0.16766\n",
      "[20]\tvalidation_0-logloss:0.15820\n",
      "[21]\tvalidation_0-logloss:0.15473\n",
      "[22]\tvalidation_0-logloss:0.14895\n",
      "[23]\tvalidation_0-logloss:0.14331\n",
      "[24]\tvalidation_0-logloss:0.13634\n",
      "[25]\tvalidation_0-logloss:0.13278\n",
      "[26]\tvalidation_0-logloss:0.12791\n",
      "[27]\tvalidation_0-logloss:0.12526\n",
      "[28]\tvalidation_0-logloss:0.11998\n",
      "[29]\tvalidation_0-logloss:0.11641\n",
      "[30]\tvalidation_0-logloss:0.11450\n",
      "[31]\tvalidation_0-logloss:0.11257\n",
      "[32]\tvalidation_0-logloss:0.11154\n",
      "[33]\tvalidation_0-logloss:0.10868\n",
      "[34]\tvalidation_0-logloss:0.10668\n",
      "[35]\tvalidation_0-logloss:0.10421\n",
      "[36]\tvalidation_0-logloss:0.10296\n",
      "[37]\tvalidation_0-logloss:0.10058\n",
      "[38]\tvalidation_0-logloss:0.09868\n",
      "[39]\tvalidation_0-logloss:0.09644\n",
      "[40]\tvalidation_0-logloss:0.09587\n",
      "[41]\tvalidation_0-logloss:0.09424\n",
      "[42]\tvalidation_0-logloss:0.09471\n",
      "[43]\tvalidation_0-logloss:0.09427\n",
      "[44]\tvalidation_0-logloss:0.09389\n",
      "[45]\tvalidation_0-logloss:0.09418\n",
      "[46]\tvalidation_0-logloss:0.09402\n",
      "[47]\tvalidation_0-logloss:0.09236\n",
      "[48]\tvalidation_0-logloss:0.09301\n",
      "[49]\tvalidation_0-logloss:0.09127\n",
      "[50]\tvalidation_0-logloss:0.09005\n",
      "[51]\tvalidation_0-logloss:0.08961\n",
      "[52]\tvalidation_0-logloss:0.08958\n",
      "[53]\tvalidation_0-logloss:0.09070\n",
      "[54]\tvalidation_0-logloss:0.08958\n",
      "[55]\tvalidation_0-logloss:0.09036\n",
      "[56]\tvalidation_0-logloss:0.09159\n",
      "[57]\tvalidation_0-logloss:0.09153\n",
      "[58]\tvalidation_0-logloss:0.09199\n",
      "[59]\tvalidation_0-logloss:0.09195\n",
      "[60]\tvalidation_0-logloss:0.09194\n",
      "[61]\tvalidation_0-logloss:0.09146\n",
      "[62]\tvalidation_0-logloss:0.09031\n",
      "[63]\tvalidation_0-logloss:0.08941\n",
      "[64]\tvalidation_0-logloss:0.08972\n",
      "[65]\tvalidation_0-logloss:0.08974\n",
      "[66]\tvalidation_0-logloss:0.08962\n",
      "[67]\tvalidation_0-logloss:0.08873\n",
      "[68]\tvalidation_0-logloss:0.08862\n",
      "[69]\tvalidation_0-logloss:0.08974\n",
      "[70]\tvalidation_0-logloss:0.08998\n",
      "[71]\tvalidation_0-logloss:0.08978\n",
      "[72]\tvalidation_0-logloss:0.08958\n",
      "[73]\tvalidation_0-logloss:0.08953\n",
      "[74]\tvalidation_0-logloss:0.08875\n",
      "[75]\tvalidation_0-logloss:0.08860\n",
      "[76]\tvalidation_0-logloss:0.08812\n",
      "[77]\tvalidation_0-logloss:0.08840\n",
      "[78]\tvalidation_0-logloss:0.08874\n",
      "[79]\tvalidation_0-logloss:0.08815\n",
      "[80]\tvalidation_0-logloss:0.08758\n",
      "[81]\tvalidation_0-logloss:0.08741\n",
      "[82]\tvalidation_0-logloss:0.08849\n",
      "[83]\tvalidation_0-logloss:0.08858\n",
      "[84]\tvalidation_0-logloss:0.08807\n",
      "[85]\tvalidation_0-logloss:0.08764\n",
      "[86]\tvalidation_0-logloss:0.08742\n",
      "[87]\tvalidation_0-logloss:0.08761\n",
      "[88]\tvalidation_0-logloss:0.08707\n",
      "[89]\tvalidation_0-logloss:0.08727\n",
      "[90]\tvalidation_0-logloss:0.08716\n",
      "[91]\tvalidation_0-logloss:0.08696\n",
      "[92]\tvalidation_0-logloss:0.08717\n",
      "[93]\tvalidation_0-logloss:0.08707\n",
      "[94]\tvalidation_0-logloss:0.08659\n",
      "[95]\tvalidation_0-logloss:0.08612\n",
      "[96]\tvalidation_0-logloss:0.08714\n",
      "[97]\tvalidation_0-logloss:0.08677\n",
      "[98]\tvalidation_0-logloss:0.08669\n",
      "[99]\tvalidation_0-logloss:0.08655\n",
      "[100]\tvalidation_0-logloss:0.08650\n",
      "[101]\tvalidation_0-logloss:0.08641\n",
      "[102]\tvalidation_0-logloss:0.08629\n",
      "[103]\tvalidation_0-logloss:0.08626\n",
      "[104]\tvalidation_0-logloss:0.08683\n",
      "[105]\tvalidation_0-logloss:0.08677\n",
      "[106]\tvalidation_0-logloss:0.08732\n",
      "[107]\tvalidation_0-logloss:0.08730\n",
      "[108]\tvalidation_0-logloss:0.08728\n",
      "[109]\tvalidation_0-logloss:0.08730\n",
      "[110]\tvalidation_0-logloss:0.08729\n",
      "[111]\tvalidation_0-logloss:0.08800\n",
      "[112]\tvalidation_0-logloss:0.08794\n",
      "[113]\tvalidation_0-logloss:0.08784\n",
      "[114]\tvalidation_0-logloss:0.08807\n",
      "[115]\tvalidation_0-logloss:0.08765\n",
      "[116]\tvalidation_0-logloss:0.08730\n",
      "[117]\tvalidation_0-logloss:0.08780\n",
      "[118]\tvalidation_0-logloss:0.08775\n",
      "[119]\tvalidation_0-logloss:0.08768\n",
      "[120]\tvalidation_0-logloss:0.08763\n",
      "[121]\tvalidation_0-logloss:0.08757\n",
      "[122]\tvalidation_0-logloss:0.08755\n",
      "[123]\tvalidation_0-logloss:0.08716\n",
      "[124]\tvalidation_0-logloss:0.08767\n",
      "[125]\tvalidation_0-logloss:0.08774\n",
      "[126]\tvalidation_0-logloss:0.08828\n",
      "[127]\tvalidation_0-logloss:0.08831\n",
      "[128]\tvalidation_0-logloss:0.08827\n",
      "[129]\tvalidation_0-logloss:0.08789\n",
      "[130]\tvalidation_0-logloss:0.08886\n",
      "[131]\tvalidation_0-logloss:0.08868\n",
      "[132]\tvalidation_0-logloss:0.08874\n",
      "[133]\tvalidation_0-logloss:0.08922\n",
      "[134]\tvalidation_0-logloss:0.08918\n",
      "[135]\tvalidation_0-logloss:0.08882\n",
      "[136]\tvalidation_0-logloss:0.08851\n",
      "[137]\tvalidation_0-logloss:0.08848\n",
      "[138]\tvalidation_0-logloss:0.08839\n",
      "[139]\tvalidation_0-logloss:0.08915\n",
      "[140]\tvalidation_0-logloss:0.08911\n",
      "[141]\tvalidation_0-logloss:0.08876\n",
      "[142]\tvalidation_0-logloss:0.08868\n",
      "[143]\tvalidation_0-logloss:0.08839\n",
      "[144]\tvalidation_0-logloss:0.08927\n",
      "[145]\tvalidation_0-logloss:0.08924\n",
      "[146]\tvalidation_0-logloss:0.08914\n",
      "[147]\tvalidation_0-logloss:0.08891\n",
      "[148]\tvalidation_0-logloss:0.08942\n",
      "[149]\tvalidation_0-logloss:0.08939\n",
      "[150]\tvalidation_0-logloss:0.08911\n",
      "[151]\tvalidation_0-logloss:0.08873\n",
      "[152]\tvalidation_0-logloss:0.08872\n",
      "[153]\tvalidation_0-logloss:0.08848\n",
      "[154]\tvalidation_0-logloss:0.08847\n",
      "[155]\tvalidation_0-logloss:0.08854\n",
      "[156]\tvalidation_0-logloss:0.08852\n",
      "[157]\tvalidation_0-logloss:0.08855\n",
      "[158]\tvalidation_0-logloss:0.08828\n",
      "[159]\tvalidation_0-logloss:0.08830\n",
      "[160]\tvalidation_0-logloss:0.08828\n",
      "[161]\tvalidation_0-logloss:0.08801\n",
      "[162]\tvalidation_0-logloss:0.08776\n",
      "[163]\tvalidation_0-logloss:0.08778\n",
      "[164]\tvalidation_0-logloss:0.08778\n",
      "[165]\tvalidation_0-logloss:0.08752\n",
      "[166]\tvalidation_0-logloss:0.08754\n",
      "[167]\tvalidation_0-logloss:0.08764\n",
      "[168]\tvalidation_0-logloss:0.08739\n",
      "[169]\tvalidation_0-logloss:0.08738\n",
      "[170]\tvalidation_0-logloss:0.08730\n",
      "[171]\tvalidation_0-logloss:0.08737\n",
      "[172]\tvalidation_0-logloss:0.08740\n",
      "[173]\tvalidation_0-logloss:0.08739\n",
      "[174]\tvalidation_0-logloss:0.08713\n",
      "[175]\tvalidation_0-logloss:0.08716\n",
      "[176]\tvalidation_0-logloss:0.08696\n",
      "[177]\tvalidation_0-logloss:0.08705\n",
      "[178]\tvalidation_0-logloss:0.08697\n",
      "[179]\tvalidation_0-logloss:0.08697\n",
      "[180]\tvalidation_0-logloss:0.08704\n",
      "[181]\tvalidation_0-logloss:0.08680\n",
      "[182]\tvalidation_0-logloss:0.08683\n",
      "[183]\tvalidation_0-logloss:0.08658\n",
      "[184]\tvalidation_0-logloss:0.08659\n",
      "[185]\tvalidation_0-logloss:0.08661\n",
      "[186]\tvalidation_0-logloss:0.08637\n",
      "[187]\tvalidation_0-logloss:0.08637\n",
      "[188]\tvalidation_0-logloss:0.08630\n",
      "[189]\tvalidation_0-logloss:0.08610\n",
      "[190]\tvalidation_0-logloss:0.08602\n",
      "[191]\tvalidation_0-logloss:0.08605\n",
      "[192]\tvalidation_0-logloss:0.08615\n",
      "[193]\tvalidation_0-logloss:0.08592\n",
      "[194]\tvalidation_0-logloss:0.08592\n",
      "[195]\tvalidation_0-logloss:0.08598\n",
      "[196]\tvalidation_0-logloss:0.08601\n",
      "[197]\tvalidation_0-logloss:0.08592\n",
      "[198]\tvalidation_0-logloss:0.08585\n",
      "[199]\tvalidation_0-logloss:0.08587\n",
      "[200]\tvalidation_0-logloss:0.08589\n",
      "[201]\tvalidation_0-logloss:0.08595\n",
      "[202]\tvalidation_0-logloss:0.08573\n",
      "[203]\tvalidation_0-logloss:0.08573\n",
      "[204]\tvalidation_0-logloss:0.08575\n",
      "[205]\tvalidation_0-logloss:0.08582\n",
      "[206]\tvalidation_0-logloss:0.08584\n",
      "[207]\tvalidation_0-logloss:0.08578\n",
      "[208]\tvalidation_0-logloss:0.08569\n",
      "[209]\tvalidation_0-logloss:0.08571\n",
      "[210]\tvalidation_0-logloss:0.08581\n",
      "[211]\tvalidation_0-logloss:0.08559\n",
      "[212]\tvalidation_0-logloss:0.08580\n",
      "[213]\tvalidation_0-logloss:0.08581\n",
      "[214]\tvalidation_0-logloss:0.08574\n",
      "[215]\tvalidation_0-logloss:0.08566\n",
      "[216]\tvalidation_0-logloss:0.08584\n",
      "[217]\tvalidation_0-logloss:0.08563\n",
      "[218]\tvalidation_0-logloss:0.08573\n",
      "[219]\tvalidation_0-logloss:0.08578\n",
      "[220]\tvalidation_0-logloss:0.08579\n",
      "[221]\tvalidation_0-logloss:0.08582\n",
      "[222]\tvalidation_0-logloss:0.08576\n",
      "[223]\tvalidation_0-logloss:0.08567\n",
      "[224]\tvalidation_0-logloss:0.08586\n",
      "[225]\tvalidation_0-logloss:0.08587\n",
      "[226]\tvalidation_0-logloss:0.08593\n",
      "[227]\tvalidation_0-logloss:0.08595\n",
      "[228]\tvalidation_0-logloss:0.08587\n",
      "[229]\tvalidation_0-logloss:0.08606\n",
      "[230]\tvalidation_0-logloss:0.08600\n",
      "[231]\tvalidation_0-logloss:0.08592\n",
      "[232]\tvalidation_0-logloss:0.08610\n",
      "[233]\tvalidation_0-logloss:0.08611\n",
      "[234]\tvalidation_0-logloss:0.08617\n",
      "[235]\tvalidation_0-logloss:0.08626\n",
      "[236]\tvalidation_0-logloss:0.08629\n",
      "[237]\tvalidation_0-logloss:0.08622\n",
      "[238]\tvalidation_0-logloss:0.08639\n",
      "[239]\tvalidation_0-logloss:0.08634\n",
      "[240]\tvalidation_0-logloss:0.08618\n",
      "[241]\tvalidation_0-logloss:0.08619\n",
      "[242]\tvalidation_0-logloss:0.08625\n",
      "[243]\tvalidation_0-logloss:0.08626\n",
      "[244]\tvalidation_0-logloss:0.08629\n",
      "[245]\tvalidation_0-logloss:0.08622\n",
      "[246]\tvalidation_0-logloss:0.08640\n",
      "[247]\tvalidation_0-logloss:0.08635\n",
      "[248]\tvalidation_0-logloss:0.08628\n",
      "[249]\tvalidation_0-logloss:0.08645\n",
      "[250]\tvalidation_0-logloss:0.08629\n",
      "[251]\tvalidation_0-logloss:0.08631\n",
      "[252]\tvalidation_0-logloss:0.08636\n",
      "[253]\tvalidation_0-logloss:0.08639\n",
      "[254]\tvalidation_0-logloss:0.08649\n",
      "[255]\tvalidation_0-logloss:0.08644\n",
      "[256]\tvalidation_0-logloss:0.08629\n",
      "[257]\tvalidation_0-logloss:0.08646\n",
      "[258]\tvalidation_0-logloss:0.08639\n",
      "[259]\tvalidation_0-logloss:0.08644\n",
      "[260]\tvalidation_0-logloss:0.08646\n",
      "[261]\tvalidation_0-logloss:0.08649\n",
      "[262]\tvalidation_0-logloss:0.08644\n",
      "[263]\tvalidation_0-logloss:0.08647\n",
      "[264]\tvalidation_0-logloss:0.08632\n",
      "[265]\tvalidation_0-logloss:0.08649\n",
      "[266]\tvalidation_0-logloss:0.08654\n",
      "[267]\tvalidation_0-logloss:0.08647\n",
      "[268]\tvalidation_0-logloss:0.08650\n",
      "[269]\tvalidation_0-logloss:0.08652\n",
      "[270]\tvalidation_0-logloss:0.08669\n",
      "[271]\tvalidation_0-logloss:0.08674\n",
      "[272]\tvalidation_0-logloss:0.08683\n",
      "[273]\tvalidation_0-logloss:0.08668\n",
      "[274]\tvalidation_0-logloss:0.08664\n",
      "[275]\tvalidation_0-logloss:0.08650\n",
      "[276]\tvalidation_0-logloss:0.08636\n",
      "[277]\tvalidation_0-logloss:0.08652\n",
      "[278]\tvalidation_0-logloss:0.08657\n",
      "[279]\tvalidation_0-logloss:0.08659\n",
      "[280]\tvalidation_0-logloss:0.08668\n",
      "[281]\tvalidation_0-logloss:0.08664\n",
      "[282]\tvalidation_0-logloss:0.08650\n",
      "[283]\tvalidation_0-logloss:0.08636\n",
      "[284]\tvalidation_0-logloss:0.08640\n",
      "[285]\tvalidation_0-logloss:0.08643\n",
      "[286]\tvalidation_0-logloss:0.08646\n",
      "[287]\tvalidation_0-logloss:0.08650\n",
      "[288]\tvalidation_0-logloss:0.08637\n",
      "[289]\tvalidation_0-logloss:0.08646\n",
      "[290]\tvalidation_0-logloss:0.08645\n",
      "[291]\tvalidation_0-logloss:0.08632\n",
      "[292]\tvalidation_0-logloss:0.08628\n",
      "[293]\tvalidation_0-logloss:0.08615\n",
      "[294]\tvalidation_0-logloss:0.08620\n",
      "[295]\tvalidation_0-logloss:0.08622\n",
      "[296]\tvalidation_0-logloss:0.08631\n",
      "[297]\tvalidation_0-logloss:0.08618\n",
      "[298]\tvalidation_0-logloss:0.08626\n",
      "[299]\tvalidation_0-logloss:0.08613\n",
      "[300]\tvalidation_0-logloss:0.08618\n",
      "[301]\tvalidation_0-logloss:0.08605\n",
      "[302]\tvalidation_0-logloss:0.08602\n",
      "[303]\tvalidation_0-logloss:0.08610\n",
      "[304]\tvalidation_0-logloss:0.08598\n",
      "[305]\tvalidation_0-logloss:0.08606\n",
      "[306]\tvalidation_0-logloss:0.08597\n",
      "[307]\tvalidation_0-logloss:0.08600\n",
      "[308]\tvalidation_0-logloss:0.08600\n",
      "[309]\tvalidation_0-logloss:0.08588\n",
      "[310]\tvalidation_0-logloss:0.08592\n",
      "오차행렬\n",
      "[[34  3]\n",
      " [ 1 76]]\n",
      "\n",
      "정확도 : 0.9649, 정밀도 : 0.9620, 재현율 : 0.9870, F1 : 0.9744, AUC : 0.9954\n"
     ]
    }
   ],
   "source": [
    "xgb_wrapper = XGBClassifier(n_estimators=400, learning_rate=0.1, max_depth=3)\n",
    "\n",
    "evals=[(X_test,y_test)]\n",
    "\n",
    "xgb_wrapper.fit(X_train, y_train,\n",
    "                early_stopping_rounds=100, \n",
    "                eval_metric='logloss', \n",
    "                eval_set=evals, \n",
    "                verbose=True)\n",
    "\n",
    "w_preds = xgb_wrapper.predict(X_test)\n",
    "w_preds_proba = xgb_wrapper.predict_proba(X_test)[:,1]\n",
    "\n",
    "get_clf_eval(y_test, w_preds, w_preds_proba)"
   ]
  },
  {
   "cell_type": "code",
   "execution_count": 67,
   "id": "54ce4fe8-2fa3-4adc-8ec2-0fa06d21cd2d",
   "metadata": {},
   "outputs": [
    {
     "name": "stdout",
     "output_type": "stream",
     "text": [
      "[0]\tvalidation_0-logloss:0.61352\n",
      "[1]\tvalidation_0-logloss:0.54784\n",
      "[2]\tvalidation_0-logloss:0.49425\n",
      "[3]\tvalidation_0-logloss:0.44799\n",
      "[4]\tvalidation_0-logloss:0.40911\n",
      "[5]\tvalidation_0-logloss:0.37498\n",
      "[6]\tvalidation_0-logloss:0.34571\n",
      "[7]\tvalidation_0-logloss:0.32053\n",
      "[8]\tvalidation_0-logloss:0.29721\n",
      "[9]\tvalidation_0-logloss:0.27799\n",
      "[10]\tvalidation_0-logloss:0.26030\n",
      "[11]\tvalidation_0-logloss:0.24604\n",
      "[12]\tvalidation_0-logloss:0.23156\n",
      "[13]\tvalidation_0-logloss:0.22005\n",
      "[14]\tvalidation_0-logloss:0.20857\n",
      "[15]\tvalidation_0-logloss:0.19999\n",
      "[16]\tvalidation_0-logloss:0.19012\n",
      "[17]\tvalidation_0-logloss:0.18182\n",
      "[18]\tvalidation_0-logloss:0.17473\n",
      "[19]\tvalidation_0-logloss:0.16766\n",
      "[20]\tvalidation_0-logloss:0.15820\n",
      "[21]\tvalidation_0-logloss:0.15473\n",
      "[22]\tvalidation_0-logloss:0.14895\n",
      "[23]\tvalidation_0-logloss:0.14331\n",
      "[24]\tvalidation_0-logloss:0.13634\n",
      "[25]\tvalidation_0-logloss:0.13278\n",
      "[26]\tvalidation_0-logloss:0.12791\n",
      "[27]\tvalidation_0-logloss:0.12526\n",
      "[28]\tvalidation_0-logloss:0.11998\n",
      "[29]\tvalidation_0-logloss:0.11641\n",
      "[30]\tvalidation_0-logloss:0.11450\n",
      "[31]\tvalidation_0-logloss:0.11257\n",
      "[32]\tvalidation_0-logloss:0.11154\n",
      "[33]\tvalidation_0-logloss:0.10868\n",
      "[34]\tvalidation_0-logloss:0.10668\n",
      "[35]\tvalidation_0-logloss:0.10421\n",
      "[36]\tvalidation_0-logloss:0.10296\n",
      "[37]\tvalidation_0-logloss:0.10058\n",
      "[38]\tvalidation_0-logloss:0.09868\n",
      "[39]\tvalidation_0-logloss:0.09644\n",
      "[40]\tvalidation_0-logloss:0.09587\n",
      "[41]\tvalidation_0-logloss:0.09424\n",
      "[42]\tvalidation_0-logloss:0.09471\n",
      "[43]\tvalidation_0-logloss:0.09427\n",
      "[44]\tvalidation_0-logloss:0.09389\n",
      "[45]\tvalidation_0-logloss:0.09418\n",
      "[46]\tvalidation_0-logloss:0.09402\n",
      "[47]\tvalidation_0-logloss:0.09236\n",
      "[48]\tvalidation_0-logloss:0.09301\n",
      "[49]\tvalidation_0-logloss:0.09127\n",
      "[50]\tvalidation_0-logloss:0.09005\n",
      "[51]\tvalidation_0-logloss:0.08961\n",
      "[52]\tvalidation_0-logloss:0.08958\n",
      "[53]\tvalidation_0-logloss:0.09070\n",
      "[54]\tvalidation_0-logloss:0.08958\n",
      "[55]\tvalidation_0-logloss:0.09036\n",
      "[56]\tvalidation_0-logloss:0.09159\n",
      "[57]\tvalidation_0-logloss:0.09153\n",
      "[58]\tvalidation_0-logloss:0.09199\n",
      "[59]\tvalidation_0-logloss:0.09195\n",
      "[60]\tvalidation_0-logloss:0.09194\n",
      "[61]\tvalidation_0-logloss:0.09146\n",
      "[62]\tvalidation_0-logloss:0.09031\n",
      "오차행렬\n",
      "[[34  3]\n",
      " [ 2 75]]\n",
      "\n",
      "정확도 : 0.9561, 정밀도 : 0.9615, 재현율 : 0.9740, F1 : 0.9677, AUC : 0.9947\n"
     ]
    }
   ],
   "source": [
    "xgb_wrapper.fit(X_train, y_train,\n",
    "                early_stopping_rounds=10, \n",
    "                eval_metric='logloss', \n",
    "                eval_set=evals, \n",
    "                verbose=True)\n",
    "\n",
    "ws10_preds = xgb_wrapper.predict(X_test)\n",
    "ws10_preds_proba = xgb_wrapper.predict_proba(X_test)[:,1]\n",
    "\n",
    "get_clf_eval(y_test, ws10_preds, ws10_preds_proba)"
   ]
  },
  {
   "cell_type": "code",
   "execution_count": null,
   "id": "1d6c1e6b-7995-4db5-83fc-057f26967527",
   "metadata": {},
   "outputs": [],
   "source": []
  }
 ],
 "metadata": {
  "kernelspec": {
   "display_name": "Python 3 (ipykernel)",
   "language": "python",
   "name": "python3"
  },
  "language_info": {
   "codemirror_mode": {
    "name": "ipython",
    "version": 3
   },
   "file_extension": ".py",
   "mimetype": "text/x-python",
   "name": "python",
   "nbconvert_exporter": "python",
   "pygments_lexer": "ipython3",
   "version": "3.9.7"
  }
 },
 "nbformat": 4,
 "nbformat_minor": 5
}
