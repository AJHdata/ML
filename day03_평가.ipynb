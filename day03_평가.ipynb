{
 "cells": [
  {
   "cell_type": "code",
   "execution_count": 1,
   "id": "349ded89-85d2-4b75-9102-ada04e0eba3f",
   "metadata": {},
   "outputs": [],
   "source": [
    "from sklearn.base import BaseEstimator\n",
    "\n",
    "import numpy as np\n",
    "import pandas as pd\n",
    "\n",
    "import warnings\n",
    "warnings.filterwarnings('ignore')"
   ]
  },
  {
   "cell_type": "code",
   "execution_count": 2,
   "id": "a739a7be-c580-4abf-983d-2241941332eb",
   "metadata": {},
   "outputs": [],
   "source": [
    "class MyDummyClassifier(BaseEstimator) :\n",
    "    def fit(self, X, y=None) :\n",
    "        pass\n",
    "    \n",
    "    def predict(self, X) :\n",
    "        pred = np.zeros((X.shape[0],1))\n",
    "        \n",
    "        for i in range(X.shape[0]) :   # 데이터 건 수 만큼 반복\n",
    "            if X['Sex'].iloc[i] == 1 : # 자기 위치의 값을 불러와서, 성별이 1(남자) 일 때,\n",
    "                pred[i] = 0 # 사망\n",
    "            else :\n",
    "                pred[i] = 1 # 생존\n",
    "                \n",
    "            return pred\n",
    "        \n",
    "\n",
    "def fillna(df) :\n",
    "    df['Age'].fillna(df['Age'].mean(),inplace=True)\n",
    "    df['Cabin'].fillna('N',inplace=True)\n",
    "    df['Embarked'].fillna('N',inplace=True)\n",
    "    df['Fare'].fillna(0,inplace=True)\n",
    "    \n",
    "    return df\n",
    "    \n",
    "def drop_features(df) :\n",
    "    df.drop(columns=['PassengerId', 'Name', 'Ticket'], inplace=True)\n",
    "    \n",
    "    return df\n",
    "\n",
    "\n",
    "def format_features(df) :\n",
    "    from sklearn.preprocessing import LabelEncoder\n",
    "    \n",
    "    df.Cabin = df.Cabin.str[:1]\n",
    "    \n",
    "    # categorical 컬럼이름\n",
    "    features = ['Cabin', 'Sex', 'Embarked']\n",
    "    \n",
    "    for feature in features :\n",
    "        df[feature] = LabelEncoder().fit_transform(df[feature])\n",
    "        \n",
    "    return df\n",
    "\n",
    "\n",
    "def transform_features(df) :\n",
    "    df = fillna(df)\n",
    "    df = drop_features(df)\n",
    "    df = format_features(df)\n",
    "    \n",
    "    return df"
   ]
  },
  {
   "cell_type": "code",
   "execution_count": 3,
   "id": "bb507f4b-b257-4c63-9eb8-a982535bfd68",
   "metadata": {},
   "outputs": [],
   "source": [
    "from sklearn.model_selection import train_test_split\n",
    "from sklearn.metrics import accuracy_score"
   ]
  },
  {
   "cell_type": "code",
   "execution_count": 4,
   "id": "a9ad3b02-c4b0-42d2-ba53-96d39ddddfe4",
   "metadata": {},
   "outputs": [
    {
     "data": {
      "text/plain": [
       "0.6145251396648045"
      ]
     },
     "execution_count": 4,
     "metadata": {},
     "output_type": "execute_result"
    }
   ],
   "source": [
    "titanic_df = pd.read_csv('titanic_train.csv')\n",
    "\n",
    "# X, y 분리\n",
    "y_titanic_df = titanic_df['Survived']\n",
    "X_titanic_df = titanic_df.drop(columns = ['Survived'])\n",
    "\n",
    "# 전처리\n",
    "X_titanic_df = transform_features(X_titanic_df)\n",
    "\n",
    "# 데이터 분리\n",
    "X_train, X_test, y_train, y_test = train_test_split(X_titanic_df, y_titanic_df, test_size=0.2, random_state=0)\n",
    "\n",
    "# 모델 만들기\n",
    "myclf = MyDummyClassifier()\n",
    "myclf.fit(X_train, y_train)\n",
    "pred = myclf.predict(X_test)\n",
    "accuracy_score(y_test, pred)"
   ]
  },
  {
   "cell_type": "markdown",
   "id": "c38bbfdb-db72-474b-9649-bf146cb1e301",
   "metadata": {},
   "source": [
    "---"
   ]
  },
  {
   "cell_type": "code",
   "execution_count": 5,
   "id": "98e42714-f59d-4c52-a12d-3db229a99463",
   "metadata": {},
   "outputs": [],
   "source": [
    "from sklearn.datasets import load_digits"
   ]
  },
  {
   "cell_type": "code",
   "execution_count": 6,
   "id": "b3f88b34-187e-4931-af08-3a845ba427c7",
   "metadata": {},
   "outputs": [],
   "source": [
    "class MyFakeClassifier(BaseEstimator) :\n",
    "    def fit(self, X, y) :\n",
    "        pass\n",
    "    \n",
    "    def predict(self, X) :\n",
    "        return np.zeros(\n",
    "                            (X.shape[0], 1),\n",
    "                            dtype=bool\n",
    "                        )"
   ]
  },
  {
   "cell_type": "code",
   "execution_count": 7,
   "id": "dbca1132-da86-4afa-94e5-dee70a0824ef",
   "metadata": {},
   "outputs": [
    {
     "data": {
      "text/plain": [
       "((450,),\n",
       " 0    405\n",
       " 1     45\n",
       " dtype: int64)"
      ]
     },
     "execution_count": 7,
     "metadata": {},
     "output_type": "execute_result"
    }
   ],
   "source": [
    "digits = load_digits()\n",
    "\n",
    "y = (digits.target == 7).astype(int)\n",
    "X_train, X_test, y_train, y_test = train_test_split(digits.data, y, random_state=11)\n",
    "\n",
    "y_test.shape, pd.Series(y_test).value_counts()"
   ]
  },
  {
   "cell_type": "code",
   "execution_count": 8,
   "id": "5ce1ef08-9526-4a8e-822b-c263c92849ff",
   "metadata": {},
   "outputs": [
    {
     "data": {
      "text/plain": [
       "0.9"
      ]
     },
     "execution_count": 8,
     "metadata": {},
     "output_type": "execute_result"
    }
   ],
   "source": [
    "fakeclf = MyFakeClassifier()\n",
    "fakeclf.fit(X_train, y_train)\n",
    "pred = fakeclf.predict(X_test)\n",
    "accuracy_score(y_test, pred)"
   ]
  },
  {
   "cell_type": "markdown",
   "id": "01ce0257-8b9e-42d8-bc7a-c29c262391c2",
   "metadata": {},
   "source": [
    "### => 정확도가 믿을 값이 못된다."
   ]
  },
  {
   "cell_type": "markdown",
   "id": "4f8ce628-3d7c-49cd-a0be-717f58faaee0",
   "metadata": {},
   "source": [
    "---"
   ]
  },
  {
   "cell_type": "code",
   "execution_count": 9,
   "id": "b0ed8f21-b953-4b0a-9f2d-6e35f8b59c56",
   "metadata": {},
   "outputs": [],
   "source": [
    "from sklearn.metrics import confusion_matrix"
   ]
  },
  {
   "cell_type": "code",
   "execution_count": 10,
   "id": "bb2d741e-e37c-4ef0-b373-2a09660f8f9c",
   "metadata": {},
   "outputs": [
    {
     "data": {
      "text/plain": [
       "array([[405,   0],\n",
       "       [ 45,   0]], dtype=int64)"
      ]
     },
     "execution_count": 10,
     "metadata": {},
     "output_type": "execute_result"
    }
   ],
   "source": [
    "confusion_matrix(y_test, pred)"
   ]
  },
  {
   "cell_type": "code",
   "execution_count": 11,
   "id": "f275edcb-c3e8-4e6e-9709-b17ec3b240f4",
   "metadata": {},
   "outputs": [],
   "source": [
    "from sklearn.metrics import accuracy_score, precision_score, recall_score, confusion_matrix"
   ]
  },
  {
   "cell_type": "code",
   "execution_count": 12,
   "id": "a3066992-cfcb-4970-b6f6-e68b75e1c4f3",
   "metadata": {},
   "outputs": [],
   "source": [
    "def get_clf_eval(y_test, pred) :\n",
    "    confusion = confusion_matrix(y_test, pred)\n",
    "    accuracy = accuracy_score(y_test, pred)\n",
    "    precision = precision_score(y_test, pred)\n",
    "    recall = recall_score(y_test, pred)\n",
    "    \n",
    "    print('오차행렬')\n",
    "    print(confusion)\n",
    "    print()\n",
    "    print(f'정확도 : {accuracy:.4f}, 정밀도 : {precision:.4f}, 재현율 : {recall:.4f}')\n",
    "    "
   ]
  },
  {
   "cell_type": "code",
   "execution_count": 13,
   "id": "6f419c38-e038-4306-93bb-249da453cc42",
   "metadata": {},
   "outputs": [],
   "source": [
    "titanic_df = pd.read_csv('titanic_train.csv')\n",
    "\n",
    "# X, y 분리\n",
    "y_titanic_df = titanic_df['Survived']\n",
    "X_titanic_df = titanic_df.drop(columns = ['Survived'])\n",
    "\n",
    "# 전처리\n",
    "X_titanic_df = transform_features(X_titanic_df)\n",
    "\n",
    "# 데이터 분리\n",
    "X_train, X_test, y_train, y_test = train_test_split(X_titanic_df, y_titanic_df, test_size=0.2, random_state=0)"
   ]
  },
  {
   "cell_type": "code",
   "execution_count": 15,
   "id": "fc528d3f-89a5-401b-8cba-f8f6cbd0e1c5",
   "metadata": {},
   "outputs": [],
   "source": [
    "from sklearn.linear_model import LogisticRegression"
   ]
  },
  {
   "cell_type": "code",
   "execution_count": 16,
   "id": "b7ab5358-8b63-41ee-99d4-09a5c4546bc2",
   "metadata": {},
   "outputs": [
    {
     "name": "stdout",
     "output_type": "stream",
     "text": [
      "오차행렬\n",
      "[[92 18]\n",
      " [16 53]]\n",
      "\n",
      "정확도 : 0.8101, 정밀도 : 0.7465, 재현율 : 0.7681\n"
     ]
    }
   ],
   "source": [
    "lr_clf = LogisticRegression()\n",
    "lr_clf.fit(X_train, y_train)\n",
    "pred = lr_clf.predict(X_test)\n",
    "\n",
    "get_clf_eval(y_test, pred)"
   ]
  },
  {
   "cell_type": "markdown",
   "id": "5482d691-3e7a-41a0-a9ea-d46744c9cb0f",
   "metadata": {},
   "source": [
    "---"
   ]
  },
  {
   "cell_type": "code",
   "execution_count": 19,
   "id": "3990ceb9-388b-48ca-b4c6-ada05a8c8ab8",
   "metadata": {},
   "outputs": [
    {
     "data": {
      "text/plain": [
       "(array([[0.85143272, 0.14856728],\n",
       "        [0.89230123, 0.10769877],\n",
       "        [0.93333601, 0.06666399],\n",
       "        [0.05347494, 0.94652506],\n",
       "        [0.3139637 , 0.6860363 ],\n",
       "        [0.4899739 , 0.5100261 ],\n",
       "        [0.08208226, 0.91791774]]),\n",
       " array([0, 0, 0, 1, 1, 1, 1], dtype=int64))"
      ]
     },
     "execution_count": 19,
     "metadata": {},
     "output_type": "execute_result"
    }
   ],
   "source": [
    "pred_proba = lr_clf.predict_proba(X_test)\n",
    "pred = lr_clf.predict(X_test)\n",
    "pred_proba[:7], pred[:7]"
   ]
  },
  {
   "cell_type": "markdown",
   "id": "fb196a86-bf15-4365-9689-eb73ba734ce4",
   "metadata": {},
   "source": [
    "---\n",
    "### 임계값 조정"
   ]
  },
  {
   "cell_type": "code",
   "execution_count": 23,
   "id": "238c5649-6a38-401a-9b90-fdfe5ea81569",
   "metadata": {},
   "outputs": [],
   "source": [
    "from sklearn.preprocessing import Binarizer"
   ]
  },
  {
   "cell_type": "code",
   "execution_count": 24,
   "id": "04ffba8c-3c24-47fe-b75c-c2bd132aeee1",
   "metadata": {},
   "outputs": [],
   "source": [
    "X = [[1,-1,2],\n",
    "     [2,0,0],\n",
    "     [0,1.1,1.2]]"
   ]
  },
  {
   "cell_type": "code",
   "execution_count": 27,
   "id": "25a42bb1-d4cd-433e-a2c4-5adf51c467e9",
   "metadata": {},
   "outputs": [
    {
     "data": {
      "text/plain": [
       "array([[1., 0., 1.],\n",
       "       [1., 0., 0.],\n",
       "       [0., 1., 1.]])"
      ]
     },
     "execution_count": 27,
     "metadata": {},
     "output_type": "execute_result"
    }
   ],
   "source": [
    "binarizer = Binarizer(threshold=0.0) # threshold 보다 >= 이면 0 \n",
    "binarizer.fit_transform(X)"
   ]
  },
  {
   "cell_type": "code",
   "execution_count": 35,
   "id": "7822fe65-c10a-455b-841b-eca330284fd1",
   "metadata": {},
   "outputs": [
    {
     "name": "stdout",
     "output_type": "stream",
     "text": [
      "오차행렬\n",
      "[[92 18]\n",
      " [16 53]]\n",
      "\n",
      "정확도 : 0.8101, 정밀도 : 0.7465, 재현율 : 0.7681\n"
     ]
    }
   ],
   "source": [
    "custom_threshold=0.5\n",
    "pred_proba_1 = pred_proba[:, 1].reshape(-1,1)\n",
    "\n",
    "binarizer = Binarizer(threshold=custom_threshold).fit(pred_proba_1)\n",
    "custom_predict = binarizer.transform(pred_proba_1)\n",
    "\n",
    "get_clf_eval(y_test, custom_predict)"
   ]
  },
  {
   "cell_type": "code",
   "execution_count": 38,
   "id": "0ffa9d73-02ba-48a8-a9d3-d09125f71829",
   "metadata": {},
   "outputs": [
    {
     "name": "stdout",
     "output_type": "stream",
     "text": [
      "오차행렬\n",
      "[[86 24]\n",
      " [13 56]]\n",
      "\n",
      "정확도 : 0.7933, 정밀도 : 0.7000, 재현율 : 0.8116\n"
     ]
    }
   ],
   "source": [
    "custom_threshold=0.4\n",
    "pred_proba_1 = pred_proba[:, 1].reshape(-1,1)\n",
    "\n",
    "binarizer = Binarizer(threshold=custom_threshold).fit(pred_proba_1)\n",
    "custom_predict = binarizer.transform(pred_proba_1)\n",
    "\n",
    "get_clf_eval(y_test, custom_predict)"
   ]
  },
  {
   "cell_type": "code",
   "execution_count": 43,
   "id": "166ce9c2-53be-4011-9b35-a19ee3ef79e9",
   "metadata": {},
   "outputs": [],
   "source": [
    "thresholds = [0.4, 0.45, 0.5, 0.55, 0.6]\n",
    "\n",
    "def get_eval_by_threshold(y_test, pred_proba_c1, thresholds) :\n",
    "    for custom_threshold in thresholds :\n",
    "        binarizer = Binarizer(threshold=custom_threshold).fit(pred_proba_1)\n",
    "        custom_predict = binarizer.transform(pred_proba_1)\n",
    "        print('임계값 : ', custom_threshold)\n",
    "        get_clf_eval(y_test, custom_predict)\n",
    "        \n",
    "        print('-'*60)\n",
    "        \n",
    "        "
   ]
  },
  {
   "cell_type": "code",
   "execution_count": 44,
   "id": "10eb8d5a-ac04-4788-8b96-ec3efd5afff4",
   "metadata": {},
   "outputs": [
    {
     "name": "stdout",
     "output_type": "stream",
     "text": [
      "임계값 :  0.4\n",
      "오차행렬\n",
      "[[86 24]\n",
      " [13 56]]\n",
      "\n",
      "정확도 : 0.7933, 정밀도 : 0.7000, 재현율 : 0.8116\n",
      "------------------------------------------------------------\n",
      "임계값 :  0.45\n",
      "오차행렬\n",
      "[[91 19]\n",
      " [14 55]]\n",
      "\n",
      "정확도 : 0.8156, 정밀도 : 0.7432, 재현율 : 0.7971\n",
      "------------------------------------------------------------\n",
      "임계값 :  0.5\n",
      "오차행렬\n",
      "[[92 18]\n",
      " [16 53]]\n",
      "\n",
      "정확도 : 0.8101, 정밀도 : 0.7465, 재현율 : 0.7681\n",
      "------------------------------------------------------------\n",
      "임계값 :  0.55\n",
      "오차행렬\n",
      "[[97 13]\n",
      " [18 51]]\n",
      "\n",
      "정확도 : 0.8268, 정밀도 : 0.7969, 재현율 : 0.7391\n",
      "------------------------------------------------------------\n",
      "임계값 :  0.6\n",
      "오차행렬\n",
      "[[99 11]\n",
      " [25 44]]\n",
      "\n",
      "정확도 : 0.7989, 정밀도 : 0.8000, 재현율 : 0.6377\n",
      "------------------------------------------------------------\n"
     ]
    }
   ],
   "source": [
    "get_eval_by_threshold(y_test, pred_proba[:, 1].reshape(-1,1), thresholds)"
   ]
  },
  {
   "cell_type": "markdown",
   "id": "46e9e74c-222f-4be8-9a8d-fd63d105fae2",
   "metadata": {},
   "source": [
    "---"
   ]
  },
  {
   "cell_type": "code",
   "execution_count": 45,
   "id": "22c0c9d6-2b37-4163-afc5-ea5559b20311",
   "metadata": {},
   "outputs": [],
   "source": [
    "from sklearn.metrics import precision_recall_curve"
   ]
  },
  {
   "cell_type": "code",
   "execution_count": 46,
   "id": "b93b23cc-3da6-4072-b326-d303de51dd5f",
   "metadata": {},
   "outputs": [],
   "source": [
    "pred_proba_class1 = lr_clf.predict_proba(X_test)[:, 1]"
   ]
  },
  {
   "cell_type": "code",
   "execution_count": 48,
   "id": "80a59840-54c4-495a-9eb2-1eaf9237d5b0",
   "metadata": {},
   "outputs": [],
   "source": [
    "precision, recall, thresholds = precision_recall_curve(y_test, pred_proba_class1)"
   ]
  },
  {
   "cell_type": "code",
   "execution_count": 49,
   "id": "4bf807e2-2fa7-48dc-8e9b-de4b98a6fd09",
   "metadata": {},
   "outputs": [
    {
     "data": {
      "text/plain": [
       "((167,), (167,), (166,))"
      ]
     },
     "execution_count": 49,
     "metadata": {},
     "output_type": "execute_result"
    }
   ],
   "source": [
    "precision.shape, recall.shape, thresholds.shape"
   ]
  },
  {
   "cell_type": "code",
   "execution_count": 50,
   "id": "84884720-e2f3-48b7-8b27-b3c3cd0ec381",
   "metadata": {},
   "outputs": [
    {
     "data": {
      "text/plain": [
       "array([  0,  15,  30,  45,  60,  75,  90, 105, 120, 135, 150, 165])"
      ]
     },
     "execution_count": 50,
     "metadata": {},
     "output_type": "execute_result"
    }
   ],
   "source": [
    "thr_index = np.arange(0, thresholds.shape[0], 15)\n",
    "thr_index"
   ]
  },
  {
   "cell_type": "code",
   "execution_count": 54,
   "id": "a2481240-ba51-466c-a761-ee22bebee745",
   "metadata": {},
   "outputs": [
    {
     "name": "stdout",
     "output_type": "stream",
     "text": [
      "[0.399 0.418 0.464 0.52  0.594 0.659 0.724 0.803 0.826 1.    1.    1.   ]\n",
      "[1.    0.957 0.928 0.928 0.913 0.87  0.797 0.71  0.551 0.449 0.232 0.014]\n",
      "[0.059 0.096 0.115 0.148 0.191 0.281 0.43  0.57  0.65  0.799 0.913 0.969]\n"
     ]
    }
   ],
   "source": [
    "print(np.round(precision[thr_index], 3))\n",
    "print(np.round(recall[thr_index], 3))\n",
    "print(np.round(thresholds[thr_index], 3))"
   ]
  },
  {
   "cell_type": "code",
   "execution_count": 56,
   "id": "8c14f851-4fa9-44de-bdb1-1c5abd3a2d5c",
   "metadata": {},
   "outputs": [],
   "source": [
    "import matplotlib.pyplot as plt\n",
    "import matplotlib.ticker as kicker"
   ]
  },
  {
   "cell_type": "code",
   "execution_count": 62,
   "id": "b7600ff0-662c-46af-a0f7-9417a5b9d529",
   "metadata": {},
   "outputs": [],
   "source": [
    "def precision_recall_curve_plot(y_test, pred_proba) :\n",
    "    precision, recalls, thresholds = precision_recall_curve(y_test, pred_proba)\n",
    "    plt.figure(figsize=(8,6))\n",
    "    threshold_boundary = thresholds.shape[0]\n",
    "    \n",
    "    # precision\n",
    "    plt.plot(thresholds, precision[0:threshold_boundary],\n",
    "             linestyle='--', label='precision')\n",
    "    \n",
    "    # recalls\n",
    "    plt.plot(thresholds, recalls[0:threshold_boundary],\n",
    "             label='recalls')\n",
    "    \n",
    "    \n",
    "    start, end = plt.xlim()\n",
    "    plt.xticks(np.round(np.arange(start, end, 0.1), 2))\n",
    "    \n",
    "    #범례\n",
    "    plt.legend()\n",
    "    \n",
    "    # 격자\n",
    "    plt.grid()\n",
    "    \n",
    "    \n",
    "    plt.show()\n",
    "    "
   ]
  },
  {
   "cell_type": "code",
   "execution_count": 63,
   "id": "a6782cf8-ae6d-418f-ba01-b672becdb0b6",
   "metadata": {},
   "outputs": [
    {
     "data": {
      "image/png": "[encoded data removed]",
      "text/plain": [
       "<Figure size 576x432 with 1 Axes>"
      ]
     },
     "metadata": {
      "needs_background": "light"
     },
     "output_type": "display_data"
    }
   ],
   "source": [
    "precision_recall_curve_plot(y_test, pred_proba_class1)"
   ]
  },
  {
   "cell_type": "markdown",
   "id": "fe2a1552-2a9b-4bfc-a0a7-ac693c319439",
   "metadata": {},
   "source": [
    "---"
   ]
  },
  {
   "cell_type": "code",
   "execution_count": 64,
   "id": "bd3a43fa-afe2-4b5d-b65f-6db63cbddd66",
   "metadata": {},
   "outputs": [],
   "source": [
    "from sklearn.metrics import f1_score"
   ]
  },
  {
   "cell_type": "code",
   "execution_count": 65,
   "id": "feb0f1ae-f232-4b74-888f-f044bf9ebc4e",
   "metadata": {},
   "outputs": [
    {
     "data": {
      "text/plain": [
       "0.7571428571428571"
      ]
     },
     "execution_count": 65,
     "metadata": {},
     "output_type": "execute_result"
    }
   ],
   "source": [
    "f1 = f1_score(y_test, pred)\n",
    "f1"
   ]
  },
  {
   "cell_type": "code",
   "execution_count": 67,
   "id": "33f2e729-6644-439a-b8d5-898c1c49ea17",
   "metadata": {},
   "outputs": [],
   "source": [
    "def get_clf_eval(y_test, pred) :\n",
    "    confusion = confusion_matrix(y_test, pred)\n",
    "    accuracy = accuracy_score(y_test, pred)\n",
    "    precision = precision_score(y_test, pred)\n",
    "    recall = recall_score(y_test, pred)\n",
    "    f1 = f1_score(y_test, pred)\n",
    "    \n",
    "    \n",
    "    print('오차행렬')\n",
    "    print(confusion)\n",
    "    print()\n",
    "    print(f'정확도 : {accuracy:.4f}, 정밀도 : {precision:.4f}, 재현율 : {recall:.4f}, F1 : {f1:.4f}')\n",
    "    "
   ]
  },
  {
   "cell_type": "code",
   "execution_count": 68,
   "id": "b820fe10-99c7-4fca-8933-f1eb43c7138c",
   "metadata": {},
   "outputs": [
    {
     "name": "stdout",
     "output_type": "stream",
     "text": [
      "임계값 :  0.4\n",
      "오차행렬\n",
      "[[86 24]\n",
      " [13 56]]\n",
      "\n",
      "정확도 : 0.7933, 정밀도 : 0.7000, 재현율 : 0.8116, F1 : 0.7517\n",
      "------------------------------------------------------------\n",
      "임계값 :  0.45\n",
      "오차행렬\n",
      "[[91 19]\n",
      " [14 55]]\n",
      "\n",
      "정확도 : 0.8156, 정밀도 : 0.7432, 재현율 : 0.7971, F1 : 0.7692\n",
      "------------------------------------------------------------\n",
      "임계값 :  0.5\n",
      "오차행렬\n",
      "[[92 18]\n",
      " [16 53]]\n",
      "\n",
      "정확도 : 0.8101, 정밀도 : 0.7465, 재현율 : 0.7681, F1 : 0.7571\n",
      "------------------------------------------------------------\n",
      "임계값 :  0.55\n",
      "오차행렬\n",
      "[[97 13]\n",
      " [18 51]]\n",
      "\n",
      "정확도 : 0.8268, 정밀도 : 0.7969, 재현율 : 0.7391, F1 : 0.7669\n",
      "------------------------------------------------------------\n",
      "임계값 :  0.6\n",
      "오차행렬\n",
      "[[99 11]\n",
      " [25 44]]\n",
      "\n",
      "정확도 : 0.7989, 정밀도 : 0.8000, 재현율 : 0.6377, F1 : 0.7097\n",
      "------------------------------------------------------------\n"
     ]
    }
   ],
   "source": [
    "thresholds = [0.4, 0.45, 0.5, 0.55, 0.6]\n",
    "\n",
    "def get_eval_by_threshold(y_test, pred_proba_c1, thresholds) :\n",
    "    for custom_threshold in thresholds :\n",
    "        binarizer = Binarizer(threshold=custom_threshold).fit(pred_proba_1)\n",
    "        custom_predict = binarizer.transform(pred_proba_1)\n",
    "        print('임계값 : ', custom_threshold)\n",
    "        \n",
    "        # 사용자 지정 함수 사용.\n",
    "        get_clf_eval(y_test, custom_predict)\n",
    "        \n",
    "        print('-'*60)\n",
    "        \n",
    "get_eval_by_threshold(y_test, pred_proba[:, 1].reshape(-1,1), thresholds)"
   ]
  },
  {
   "cell_type": "markdown",
   "id": "0ef1ba3d-4192-4836-8d86-0cad562ca7a7",
   "metadata": {},
   "source": [
    "---"
   ]
  },
  {
   "cell_type": "code",
   "execution_count": 69,
   "id": "ab0419ef-44fa-4ae9-8769-d499f6a4b66d",
   "metadata": {},
   "outputs": [],
   "source": [
    "from sklearn.metrics import roc_curve"
   ]
  },
  {
   "cell_type": "code",
   "execution_count": 72,
   "id": "a6d60ff3-a239-4a9c-95c5-ac4872846828",
   "metadata": {},
   "outputs": [],
   "source": [
    "fprs, tprs, thresholds = roc_curve(y_test, pred_proba_class1)"
   ]
  },
  {
   "cell_type": "code",
   "execution_count": 73,
   "id": "54dd9a9d-ac3e-4ad4-93ae-5c9f5abd1251",
   "metadata": {},
   "outputs": [
    {
     "data": {
      "text/plain": [
       "array([ 1,  6, 11, 16, 21, 26, 31, 36, 41, 46, 51])"
      ]
     },
     "execution_count": 73,
     "metadata": {},
     "output_type": "execute_result"
    }
   ],
   "source": [
    "thr_index = np.arange(1, thresholds.shape[0],5)\n",
    "thr_index"
   ]
  },
  {
   "cell_type": "code",
   "execution_count": 74,
   "id": "bfaf317d-8a06-42ca-9db2-c48d7ab75c9d",
   "metadata": {},
   "outputs": [
    {
     "data": {
      "text/plain": [
       "array([0.        , 0.04545455, 0.09090909, 0.10909091, 0.22727273,\n",
       "       0.26363636, 0.46363636, 0.51818182, 0.72727273, 0.85454545,\n",
       "       1.        ])"
      ]
     },
     "execution_count": 74,
     "metadata": {},
     "output_type": "execute_result"
    }
   ],
   "source": [
    "fprs[thr_index]"
   ]
  },
  {
   "cell_type": "code",
   "execution_count": 77,
   "id": "6606a629-a3f2-4eab-a167-1ab962e46bd7",
   "metadata": {},
   "outputs": [],
   "source": [
    "def roc_curve_plot(y_test, pred_proba) :\n",
    "    fprs, tprs, thresholds = roc_curve(y_test, pred_proba_class1)    \n",
    "    plt.plot(fprs,tprs,label='Roc')\n",
    "    plt.show()"
   ]
  },
  {
   "cell_type": "code",
   "execution_count": 78,
   "id": "5f3c3c66-e8fe-4a38-8d00-2c0712b63a02",
   "metadata": {},
   "outputs": [
    {
     "data": {
      "image/png": "[encoded data removed]",
      "text/plain": [
       "<Figure size 432x288 with 1 Axes>"
      ]
     },
     "metadata": {
      "needs_background": "light"
     },
     "output_type": "display_data"
    }
   ],
   "source": [
    "roc_curve_plot(y_test, pred_proba_class1)"
   ]
  },
  {
   "cell_type": "markdown",
   "id": "4f057a8c-72e5-4e82-9c34-21388b065998",
   "metadata": {},
   "source": [
    "---"
   ]
  },
  {
   "cell_type": "markdown",
   "id": "b0117829-fdbe-4bfd-ba1b-3f511db00e55",
   "metadata": {},
   "source": [
    "### 오차행렬"
   ]
  },
  {
   "cell_type": "code",
   "execution_count": null,
   "id": "5c304650-b078-457c-9c53-19ae331e12d4",
   "metadata": {},
   "outputs": [],
   "source": []
  },
  {
   "cell_type": "code",
   "execution_count": null,
   "id": "d363d6d8-e9b4-4e86-9847-bcf40020ae48",
   "metadata": {},
   "outputs": [],
   "source": []
  },
  {
   "cell_type": "code",
   "execution_count": null,
   "id": "a48beda3-0117-44c0-a9b0-a01c957879be",
   "metadata": {},
   "outputs": [],
   "source": []
  }
 ],
 "metadata": {
  "kernelspec": {
   "display_name": "Python 3 (ipykernel)",
   "language": "python",
   "name": "python3"
  },
  "language_info": {
   "codemirror_mode": {
    "name": "ipython",
    "version": 3
   },
   "file_extension": ".py",
   "mimetype": "text/x-python",
   "name": "python",
   "nbconvert_exporter": "python",
   "pygments_lexer": "ipython3",
   "version": "3.9.7"
  }
 },
 "nbformat": 4,
 "nbformat_minor": 5
}
