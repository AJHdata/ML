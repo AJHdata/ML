{
 "cells": [
  {
   "cell_type": "code",
   "execution_count": null,
   "id": "4d3ae90c-f557-4ea0-8651-a9857ec39358",
   "metadata": {},
   "outputs": [],
   "source": []
  },
  {
   "cell_type": "markdown",
   "id": "740d9463-3631-4456-9512-feb3264ce539",
   "metadata": {},
   "source": [
    "## 깃 확인하기 위해 수정한 Markdown\n",
    "### 타이타닉"
   ]
  },
  {
   "cell_type": "code",
   "execution_count": null,
   "id": "4a913ec8-8508-45f3-a23e-ef39faf3b1f7",
   "metadata": {},
   "outputs": [],
   "source": []
  },
  {
   "cell_type": "code",
   "execution_count": 1,
   "id": "3af6b0ab-94a4-4a5c-bc9f-47b342d3eccb",
   "metadata": {},
   "outputs": [],
   "source": [
    "import numpy as np\n",
    "import pandas as pd\n",
    "import matplotlib.pyplot as plt\n",
    "import seaborn as sns\n",
    "\n",
    "import warnings\n",
    "warnings.filterwarnings('ignore')"
   ]
  },
  {
   "cell_type": "code",
   "execution_count": 2,
   "id": "aa9ecb5e-bc7a-424e-8b57-45ea0288e835",
   "metadata": {},
   "outputs": [
    {
     "data": {
      "text/html": [
       "<div>\n",
       "<style scoped>\n",
       "    .dataframe tbody tr th:only-of-type {\n",
       "        vertical-align: middle;\n",
       "    }\n",
       "\n",
       "    .dataframe tbody tr th {\n",
       "        vertical-align: top;\n",
       "    }\n",
       "\n",
       "    .dataframe thead th {\n",
       "        text-align: right;\n",
       "    }\n",
       "</style>\n",
       "<table border=\"1\" class=\"dataframe\">\n",
       "  <thead>\n",
       "    <tr style=\"text-align: right;\">\n",
       "      <th></th>\n",
       "      <th>PassengerId</th>\n",
       "      <th>Survived</th>\n",
       "      <th>Pclass</th>\n",
       "      <th>Name</th>\n",
       "      <th>Sex</th>\n",
       "      <th>Age</th>\n",
       "      <th>SibSp</th>\n",
       "      <th>Parch</th>\n",
       "      <th>Ticket</th>\n",
       "      <th>Fare</th>\n",
       "      <th>Cabin</th>\n",
       "      <th>Embarked</th>\n",
       "    </tr>\n",
       "  </thead>\n",
       "  <tbody>\n",
       "    <tr>\n",
       "      <th>0</th>\n",
       "      <td>1</td>\n",
       "      <td>0</td>\n",
       "      <td>3</td>\n",
       "      <td>Braund, Mr. Owen Harris</td>\n",
       "      <td>male</td>\n",
       "      <td>22.0</td>\n",
       "      <td>1</td>\n",
       "      <td>0</td>\n",
       "      <td>A/5 21171</td>\n",
       "      <td>7.2500</td>\n",
       "      <td>NaN</td>\n",
       "      <td>S</td>\n",
       "    </tr>\n",
       "    <tr>\n",
       "      <th>1</th>\n",
       "      <td>2</td>\n",
       "      <td>1</td>\n",
       "      <td>1</td>\n",
       "      <td>Cumings, Mrs. John Bradley (Florence Briggs Th...</td>\n",
       "      <td>female</td>\n",
       "      <td>38.0</td>\n",
       "      <td>1</td>\n",
       "      <td>0</td>\n",
       "      <td>PC 17599</td>\n",
       "      <td>71.2833</td>\n",
       "      <td>C85</td>\n",
       "      <td>C</td>\n",
       "    </tr>\n",
       "  </tbody>\n",
       "</table>\n",
       "</div>"
      ],
      "text/plain": [
       "   PassengerId  Survived  Pclass  \\\n",
       "0            1         0       3   \n",
       "1            2         1       1   \n",
       "\n",
       "                                                Name     Sex   Age  SibSp  \\\n",
       "0                            Braund, Mr. Owen Harris    male  22.0      1   \n",
       "1  Cumings, Mrs. John Bradley (Florence Briggs Th...  female  38.0      1   \n",
       "\n",
       "   Parch     Ticket     Fare Cabin Embarked  \n",
       "0      0  A/5 21171   7.2500   NaN        S  \n",
       "1      0   PC 17599  71.2833   C85        C  "
      ]
     },
     "execution_count": 2,
     "metadata": {},
     "output_type": "execute_result"
    }
   ],
   "source": [
    "titanic_df = pd.read_csv('titanic_train.csv')\n",
    "titanic_df.head(2)"
   ]
  },
  {
   "cell_type": "code",
   "execution_count": 3,
   "id": "a0362909-c691-4136-8189-f5562ab81aca",
   "metadata": {},
   "outputs": [
    {
     "name": "stdout",
     "output_type": "stream",
     "text": [
      "<class 'pandas.core.frame.DataFrame'>\n",
      "RangeIndex: 891 entries, 0 to 890\n",
      "Data columns (total 12 columns):\n",
      " #   Column       Non-Null Count  Dtype  \n",
      "---  ------       --------------  -----  \n",
      " 0   PassengerId  891 non-null    int64  \n",
      " 1   Survived     891 non-null    int64  \n",
      " 2   Pclass       891 non-null    int64  \n",
      " 3   Name         891 non-null    object \n",
      " 4   Sex          891 non-null    object \n",
      " 5   Age          714 non-null    float64\n",
      " 6   SibSp        891 non-null    int64  \n",
      " 7   Parch        891 non-null    int64  \n",
      " 8   Ticket       891 non-null    object \n",
      " 9   Fare         891 non-null    float64\n",
      " 10  Cabin        204 non-null    object \n",
      " 11  Embarked     889 non-null    object \n",
      "dtypes: float64(2), int64(5), object(5)\n",
      "memory usage: 83.7+ KB\n"
     ]
    }
   ],
   "source": [
    "titanic_df.info()"
   ]
  },
  {
   "cell_type": "code",
   "execution_count": 4,
   "id": "3da97c7b-5c4d-4e31-ac55-31d07a187258",
   "metadata": {},
   "outputs": [],
   "source": [
    "titanic_df['Age'].fillna(titanic_df['Age'].mean(),inplace=True)\n",
    "titanic_df['Cabin'].fillna('N',inplace=True)\n",
    "titanic_df['Embarked'].fillna('N',inplace=True)"
   ]
  },
  {
   "cell_type": "code",
   "execution_count": 5,
   "id": "11562204-8809-430b-8071-76837983c8d4",
   "metadata": {},
   "outputs": [
    {
     "data": {
      "text/plain": [
       "PassengerId    0\n",
       "Survived       0\n",
       "Pclass         0\n",
       "Name           0\n",
       "Sex            0\n",
       "Age            0\n",
       "SibSp          0\n",
       "Parch          0\n",
       "Ticket         0\n",
       "Fare           0\n",
       "Cabin          0\n",
       "Embarked       0\n",
       "dtype: int64"
      ]
     },
     "execution_count": 5,
     "metadata": {},
     "output_type": "execute_result"
    }
   ],
   "source": [
    "titanic_df.isnull().sum()"
   ]
  },
  {
   "cell_type": "code",
   "execution_count": 6,
   "id": "9c523f03-79a7-4a94-81d6-43190186b46b",
   "metadata": {},
   "outputs": [
    {
     "data": {
      "text/plain": [
       "male      577\n",
       "female    314\n",
       "Name: Sex, dtype: int64"
      ]
     },
     "execution_count": 6,
     "metadata": {},
     "output_type": "execute_result"
    }
   ],
   "source": [
    "titanic_df.Sex.value_counts()"
   ]
  },
  {
   "cell_type": "code",
   "execution_count": 7,
   "id": "bca746ff-e3c3-424f-a1b8-ffa5aab5e7bf",
   "metadata": {},
   "outputs": [
    {
     "data": {
      "text/plain": [
       "S    644\n",
       "C    168\n",
       "Q     77\n",
       "N      2\n",
       "Name: Embarked, dtype: int64"
      ]
     },
     "execution_count": 7,
     "metadata": {},
     "output_type": "execute_result"
    }
   ],
   "source": [
    "titanic_df.Embarked.value_counts()"
   ]
  },
  {
   "cell_type": "code",
   "execution_count": 8,
   "id": "a5a3c46f-64f6-4205-aeda-b58df872984b",
   "metadata": {
    "tags": []
   },
   "outputs": [
    {
     "data": {
      "text/plain": [
       "N              687\n",
       "C23 C25 C27      4\n",
       "G6               4\n",
       "B96 B98          4\n",
       "C22 C26          3\n",
       "              ... \n",
       "E34              1\n",
       "C7               1\n",
       "C54              1\n",
       "E36              1\n",
       "C148             1\n",
       "Name: Cabin, Length: 148, dtype: int64"
      ]
     },
     "execution_count": 8,
     "metadata": {},
     "output_type": "execute_result"
    }
   ],
   "source": [
    "titanic_df.Cabin.value_counts() #추후 첫글자 알파벳만 따서 처리"
   ]
  },
  {
   "cell_type": "code",
   "execution_count": 9,
   "id": "06aa05f4-bca1-4aff-ad8a-6fa626f67c7f",
   "metadata": {},
   "outputs": [],
   "source": [
    "titanic_df.Cabin.str[:1]\n",
    "titanic_df.Cabin = titanic_df.Cabin.str[:1]"
   ]
  },
  {
   "cell_type": "code",
   "execution_count": 10,
   "id": "b3781cee-60d2-4ed7-b7e9-4c3d607a151c",
   "metadata": {},
   "outputs": [
    {
     "data": {
      "text/plain": [
       "0    N\n",
       "1    C\n",
       "2    N\n",
       "Name: Cabin, dtype: object"
      ]
     },
     "execution_count": 10,
     "metadata": {},
     "output_type": "execute_result"
    }
   ],
   "source": [
    "titanic_df.Cabin.head(3)"
   ]
  },
  {
   "cell_type": "code",
   "execution_count": 11,
   "id": "66f19082-0a70-446a-9ed2-4765c7634d4b",
   "metadata": {},
   "outputs": [
    {
     "data": {
      "text/plain": [
       "Sex     Survived\n",
       "female  0            81\n",
       "        1           233\n",
       "male    0           468\n",
       "        1           109\n",
       "Name: Survived, dtype: int64"
      ]
     },
     "execution_count": 11,
     "metadata": {},
     "output_type": "execute_result"
    }
   ],
   "source": [
    "titanic_df.groupby(['Sex', 'Survived']).count() #성별에 따른 생존율 확인\n",
    "titanic_df.groupby(['Sex', 'Survived'])['Survived'].count() #여러컬럼중 Survived컬럼만 보고싶을때"
   ]
  },
  {
   "cell_type": "code",
   "execution_count": 12,
   "id": "f38852ea-cbc0-4327-a417-841a8fef7c7a",
   "metadata": {},
   "outputs": [
    {
     "data": {
      "text/plain": [
       "<AxesSubplot:xlabel='Sex', ylabel='Survived'>"
      ]
     },
     "execution_count": 12,
     "metadata": {},
     "output_type": "execute_result"
    },
    {
     "data": {
      "image/png": "[encoded data removed]",
      "text/plain": [
       "<Figure size 432x288 with 1 Axes>"
      ]
     },
     "metadata": {
      "needs_background": "light"
     },
     "output_type": "display_data"
    }
   ],
   "source": [
    "sns.barplot(x='Sex',y='Survived',data=titanic_df)"
   ]
  },
  {
   "cell_type": "markdown",
   "id": "0db98553-d546-4712-895d-f04341506d8d",
   "metadata": {},
   "source": [
    "---"
   ]
  },
  {
   "cell_type": "code",
   "execution_count": 13,
   "id": "e7d8a096-5b62-4647-bfb7-332a41bb4266",
   "metadata": {},
   "outputs": [
    {
     "data": {
      "text/plain": [
       "<AxesSubplot:xlabel='Pclass', ylabel='Survived'>"
      ]
     },
     "execution_count": 13,
     "metadata": {},
     "output_type": "execute_result"
    },
    {
     "data": {
      "image/png": "[encoded data removed]",
      "text/plain": [
       "<Figure size 432x288 with 1 Axes>"
      ]
     },
     "metadata": {
      "needs_background": "light"
     },
     "output_type": "display_data"
    }
   ],
   "source": [
    "sns.barplot(x='Pclass', y='Survived', hue='Sex', data=titanic_df)"
   ]
  },
  {
   "cell_type": "code",
   "execution_count": 14,
   "id": "9a2dbfb5-6d71-4d29-a343-a263262a055f",
   "metadata": {},
   "outputs": [],
   "source": [
    "# -----------------------------------------------------------"
   ]
  },
  {
   "cell_type": "code",
   "execution_count": 15,
   "id": "4cdb113c-684c-4556-808f-b555b4bffc81",
   "metadata": {},
   "outputs": [
    {
     "data": {
      "text/plain": [
       "<AxesSubplot:xlabel='Age', ylabel='Survived'>"
      ]
     },
     "execution_count": 15,
     "metadata": {},
     "output_type": "execute_result"
    },
    {
     "data": {
      "image/png": "[encoded data removed]",
      "text/plain": [
       "<Figure size 432x288 with 1 Axes>"
      ]
     },
     "metadata": {
      "needs_background": "light"
     },
     "output_type": "display_data"
    }
   ],
   "source": [
    "sns.barplot(x='Age', y='Survived', hue='Sex', data=titanic_df)"
   ]
  },
  {
   "cell_type": "code",
   "execution_count": 16,
   "id": "113811fb-2957-4abc-bfa7-30a308bd3a62",
   "metadata": {},
   "outputs": [],
   "source": [
    "# -----------------------------------------------------------"
   ]
  },
  {
   "cell_type": "code",
   "execution_count": 17,
   "id": "1fa1ae31-b578-417f-a9ec-d401752895b2",
   "metadata": {},
   "outputs": [],
   "source": [
    "# 복잡하게 나타나므로, 나이를 구간으로 나눠서 그래프를 그려본다.\n",
    "\n",
    "def get_category(age) :\n",
    "    cat = ''\n",
    "    if age <= -1 : cat='Unknow'\n",
    "    elif age <= 5 : cat='Baby'\n",
    "    elif age <= 12 : cat = 'Child'\n",
    "    elif age <= 18 : cat = 'Teenager'\n",
    "    elif age <= 25 : cat = 'Student'\n",
    "    elif age <= 35 : cat = 'Young Adult'\n",
    "    elif age <= 60 : cat = 'Adult'\n",
    "    else : cat='Elderly'\n",
    "    \n",
    "    return cat"
   ]
  },
  {
   "cell_type": "code",
   "execution_count": 18,
   "id": "0511b56e-0cbe-4fb4-8b07-9e831f4d0984",
   "metadata": {},
   "outputs": [
    {
     "data": {
      "text/plain": [
       "<Figure size 720x432 with 0 Axes>"
      ]
     },
     "metadata": {},
     "output_type": "display_data"
    }
   ],
   "source": [
    "plt.figure(figsize=(10, 6))\n",
    "\n",
    "group_names = ['Unknow', 'Baby', 'Child', 'Teenager',  'Student', 'Young Adult', 'Adult','Elderly']\n",
    "\n",
    "# age 라는 컬럼에 apply로 적용시키겠다\n",
    "# lambda x 에 \n",
    "# age값 하나가 x에 담겨서 작업을 한다.\n",
    "titanic_df['Age_cat'] = titanic_df['Age'].apply(lambda x : get_category(x))"
   ]
  },
  {
   "cell_type": "code",
   "execution_count": 19,
   "id": "4495d6ad-0027-431d-bc6b-049df1d87dea",
   "metadata": {},
   "outputs": [
    {
     "data": {
      "text/html": [
       "<div>\n",
       "<style scoped>\n",
       "    .dataframe tbody tr th:only-of-type {\n",
       "        vertical-align: middle;\n",
       "    }\n",
       "\n",
       "    .dataframe tbody tr th {\n",
       "        vertical-align: top;\n",
       "    }\n",
       "\n",
       "    .dataframe thead th {\n",
       "        text-align: right;\n",
       "    }\n",
       "</style>\n",
       "<table border=\"1\" class=\"dataframe\">\n",
       "  <thead>\n",
       "    <tr style=\"text-align: right;\">\n",
       "      <th></th>\n",
       "      <th>PassengerId</th>\n",
       "      <th>Survived</th>\n",
       "      <th>Pclass</th>\n",
       "      <th>Name</th>\n",
       "      <th>Sex</th>\n",
       "      <th>Age</th>\n",
       "      <th>SibSp</th>\n",
       "      <th>Parch</th>\n",
       "      <th>Ticket</th>\n",
       "      <th>Fare</th>\n",
       "      <th>Cabin</th>\n",
       "      <th>Embarked</th>\n",
       "      <th>Age_cat</th>\n",
       "    </tr>\n",
       "  </thead>\n",
       "  <tbody>\n",
       "    <tr>\n",
       "      <th>0</th>\n",
       "      <td>1</td>\n",
       "      <td>0</td>\n",
       "      <td>3</td>\n",
       "      <td>Braund, Mr. Owen Harris</td>\n",
       "      <td>male</td>\n",
       "      <td>22.000000</td>\n",
       "      <td>1</td>\n",
       "      <td>0</td>\n",
       "      <td>A/5 21171</td>\n",
       "      <td>7.2500</td>\n",
       "      <td>N</td>\n",
       "      <td>S</td>\n",
       "      <td>Student</td>\n",
       "    </tr>\n",
       "    <tr>\n",
       "      <th>1</th>\n",
       "      <td>2</td>\n",
       "      <td>1</td>\n",
       "      <td>1</td>\n",
       "      <td>Cumings, Mrs. John Bradley (Florence Briggs Th...</td>\n",
       "      <td>female</td>\n",
       "      <td>38.000000</td>\n",
       "      <td>1</td>\n",
       "      <td>0</td>\n",
       "      <td>PC 17599</td>\n",
       "      <td>71.2833</td>\n",
       "      <td>C</td>\n",
       "      <td>C</td>\n",
       "      <td>Adult</td>\n",
       "    </tr>\n",
       "    <tr>\n",
       "      <th>2</th>\n",
       "      <td>3</td>\n",
       "      <td>1</td>\n",
       "      <td>3</td>\n",
       "      <td>Heikkinen, Miss. Laina</td>\n",
       "      <td>female</td>\n",
       "      <td>26.000000</td>\n",
       "      <td>0</td>\n",
       "      <td>0</td>\n",
       "      <td>STON/O2. 3101282</td>\n",
       "      <td>7.9250</td>\n",
       "      <td>N</td>\n",
       "      <td>S</td>\n",
       "      <td>Young Adult</td>\n",
       "    </tr>\n",
       "    <tr>\n",
       "      <th>3</th>\n",
       "      <td>4</td>\n",
       "      <td>1</td>\n",
       "      <td>1</td>\n",
       "      <td>Futrelle, Mrs. Jacques Heath (Lily May Peel)</td>\n",
       "      <td>female</td>\n",
       "      <td>35.000000</td>\n",
       "      <td>1</td>\n",
       "      <td>0</td>\n",
       "      <td>113803</td>\n",
       "      <td>53.1000</td>\n",
       "      <td>C</td>\n",
       "      <td>S</td>\n",
       "      <td>Young Adult</td>\n",
       "    </tr>\n",
       "    <tr>\n",
       "      <th>4</th>\n",
       "      <td>5</td>\n",
       "      <td>0</td>\n",
       "      <td>3</td>\n",
       "      <td>Allen, Mr. William Henry</td>\n",
       "      <td>male</td>\n",
       "      <td>35.000000</td>\n",
       "      <td>0</td>\n",
       "      <td>0</td>\n",
       "      <td>373450</td>\n",
       "      <td>8.0500</td>\n",
       "      <td>N</td>\n",
       "      <td>S</td>\n",
       "      <td>Young Adult</td>\n",
       "    </tr>\n",
       "    <tr>\n",
       "      <th>...</th>\n",
       "      <td>...</td>\n",
       "      <td>...</td>\n",
       "      <td>...</td>\n",
       "      <td>...</td>\n",
       "      <td>...</td>\n",
       "      <td>...</td>\n",
       "      <td>...</td>\n",
       "      <td>...</td>\n",
       "      <td>...</td>\n",
       "      <td>...</td>\n",
       "      <td>...</td>\n",
       "      <td>...</td>\n",
       "      <td>...</td>\n",
       "    </tr>\n",
       "    <tr>\n",
       "      <th>886</th>\n",
       "      <td>887</td>\n",
       "      <td>0</td>\n",
       "      <td>2</td>\n",
       "      <td>Montvila, Rev. Juozas</td>\n",
       "      <td>male</td>\n",
       "      <td>27.000000</td>\n",
       "      <td>0</td>\n",
       "      <td>0</td>\n",
       "      <td>211536</td>\n",
       "      <td>13.0000</td>\n",
       "      <td>N</td>\n",
       "      <td>S</td>\n",
       "      <td>Young Adult</td>\n",
       "    </tr>\n",
       "    <tr>\n",
       "      <th>887</th>\n",
       "      <td>888</td>\n",
       "      <td>1</td>\n",
       "      <td>1</td>\n",
       "      <td>Graham, Miss. Margaret Edith</td>\n",
       "      <td>female</td>\n",
       "      <td>19.000000</td>\n",
       "      <td>0</td>\n",
       "      <td>0</td>\n",
       "      <td>112053</td>\n",
       "      <td>30.0000</td>\n",
       "      <td>B</td>\n",
       "      <td>S</td>\n",
       "      <td>Student</td>\n",
       "    </tr>\n",
       "    <tr>\n",
       "      <th>888</th>\n",
       "      <td>889</td>\n",
       "      <td>0</td>\n",
       "      <td>3</td>\n",
       "      <td>Johnston, Miss. Catherine Helen \"Carrie\"</td>\n",
       "      <td>female</td>\n",
       "      <td>29.699118</td>\n",
       "      <td>1</td>\n",
       "      <td>2</td>\n",
       "      <td>W./C. 6607</td>\n",
       "      <td>23.4500</td>\n",
       "      <td>N</td>\n",
       "      <td>S</td>\n",
       "      <td>Young Adult</td>\n",
       "    </tr>\n",
       "    <tr>\n",
       "      <th>889</th>\n",
       "      <td>890</td>\n",
       "      <td>1</td>\n",
       "      <td>1</td>\n",
       "      <td>Behr, Mr. Karl Howell</td>\n",
       "      <td>male</td>\n",
       "      <td>26.000000</td>\n",
       "      <td>0</td>\n",
       "      <td>0</td>\n",
       "      <td>111369</td>\n",
       "      <td>30.0000</td>\n",
       "      <td>C</td>\n",
       "      <td>C</td>\n",
       "      <td>Young Adult</td>\n",
       "    </tr>\n",
       "    <tr>\n",
       "      <th>890</th>\n",
       "      <td>891</td>\n",
       "      <td>0</td>\n",
       "      <td>3</td>\n",
       "      <td>Dooley, Mr. Patrick</td>\n",
       "      <td>male</td>\n",
       "      <td>32.000000</td>\n",
       "      <td>0</td>\n",
       "      <td>0</td>\n",
       "      <td>370376</td>\n",
       "      <td>7.7500</td>\n",
       "      <td>N</td>\n",
       "      <td>Q</td>\n",
       "      <td>Young Adult</td>\n",
       "    </tr>\n",
       "  </tbody>\n",
       "</table>\n",
       "<p>891 rows × 13 columns</p>\n",
       "</div>"
      ],
      "text/plain": [
       "     PassengerId  Survived  Pclass  \\\n",
       "0              1         0       3   \n",
       "1              2         1       1   \n",
       "2              3         1       3   \n",
       "3              4         1       1   \n",
       "4              5         0       3   \n",
       "..           ...       ...     ...   \n",
       "886          887         0       2   \n",
       "887          888         1       1   \n",
       "888          889         0       3   \n",
       "889          890         1       1   \n",
       "890          891         0       3   \n",
       "\n",
       "                                                  Name     Sex        Age  \\\n",
       "0                              Braund, Mr. Owen Harris    male  22.000000   \n",
       "1    Cumings, Mrs. John Bradley (Florence Briggs Th...  female  38.000000   \n",
       "2                               Heikkinen, Miss. Laina  female  26.000000   \n",
       "3         Futrelle, Mrs. Jacques Heath (Lily May Peel)  female  35.000000   \n",
       "4                             Allen, Mr. William Henry    male  35.000000   \n",
       "..                                                 ...     ...        ...   \n",
       "886                              Montvila, Rev. Juozas    male  27.000000   \n",
       "887                       Graham, Miss. Margaret Edith  female  19.000000   \n",
       "888           Johnston, Miss. Catherine Helen \"Carrie\"  female  29.699118   \n",
       "889                              Behr, Mr. Karl Howell    male  26.000000   \n",
       "890                                Dooley, Mr. Patrick    male  32.000000   \n",
       "\n",
       "     SibSp  Parch            Ticket     Fare Cabin Embarked      Age_cat  \n",
       "0        1      0         A/5 21171   7.2500     N        S      Student  \n",
       "1        1      0          PC 17599  71.2833     C        C        Adult  \n",
       "2        0      0  STON/O2. 3101282   7.9250     N        S  Young Adult  \n",
       "3        1      0            113803  53.1000     C        S  Young Adult  \n",
       "4        0      0            373450   8.0500     N        S  Young Adult  \n",
       "..     ...    ...               ...      ...   ...      ...          ...  \n",
       "886      0      0            211536  13.0000     N        S  Young Adult  \n",
       "887      0      0            112053  30.0000     B        S      Student  \n",
       "888      1      2        W./C. 6607  23.4500     N        S  Young Adult  \n",
       "889      0      0            111369  30.0000     C        C  Young Adult  \n",
       "890      0      0            370376   7.7500     N        Q  Young Adult  \n",
       "\n",
       "[891 rows x 13 columns]"
      ]
     },
     "execution_count": 19,
     "metadata": {},
     "output_type": "execute_result"
    }
   ],
   "source": [
    "titanic_df"
   ]
  },
  {
   "cell_type": "code",
   "execution_count": 20,
   "id": "84301e29-53ae-42ec-b543-20ecb11f9930",
   "metadata": {},
   "outputs": [
    {
     "data": {
      "text/plain": [
       "<AxesSubplot:xlabel='Age_cat', ylabel='Survived'>"
      ]
     },
     "execution_count": 20,
     "metadata": {},
     "output_type": "execute_result"
    },
    {
     "data": {
      "image/png": "[encoded data removed]",
      "text/plain": [
       "<Figure size 432x288 with 1 Axes>"
      ]
     },
     "metadata": {
      "needs_background": "light"
     },
     "output_type": "display_data"
    }
   ],
   "source": [
    "sns.barplot(x='Age_cat', y='Survived', hue='Sex', data=titanic_df, order=group_names)"
   ]
  },
  {
   "cell_type": "code",
   "execution_count": 21,
   "id": "c94c799a-7545-4cf4-b462-643cec4abd9c",
   "metadata": {},
   "outputs": [],
   "source": [
    "def encode_feature(dataDF) :\n",
    "    from sklearn.preprocessing import LabelEncoder\n",
    "    \n",
    "    # categorical 컬럼이름\n",
    "    features = ['Cabin', 'Sex', 'Embarked']\n",
    "    \n",
    "    for feature in features :\n",
    "        dataDF[feature] = LabelEncoder().fit_transform(dataDF[feature])\n",
    "        \n",
    "    return dataDF"
   ]
  },
  {
   "cell_type": "code",
   "execution_count": 22,
   "id": "7cb28535-b52c-4c04-9594-acdad0d21552",
   "metadata": {},
   "outputs": [
    {
     "data": {
      "text/html": [
       "<div>\n",
       "<style scoped>\n",
       "    .dataframe tbody tr th:only-of-type {\n",
       "        vertical-align: middle;\n",
       "    }\n",
       "\n",
       "    .dataframe tbody tr th {\n",
       "        vertical-align: top;\n",
       "    }\n",
       "\n",
       "    .dataframe thead th {\n",
       "        text-align: right;\n",
       "    }\n",
       "</style>\n",
       "<table border=\"1\" class=\"dataframe\">\n",
       "  <thead>\n",
       "    <tr style=\"text-align: right;\">\n",
       "      <th></th>\n",
       "      <th>PassengerId</th>\n",
       "      <th>Survived</th>\n",
       "      <th>Pclass</th>\n",
       "      <th>Name</th>\n",
       "      <th>Sex</th>\n",
       "      <th>Age</th>\n",
       "      <th>SibSp</th>\n",
       "      <th>Parch</th>\n",
       "      <th>Ticket</th>\n",
       "      <th>Fare</th>\n",
       "      <th>Cabin</th>\n",
       "      <th>Embarked</th>\n",
       "      <th>Age_cat</th>\n",
       "    </tr>\n",
       "  </thead>\n",
       "  <tbody>\n",
       "    <tr>\n",
       "      <th>0</th>\n",
       "      <td>1</td>\n",
       "      <td>0</td>\n",
       "      <td>3</td>\n",
       "      <td>Braund, Mr. Owen Harris</td>\n",
       "      <td>1</td>\n",
       "      <td>22.0</td>\n",
       "      <td>1</td>\n",
       "      <td>0</td>\n",
       "      <td>A/5 21171</td>\n",
       "      <td>7.2500</td>\n",
       "      <td>7</td>\n",
       "      <td>3</td>\n",
       "      <td>Student</td>\n",
       "    </tr>\n",
       "    <tr>\n",
       "      <th>1</th>\n",
       "      <td>2</td>\n",
       "      <td>1</td>\n",
       "      <td>1</td>\n",
       "      <td>Cumings, Mrs. John Bradley (Florence Briggs Th...</td>\n",
       "      <td>0</td>\n",
       "      <td>38.0</td>\n",
       "      <td>1</td>\n",
       "      <td>0</td>\n",
       "      <td>PC 17599</td>\n",
       "      <td>71.2833</td>\n",
       "      <td>2</td>\n",
       "      <td>0</td>\n",
       "      <td>Adult</td>\n",
       "    </tr>\n",
       "    <tr>\n",
       "      <th>2</th>\n",
       "      <td>3</td>\n",
       "      <td>1</td>\n",
       "      <td>3</td>\n",
       "      <td>Heikkinen, Miss. Laina</td>\n",
       "      <td>0</td>\n",
       "      <td>26.0</td>\n",
       "      <td>0</td>\n",
       "      <td>0</td>\n",
       "      <td>STON/O2. 3101282</td>\n",
       "      <td>7.9250</td>\n",
       "      <td>7</td>\n",
       "      <td>3</td>\n",
       "      <td>Young Adult</td>\n",
       "    </tr>\n",
       "    <tr>\n",
       "      <th>3</th>\n",
       "      <td>4</td>\n",
       "      <td>1</td>\n",
       "      <td>1</td>\n",
       "      <td>Futrelle, Mrs. Jacques Heath (Lily May Peel)</td>\n",
       "      <td>0</td>\n",
       "      <td>35.0</td>\n",
       "      <td>1</td>\n",
       "      <td>0</td>\n",
       "      <td>113803</td>\n",
       "      <td>53.1000</td>\n",
       "      <td>2</td>\n",
       "      <td>3</td>\n",
       "      <td>Young Adult</td>\n",
       "    </tr>\n",
       "    <tr>\n",
       "      <th>4</th>\n",
       "      <td>5</td>\n",
       "      <td>0</td>\n",
       "      <td>3</td>\n",
       "      <td>Allen, Mr. William Henry</td>\n",
       "      <td>1</td>\n",
       "      <td>35.0</td>\n",
       "      <td>0</td>\n",
       "      <td>0</td>\n",
       "      <td>373450</td>\n",
       "      <td>8.0500</td>\n",
       "      <td>7</td>\n",
       "      <td>3</td>\n",
       "      <td>Young Adult</td>\n",
       "    </tr>\n",
       "  </tbody>\n",
       "</table>\n",
       "</div>"
      ],
      "text/plain": [
       "   PassengerId  Survived  Pclass  \\\n",
       "0            1         0       3   \n",
       "1            2         1       1   \n",
       "2            3         1       3   \n",
       "3            4         1       1   \n",
       "4            5         0       3   \n",
       "\n",
       "                                                Name  Sex   Age  SibSp  Parch  \\\n",
       "0                            Braund, Mr. Owen Harris    1  22.0      1      0   \n",
       "1  Cumings, Mrs. John Bradley (Florence Briggs Th...    0  38.0      1      0   \n",
       "2                             Heikkinen, Miss. Laina    0  26.0      0      0   \n",
       "3       Futrelle, Mrs. Jacques Heath (Lily May Peel)    0  35.0      1      0   \n",
       "4                           Allen, Mr. William Henry    1  35.0      0      0   \n",
       "\n",
       "             Ticket     Fare  Cabin  Embarked      Age_cat  \n",
       "0         A/5 21171   7.2500      7         3      Student  \n",
       "1          PC 17599  71.2833      2         0        Adult  \n",
       "2  STON/O2. 3101282   7.9250      7         3  Young Adult  \n",
       "3            113803  53.1000      2         3  Young Adult  \n",
       "4            373450   8.0500      7         3  Young Adult  "
      ]
     },
     "execution_count": 22,
     "metadata": {},
     "output_type": "execute_result"
    }
   ],
   "source": [
    "titanic_df = encode_feature(titanic_df)\n",
    "titanic_df.head()"
   ]
  },
  {
   "cell_type": "code",
   "execution_count": 23,
   "id": "6d52d59f-3109-4bff-8bdc-bb78d28acff5",
   "metadata": {},
   "outputs": [],
   "source": [
    "def fillna(df) :\n",
    "    df['Age'].fillna(df['Age'].mean(),inplace=True)\n",
    "    df['Cabin'].fillna('N',inplace=True)\n",
    "    df['Embarked'].fillna('N',inplace=True)\n",
    "    df['Fare'].fillna(0,inplace=True)\n",
    "    \n",
    "    return df\n",
    "    \n",
    "def drop_features(df) :\n",
    "    df.drop(columns=['PassengerId', 'Name', 'Ticket'], inplace=True)\n",
    "    \n",
    "    return df\n",
    "\n",
    "\n",
    "def format_features(df) :\n",
    "    from sklearn.preprocessing import LabelEncoder\n",
    "    \n",
    "    df.Cabin = df.Cabin.str[:1]\n",
    "    \n",
    "    # categorical 컬럼이름\n",
    "    features = ['Cabin', 'Sex', 'Embarked']\n",
    "    \n",
    "    for feature in features :\n",
    "        df[feature] = LabelEncoder().fit_transform(df[feature])\n",
    "        \n",
    "    return df\n",
    "\n",
    "\n",
    "def transform_features(df) :\n",
    "    df = fillna(df)\n",
    "    df = drop_features(df)\n",
    "    df = format_features(df)\n",
    "    \n",
    "    return df"
   ]
  },
  {
   "cell_type": "code",
   "execution_count": 24,
   "id": "5e05491e-0998-4205-8ea7-781d95e5d21e",
   "metadata": {},
   "outputs": [],
   "source": [
    "titanic_df = pd.read_csv('titanic_train.csv')\n",
    "y_titanic_df = titanic_df['Survived']\n",
    "X_titanic_df = titanic_df.drop(columns=['Survived'])\n",
    "X_titanic_df = transform_features(X_titanic_df)"
   ]
  },
  {
   "cell_type": "code",
   "execution_count": 25,
   "id": "abf12771-284c-46ac-83b7-93c9c0d0676c",
   "metadata": {},
   "outputs": [],
   "source": [
    "from sklearn.model_selection import train_test_split\n",
    "\n",
    "X_train, X_test, y_train, y_test = train_test_split(X_titanic_df, \n",
    "                                                    y_titanic_df, \n",
    "                                                    test_size=0.2,\n",
    "                                                    random_state=11)"
   ]
  },
  {
   "cell_type": "code",
   "execution_count": 26,
   "id": "1213e94a-aff0-47b8-9d14-f531069e498a",
   "metadata": {},
   "outputs": [],
   "source": [
    "from sklearn.tree import DecisionTreeClassifier\n",
    "from sklearn.ensemble import RandomForestClassifier\n",
    "from sklearn.linear_model import LogisticRegression\n",
    "from sklearn.metrics import accuracy_score"
   ]
  },
  {
   "cell_type": "code",
   "execution_count": 27,
   "id": "53b724f8-a689-4dcd-98a6-d19f2a6f3af6",
   "metadata": {},
   "outputs": [],
   "source": [
    "dt_clf = DecisionTreeClassifier(random_state=11)\n",
    "rf_clf = RandomForestClassifier(random_state=11)\n",
    "lr_clf = LogisticRegression()"
   ]
  },
  {
   "cell_type": "code",
   "execution_count": 28,
   "id": "6768444e-3b93-45e1-86ef-7ab5c477b05d",
   "metadata": {},
   "outputs": [
    {
     "data": {
      "text/plain": [
       "LogisticRegression()"
      ]
     },
     "execution_count": 28,
     "metadata": {},
     "output_type": "execute_result"
    }
   ],
   "source": [
    "dt_clf.fit(X_train, y_train)\n",
    "rf_clf.fit(X_train, y_train)\n",
    "lr_clf.fit(X_train, y_train)"
   ]
  },
  {
   "cell_type": "code",
   "execution_count": 29,
   "id": "40a56d89-d743-409c-b102-3e53d5741a03",
   "metadata": {},
   "outputs": [],
   "source": [
    "dt_pred = dt_clf.predict(X_test)\n",
    "rf_pred = rf_clf.predict(X_test)\n",
    "lr_pred = lr_clf.predict(X_test)"
   ]
  },
  {
   "cell_type": "code",
   "execution_count": 30,
   "id": "124a5fde-4800-4210-a733-7381ec719479",
   "metadata": {},
   "outputs": [
    {
     "name": "stdout",
     "output_type": "stream",
     "text": [
      "dt 0.7877094972067039\n",
      "rf 0.8547486033519553\n",
      "lr 0.8491620111731844\n"
     ]
    }
   ],
   "source": [
    "print('dt',accuracy_score(y_test,dt_pred))\n",
    "print('rf',accuracy_score(y_test,rf_pred))\n",
    "print('lr',accuracy_score(y_test,lr_pred))"
   ]
  },
  {
   "cell_type": "markdown",
   "id": "eb0f44f5-ae7e-4a81-a0b9-1847c1a6404e",
   "metadata": {},
   "source": [
    "---\n",
    "# day 03"
   ]
  },
  {
   "cell_type": "code",
   "execution_count": 31,
   "id": "006c18c3-3475-4ebf-853c-ab5803d93727",
   "metadata": {},
   "outputs": [],
   "source": [
    "from sklearn.model_selection import KFold"
   ]
  },
  {
   "cell_type": "code",
   "execution_count": 32,
   "id": "5fe0fb60-43a6-42ec-a6c7-a32edef04d4e",
   "metadata": {},
   "outputs": [],
   "source": [
    "def exec_kfold(clf, folds=5) :\n",
    "    kfold = KFold(n_splits=folds)\n",
    "    \n",
    "    scores = []\n",
    "    \n",
    "    for iter_count, (train_index, test_index) in enumerate(kfold.split(X_titanic_df)) :\n",
    "        # kfold.split(X_titanic_df)\n",
    "        # [ (array( [] )), (array( [] )), (array( [] )), ... , (array( [] )) ] 형태로 나타남.\n",
    "        # [ ( ), ( ), ... , ( )] 형태 => 튜플 개수가 폴드(n_splits) 개수임.\n",
    "        \n",
    "        # index값을 이용해서 데이터 분리 시키기\n",
    "        X_train, X_test = X_titanic_df.values[train_index], X_titanic_df.values[test_index]\n",
    "        y_train, y_test = y_titanic_df.values[train_index], y_titanic_df.values[test_index]\n",
    "        \n",
    "        # classifier 모델으로 학습 및 스코어 확인\n",
    "        clf.fit(X_train, y_train)\n",
    "        pred = clf.predict(X_test)\n",
    "        accuracy = accuracy_score(y_test, pred)\n",
    "        scores.append(accuracy)\n",
    "        \n",
    "        print(f'교차검증 {iter_count} 정확도 : {accuracy:.4f}')\n",
    "        \n",
    "    mean_score = np.mean(scores)\n",
    "    print(f'평균 정확도 : {mean_score}')\n",
    "        "
   ]
  },
  {
   "cell_type": "code",
   "execution_count": 33,
   "id": "cad1cfca-01df-44c7-9353-65ae00e85a5f",
   "metadata": {},
   "outputs": [],
   "source": [
    "list(KFold(n_splits=2).split(X_titanic_df));"
   ]
  },
  {
   "cell_type": "code",
   "execution_count": 34,
   "id": "0ef8a430-d07d-441a-9f1a-621f0ff34078",
   "metadata": {},
   "outputs": [
    {
     "name": "stdout",
     "output_type": "stream",
     "text": [
      "교차검증 0 정확도 : 0.7542\n",
      "교차검증 1 정확도 : 0.7809\n",
      "교차검증 2 정확도 : 0.7865\n",
      "교차검증 3 정확도 : 0.7697\n",
      "교차검증 4 정확도 : 0.8202\n",
      "평균 정확도 : 0.782298662984119\n"
     ]
    }
   ],
   "source": [
    "exec_kfold(dt_clf)"
   ]
  },
  {
   "cell_type": "code",
   "execution_count": 35,
   "id": "b4ee0fe8-130c-4d53-b990-0493dfcf5769",
   "metadata": {},
   "outputs": [
    {
     "name": "stdout",
     "output_type": "stream",
     "text": [
      "교차검증 0 정확도 : 0.7933\n",
      "교차검증 1 정확도 : 0.8090\n",
      "교차검증 2 정확도 : 0.8371\n",
      "교차검증 3 정확도 : 0.7753\n",
      "교차검증 4 정확도 : 0.8596\n",
      "평균 정확도 : 0.8148389931579938\n"
     ]
    }
   ],
   "source": [
    "exec_kfold(rf_clf)"
   ]
  },
  {
   "cell_type": "code",
   "execution_count": 36,
   "id": "2dd1e6da-0d7e-486e-9b5e-d4a6013613f2",
   "metadata": {},
   "outputs": [
    {
     "name": "stdout",
     "output_type": "stream",
     "text": [
      "교차검증 0 정확도 : 0.8045\n",
      "교차검증 1 정확도 : 0.7809\n",
      "교차검증 2 정확도 : 0.7753\n",
      "교차검증 3 정확도 : 0.7584\n",
      "교차검증 4 정확도 : 0.8371\n",
      "평균 정확도 : 0.7912309334002887\n"
     ]
    }
   ],
   "source": [
    "exec_kfold(lr_clf)"
   ]
  },
  {
   "cell_type": "code",
   "execution_count": 37,
   "id": "40757753-6eb8-408c-8004-bc33e354f17b",
   "metadata": {},
   "outputs": [],
   "source": [
    "from sklearn.model_selection import cross_val_score"
   ]
  },
  {
   "cell_type": "code",
   "execution_count": 38,
   "id": "832de3b9-085a-4562-82a3-34b82ef7fb5d",
   "metadata": {},
   "outputs": [
    {
     "name": "stdout",
     "output_type": "stream",
     "text": [
      "교차검증 0 정확도 : 0.7430\n",
      "교차검증 1 정확도 : 0.7753\n",
      "교차검증 2 정확도 : 0.7921\n",
      "교차검증 3 정확도 : 0.7865\n",
      "교차검증 4 정확도 : 0.8427\n",
      "평균정확도 : 0.7879291946519366\n"
     ]
    }
   ],
   "source": [
    "scores = cross_val_score(dt_clf, X_titanic_df, y_titanic_df, cv=5)\n",
    "\n",
    "for iter_count, accuracy in enumerate(scores) :\n",
    "    print(f'교차검증 {iter_count} 정확도 : {accuracy:.4f}')\n",
    "    \n",
    "print(f'평균정확도 : {np.mean(scores)}')"
   ]
  },
  {
   "cell_type": "code",
   "execution_count": 39,
   "id": "50a0131c-0ec2-43cb-994d-d30a50a46968",
   "metadata": {},
   "outputs": [
    {
     "name": "stdout",
     "output_type": "stream",
     "text": [
      "교차검증 0 정확도 : 0.7933\n",
      "교차검증 1 정확도 : 0.7978\n",
      "교차검증 2 정확도 : 0.8483\n",
      "교차검증 3 정확도 : 0.7640\n",
      "교차검증 4 정확도 : 0.8652\n",
      "평균정확도 : 0.8137153976523758\n"
     ]
    }
   ],
   "source": [
    "scores = cross_val_score(rf_clf, X_titanic_df, y_titanic_df, cv=5)\n",
    "\n",
    "for iter_count, accuracy in enumerate(scores) :\n",
    "    print(f'교차검증 {iter_count} 정확도 : {accuracy:.4f}')\n",
    "    \n",
    "print(f'평균정확도 : {np.mean(scores)}')"
   ]
  },
  {
   "cell_type": "code",
   "execution_count": 40,
   "id": "2239d7c9-d620-40cc-86b7-75f3035bce56",
   "metadata": {},
   "outputs": [
    {
     "name": "stdout",
     "output_type": "stream",
     "text": [
      "교차검증 0 정확도 : 0.7989\n",
      "교차검증 1 정확도 : 0.7697\n",
      "교차검증 2 정확도 : 0.7809\n",
      "교차검증 3 정확도 : 0.7753\n",
      "교차검증 4 정확도 : 0.8146\n",
      "평균정확도 : 0.7878664239532985\n"
     ]
    }
   ],
   "source": [
    "scores = cross_val_score(lr_clf, X_titanic_df, y_titanic_df, cv=5)\n",
    "\n",
    "for iter_count, accuracy in enumerate(scores) :\n",
    "    print(f'교차검증 {iter_count} 정확도 : {accuracy:.4f}')\n",
    "    \n",
    "print(f'평균정확도 : {np.mean(scores)}')"
   ]
  },
  {
   "cell_type": "markdown",
   "id": "e8a1075f-7ceb-4566-bde1-c2f2ff520cd1",
   "metadata": {},
   "source": [
    "---\n",
    "#### 셔플"
   ]
  },
  {
   "cell_type": "code",
   "execution_count": 50,
   "id": "48832a17-d076-43ae-820d-66022b194a73",
   "metadata": {},
   "outputs": [],
   "source": [
    "def exec_kfold_shuffle(clf, folds=5) :\n",
    "    kfold = KFold(n_splits=folds, shuffle=True)\n",
    "    \n",
    "    scores = []\n",
    "    \n",
    "    for iter_count, (train_index, test_index) in enumerate(kfold.split(X_titanic_df)) :\n",
    "        # kfold.split(X_titanic_df)\n",
    "        # [ (array( [] )), (array( [] )), (array( [] )), ... , (array( [] )) ] 형태로 나타남.\n",
    "        # [ ( ), ( ), ... , ( )] 형태 => 튜플 개수가 폴드(n_splits) 개수임.\n",
    "        \n",
    "        # index값을 이용해서 데이터 분리 시키기\n",
    "        X_train, X_test = X_titanic_df.values[train_index], X_titanic_df.values[test_index]\n",
    "        y_train, y_test = y_titanic_df.values[train_index], y_titanic_df.values[test_index]\n",
    "        \n",
    "        # classifier 모델으로 학습 및 스코어 확인\n",
    "        clf.fit(X_train, y_train)\n",
    "        pred = clf.predict(X_test)\n",
    "        accuracy = accuracy_score(y_test, pred)\n",
    "        scores.append(accuracy)\n",
    "        \n",
    "        print(f'교차검증 {iter_count} 정확도 : {accuracy:.4f}')\n",
    "        \n",
    "    mean_score = np.mean(scores)\n",
    "    print(f'평균 정확도 : {mean_score}')\n",
    "        "
   ]
  },
  {
   "cell_type": "code",
   "execution_count": 51,
   "id": "786cd80a-335b-42b2-a648-9b2d3fc660c0",
   "metadata": {},
   "outputs": [],
   "source": [
    "list(KFold(n_splits=2).split(X_titanic_df));"
   ]
  },
  {
   "cell_type": "code",
   "execution_count": 65,
   "id": "67320333-a9e8-4e63-abc5-a7859abe94b1",
   "metadata": {},
   "outputs": [
    {
     "name": "stdout",
     "output_type": "stream",
     "text": [
      "교차검증 0 정확도 : 0.7486\n",
      "교차검증 1 정확도 : 0.7640\n",
      "교차검증 2 정확도 : 0.7978\n",
      "교차검증 3 정확도 : 0.8202\n",
      "교차검증 4 정확도 : 0.7753\n",
      "평균 정확도 : 0.7811813445483649\n"
     ]
    }
   ],
   "source": [
    "exec_kfold_shuffle(dt_clf)"
   ]
  },
  {
   "cell_type": "code",
   "execution_count": 66,
   "id": "82101e96-636e-40e9-bddc-885a1058b6e6",
   "metadata": {},
   "outputs": [
    {
     "name": "stdout",
     "output_type": "stream",
     "text": [
      "교차검증 0 정확도 : 0.7989\n",
      "교차검증 1 정확도 : 0.8090\n",
      "교차검증 2 정확도 : 0.8427\n",
      "교차검증 3 정확도 : 0.7809\n",
      "교차검증 4 정확도 : 0.8315\n",
      "평균 정확도 : 0.8125855250768941\n"
     ]
    }
   ],
   "source": [
    "exec_kfold_shuffle(rf_clf)"
   ]
  },
  {
   "cell_type": "code",
   "execution_count": 67,
   "id": "6e93a508-d9e1-44ea-b588-316da6442a16",
   "metadata": {},
   "outputs": [
    {
     "name": "stdout",
     "output_type": "stream",
     "text": [
      "교차검증 0 정확도 : 0.7989\n",
      "교차검증 1 정확도 : 0.7809\n",
      "교차검증 2 정확도 : 0.7865\n",
      "교차검증 3 정확도 : 0.7921\n",
      "교차검증 4 정확도 : 0.7697\n",
      "평균 정확도 : 0.7856192329420626\n"
     ]
    }
   ],
   "source": [
    "exec_kfold_shuffle(lr_clf)"
   ]
  },
  {
   "cell_type": "code",
   "execution_count": 68,
   "id": "96d62c2f-618a-402e-9983-9ae7553a5955",
   "metadata": {},
   "outputs": [],
   "source": [
    "from sklearn.model_selection import cross_val_score"
   ]
  },
  {
   "cell_type": "code",
   "execution_count": 69,
   "id": "4c334320-a1f3-4582-89db-9a280eb46786",
   "metadata": {},
   "outputs": [
    {
     "name": "stdout",
     "output_type": "stream",
     "text": [
      "교차검증 0 정확도 : 0.7430\n",
      "교차검증 1 정확도 : 0.7753\n",
      "교차검증 2 정확도 : 0.7921\n",
      "교차검증 3 정확도 : 0.7865\n",
      "교차검증 4 정확도 : 0.8427\n",
      "평균정확도 : 0.7879291946519366\n"
     ]
    }
   ],
   "source": [
    "scores = cross_val_score(dt_clf, X_titanic_df, y_titanic_df, cv=5)\n",
    "\n",
    "for iter_count, accuracy in enumerate(scores) :\n",
    "    print(f'교차검증 {iter_count} 정확도 : {accuracy:.4f}')\n",
    "    \n",
    "print(f'평균정확도 : {np.mean(scores)}')"
   ]
  },
  {
   "cell_type": "code",
   "execution_count": 70,
   "id": "e01ef4f8-c45d-4257-afd4-edd2cee2f6f0",
   "metadata": {},
   "outputs": [
    {
     "name": "stdout",
     "output_type": "stream",
     "text": [
      "교차검증 0 정확도 : 0.7933\n",
      "교차검증 1 정확도 : 0.7978\n",
      "교차검증 2 정확도 : 0.8483\n",
      "교차검증 3 정확도 : 0.7640\n",
      "교차검증 4 정확도 : 0.8652\n",
      "평균정확도 : 0.8137153976523758\n"
     ]
    }
   ],
   "source": [
    "scores = cross_val_score(rf_clf, X_titanic_df, y_titanic_df, cv=5)\n",
    "\n",
    "for iter_count, accuracy in enumerate(scores) :\n",
    "    print(f'교차검증 {iter_count} 정확도 : {accuracy:.4f}')\n",
    "    \n",
    "print(f'평균정확도 : {np.mean(scores)}')"
   ]
  },
  {
   "cell_type": "code",
   "execution_count": 71,
   "id": "03406311-126f-4001-9813-b65cd7f9e728",
   "metadata": {},
   "outputs": [
    {
     "name": "stdout",
     "output_type": "stream",
     "text": [
      "교차검증 0 정확도 : 0.7989\n",
      "교차검증 1 정확도 : 0.7697\n",
      "교차검증 2 정확도 : 0.7809\n",
      "교차검증 3 정확도 : 0.7753\n",
      "교차검증 4 정확도 : 0.8146\n",
      "평균정확도 : 0.7878664239532985\n"
     ]
    }
   ],
   "source": [
    "scores = cross_val_score(lr_clf, X_titanic_df, y_titanic_df, cv=5)\n",
    "\n",
    "for iter_count, accuracy in enumerate(scores) :\n",
    "    print(f'교차검증 {iter_count} 정확도 : {accuracy:.4f}')\n",
    "    \n",
    "print(f'평균정확도 : {np.mean(scores)}')"
   ]
  },
  {
   "cell_type": "markdown",
   "id": "dabbe210-9a56-4697-ae40-440b0576da3c",
   "metadata": {},
   "source": [
    "---\n",
    "### GridSearchCV"
   ]
  },
  {
   "cell_type": "code",
   "execution_count": 73,
   "id": "6a8ddc20-eeaf-4113-9888-6e3b1e725c86",
   "metadata": {},
   "outputs": [],
   "source": [
    "from sklearn.model_selection import GridSearchCV"
   ]
  },
  {
   "cell_type": "code",
   "execution_count": 75,
   "id": "f4f773ea-90ba-4524-849b-fcde11bc39e9",
   "metadata": {},
   "outputs": [],
   "source": [
    "parameters = {\n",
    "    'max_depth' : [2, 3, 5, 10],\n",
    "    'min_samples_split' : [2,3,5],\n",
    "    'min_samples_leaf' : [1,5,8]\n",
    "}"
   ]
  },
  {
   "cell_type": "code",
   "execution_count": 89,
   "id": "0b79bf00-215b-41b8-9c4a-ea82de4a183c",
   "metadata": {
    "collapsed": true,
    "jupyter": {
     "outputs_hidden": true
    },
    "tags": []
   },
   "outputs": [
    {
     "name": "stdout",
     "output_type": "stream",
     "text": [
      "Fitting 5 folds for each of 36 candidates, totalling 180 fits\n",
      "[CV] END max_depth=2, min_samples_leaf=1, min_samples_split=2; total time=   0.0s\n",
      "[CV] END max_depth=2, min_samples_leaf=1, min_samples_split=2; total time=   0.0s\n",
      "[CV] END max_depth=2, min_samples_leaf=1, min_samples_split=2; total time=   0.0s\n",
      "[CV] END max_depth=2, min_samples_leaf=1, min_samples_split=2; total time=   0.0s\n",
      "[CV] END max_depth=2, min_samples_leaf=1, min_samples_split=2; total time=   0.0s\n",
      "[CV] END max_depth=2, min_samples_leaf=1, min_samples_split=3; total time=   0.0s\n",
      "[CV] END max_depth=2, min_samples_leaf=1, min_samples_split=3; total time=   0.0s\n",
      "[CV] END max_depth=2, min_samples_leaf=1, min_samples_split=3; total time=   0.0s\n",
      "[CV] END max_depth=2, min_samples_leaf=1, min_samples_split=3; total time=   0.0s\n",
      "[CV] END max_depth=2, min_samples_leaf=1, min_samples_split=3; total time=   0.0s\n",
      "[CV] END max_depth=2, min_samples_leaf=1, min_samples_split=5; total time=   0.0s\n",
      "[CV] END max_depth=2, min_samples_leaf=1, min_samples_split=5; total time=   0.0s\n",
      "[CV] END max_depth=2, min_samples_leaf=1, min_samples_split=5; total time=   0.0s\n",
      "[CV] END max_depth=2, min_samples_leaf=1, min_samples_split=5; total time=   0.0s\n",
      "[CV] END max_depth=2, min_samples_leaf=1, min_samples_split=5; total time=   0.0s\n",
      "[CV] END max_depth=2, min_samples_leaf=5, min_samples_split=2; total time=   0.0s\n",
      "[CV] END max_depth=2, min_samples_leaf=5, min_samples_split=2; total time=   0.0s\n",
      "[CV] END max_depth=2, min_samples_leaf=5, min_samples_split=2; total time=   0.0s\n",
      "[CV] END max_depth=2, min_samples_leaf=5, min_samples_split=2; total time=   0.0s\n",
      "[CV] END max_depth=2, min_samples_leaf=5, min_samples_split=2; total time=   0.0s\n",
      "[CV] END max_depth=2, min_samples_leaf=5, min_samples_split=3; total time=   0.0s\n",
      "[CV] END max_depth=2, min_samples_leaf=5, min_samples_split=3; total time=   0.0s\n",
      "[CV] END max_depth=2, min_samples_leaf=5, min_samples_split=3; total time=   0.0s\n",
      "[CV] END max_depth=2, min_samples_leaf=5, min_samples_split=3; total time=   0.0s\n",
      "[CV] END max_depth=2, min_samples_leaf=5, min_samples_split=3; total time=   0.0s\n",
      "[CV] END max_depth=2, min_samples_leaf=5, min_samples_split=5; total time=   0.0s\n",
      "[CV] END max_depth=2, min_samples_leaf=5, min_samples_split=5; total time=   0.0s\n",
      "[CV] END max_depth=2, min_samples_leaf=5, min_samples_split=5; total time=   0.0s\n",
      "[CV] END max_depth=2, min_samples_leaf=5, min_samples_split=5; total time=   0.0s\n",
      "[CV] END max_depth=2, min_samples_leaf=5, min_samples_split=5; total time=   0.0s\n",
      "[CV] END max_depth=2, min_samples_leaf=8, min_samples_split=2; total time=   0.0s\n",
      "[CV] END max_depth=2, min_samples_leaf=8, min_samples_split=2; total time=   0.0s\n",
      "[CV] END max_depth=2, min_samples_leaf=8, min_samples_split=2; total time=   0.0s\n",
      "[CV] END max_depth=2, min_samples_leaf=8, min_samples_split=2; total time=   0.0s\n",
      "[CV] END max_depth=2, min_samples_leaf=8, min_samples_split=2; total time=   0.0s\n",
      "[CV] END max_depth=2, min_samples_leaf=8, min_samples_split=3; total time=   0.0s\n",
      "[CV] END max_depth=2, min_samples_leaf=8, min_samples_split=3; total time=   0.0s\n",
      "[CV] END max_depth=2, min_samples_leaf=8, min_samples_split=3; total time=   0.0s\n",
      "[CV] END max_depth=2, min_samples_leaf=8, min_samples_split=3; total time=   0.0s\n",
      "[CV] END max_depth=2, min_samples_leaf=8, min_samples_split=3; total time=   0.0s\n",
      "[CV] END max_depth=2, min_samples_leaf=8, min_samples_split=5; total time=   0.0s\n",
      "[CV] END max_depth=2, min_samples_leaf=8, min_samples_split=5; total time=   0.0s\n",
      "[CV] END max_depth=2, min_samples_leaf=8, min_samples_split=5; total time=   0.0s\n",
      "[CV] END max_depth=2, min_samples_leaf=8, min_samples_split=5; total time=   0.0s\n",
      "[CV] END max_depth=2, min_samples_leaf=8, min_samples_split=5; total time=   0.0s\n",
      "[CV] END max_depth=3, min_samples_leaf=1, min_samples_split=2; total time=   0.0s\n",
      "[CV] END max_depth=3, min_samples_leaf=1, min_samples_split=2; total time=   0.0s\n",
      "[CV] END max_depth=3, min_samples_leaf=1, min_samples_split=2; total time=   0.0s\n",
      "[CV] END max_depth=3, min_samples_leaf=1, min_samples_split=2; total time=   0.0s\n",
      "[CV] END max_depth=3, min_samples_leaf=1, min_samples_split=2; total time=   0.0s\n",
      "[CV] END max_depth=3, min_samples_leaf=1, min_samples_split=3; total time=   0.0s\n",
      "[CV] END max_depth=3, min_samples_leaf=1, min_samples_split=3; total time=   0.0s\n",
      "[CV] END max_depth=3, min_samples_leaf=1, min_samples_split=3; total time=   0.0s\n",
      "[CV] END max_depth=3, min_samples_leaf=1, min_samples_split=3; total time=   0.0s\n",
      "[CV] END max_depth=3, min_samples_leaf=1, min_samples_split=3; total time=   0.0s\n",
      "[CV] END max_depth=3, min_samples_leaf=1, min_samples_split=5; total time=   0.0s\n",
      "[CV] END max_depth=3, min_samples_leaf=1, min_samples_split=5; total time=   0.0s\n",
      "[CV] END max_depth=3, min_samples_leaf=1, min_samples_split=5; total time=   0.0s\n",
      "[CV] END max_depth=3, min_samples_leaf=1, min_samples_split=5; total time=   0.0s\n",
      "[CV] END max_depth=3, min_samples_leaf=1, min_samples_split=5; total time=   0.0s\n",
      "[CV] END max_depth=3, min_samples_leaf=5, min_samples_split=2; total time=   0.0s\n",
      "[CV] END max_depth=3, min_samples_leaf=5, min_samples_split=2; total time=   0.0s\n",
      "[CV] END max_depth=3, min_samples_leaf=5, min_samples_split=2; total time=   0.0s\n",
      "[CV] END max_depth=3, min_samples_leaf=5, min_samples_split=2; total time=   0.0s\n",
      "[CV] END max_depth=3, min_samples_leaf=5, min_samples_split=2; total time=   0.0s\n",
      "[CV] END max_depth=3, min_samples_leaf=5, min_samples_split=3; total time=   0.0s\n",
      "[CV] END max_depth=3, min_samples_leaf=5, min_samples_split=3; total time=   0.0s\n",
      "[CV] END max_depth=3, min_samples_leaf=5, min_samples_split=3; total time=   0.0s\n",
      "[CV] END max_depth=3, min_samples_leaf=5, min_samples_split=3; total time=   0.0s\n",
      "[CV] END max_depth=3, min_samples_leaf=5, min_samples_split=3; total time=   0.0s\n",
      "[CV] END max_depth=3, min_samples_leaf=5, min_samples_split=5; total time=   0.0s\n",
      "[CV] END max_depth=3, min_samples_leaf=5, min_samples_split=5; total time=   0.0s\n",
      "[CV] END max_depth=3, min_samples_leaf=5, min_samples_split=5; total time=   0.0s\n",
      "[CV] END max_depth=3, min_samples_leaf=5, min_samples_split=5; total time=   0.0s\n",
      "[CV] END max_depth=3, min_samples_leaf=5, min_samples_split=5; total time=   0.0s\n",
      "[CV] END max_depth=3, min_samples_leaf=8, min_samples_split=2; total time=   0.0s\n",
      "[CV] END max_depth=3, min_samples_leaf=8, min_samples_split=2; total time=   0.0s\n",
      "[CV] END max_depth=3, min_samples_leaf=8, min_samples_split=2; total time=   0.0s\n",
      "[CV] END max_depth=3, min_samples_leaf=8, min_samples_split=2; total time=   0.0s\n",
      "[CV] END max_depth=3, min_samples_leaf=8, min_samples_split=2; total time=   0.0s\n",
      "[CV] END max_depth=3, min_samples_leaf=8, min_samples_split=3; total time=   0.0s\n",
      "[CV] END max_depth=3, min_samples_leaf=8, min_samples_split=3; total time=   0.0s\n",
      "[CV] END max_depth=3, min_samples_leaf=8, min_samples_split=3; total time=   0.0s\n",
      "[CV] END max_depth=3, min_samples_leaf=8, min_samples_split=3; total time=   0.0s\n",
      "[CV] END max_depth=3, min_samples_leaf=8, min_samples_split=3; total time=   0.0s\n",
      "[CV] END max_depth=3, min_samples_leaf=8, min_samples_split=5; total time=   0.0s\n",
      "[CV] END max_depth=3, min_samples_leaf=8, min_samples_split=5; total time=   0.0s\n",
      "[CV] END max_depth=3, min_samples_leaf=8, min_samples_split=5; total time=   0.0s\n",
      "[CV] END max_depth=3, min_samples_leaf=8, min_samples_split=5; total time=   0.0s\n",
      "[CV] END max_depth=3, min_samples_leaf=8, min_samples_split=5; total time=   0.0s\n",
      "[CV] END max_depth=5, min_samples_leaf=1, min_samples_split=2; total time=   0.0s\n",
      "[CV] END max_depth=5, min_samples_leaf=1, min_samples_split=2; total time=   0.0s\n",
      "[CV] END max_depth=5, min_samples_leaf=1, min_samples_split=2; total time=   0.0s\n",
      "[CV] END max_depth=5, min_samples_leaf=1, min_samples_split=2; total time=   0.0s\n",
      "[CV] END max_depth=5, min_samples_leaf=1, min_samples_split=2; total time=   0.0s\n",
      "[CV] END max_depth=5, min_samples_leaf=1, min_samples_split=3; total time=   0.0s\n",
      "[CV] END max_depth=5, min_samples_leaf=1, min_samples_split=3; total time=   0.0s\n",
      "[CV] END max_depth=5, min_samples_leaf=1, min_samples_split=3; total time=   0.0s\n",
      "[CV] END max_depth=5, min_samples_leaf=1, min_samples_split=3; total time=   0.0s\n",
      "[CV] END max_depth=5, min_samples_leaf=1, min_samples_split=3; total time=   0.0s\n",
      "[CV] END max_depth=5, min_samples_leaf=1, min_samples_split=5; total time=   0.0s\n",
      "[CV] END max_depth=5, min_samples_leaf=1, min_samples_split=5; total time=   0.0s\n",
      "[CV] END max_depth=5, min_samples_leaf=1, min_samples_split=5; total time=   0.0s\n",
      "[CV] END max_depth=5, min_samples_leaf=1, min_samples_split=5; total time=   0.0s\n",
      "[CV] END max_depth=5, min_samples_leaf=1, min_samples_split=5; total time=   0.0s\n",
      "[CV] END max_depth=5, min_samples_leaf=5, min_samples_split=2; total time=   0.0s\n",
      "[CV] END max_depth=5, min_samples_leaf=5, min_samples_split=2; total time=   0.0s\n",
      "[CV] END max_depth=5, min_samples_leaf=5, min_samples_split=2; total time=   0.0s\n",
      "[CV] END max_depth=5, min_samples_leaf=5, min_samples_split=2; total time=   0.0s\n",
      "[CV] END max_depth=5, min_samples_leaf=5, min_samples_split=2; total time=   0.0s\n",
      "[CV] END max_depth=5, min_samples_leaf=5, min_samples_split=3; total time=   0.0s\n",
      "[CV] END max_depth=5, min_samples_leaf=5, min_samples_split=3; total time=   0.0s\n",
      "[CV] END max_depth=5, min_samples_leaf=5, min_samples_split=3; total time=   0.0s\n",
      "[CV] END max_depth=5, min_samples_leaf=5, min_samples_split=3; total time=   0.0s\n",
      "[CV] END max_depth=5, min_samples_leaf=5, min_samples_split=3; total time=   0.0s\n",
      "[CV] END max_depth=5, min_samples_leaf=5, min_samples_split=5; total time=   0.0s\n",
      "[CV] END max_depth=5, min_samples_leaf=5, min_samples_split=5; total time=   0.0s\n",
      "[CV] END max_depth=5, min_samples_leaf=5, min_samples_split=5; total time=   0.0s\n",
      "[CV] END max_depth=5, min_samples_leaf=5, min_samples_split=5; total time=   0.0s\n",
      "[CV] END max_depth=5, min_samples_leaf=5, min_samples_split=5; total time=   0.0s\n",
      "[CV] END max_depth=5, min_samples_leaf=8, min_samples_split=2; total time=   0.0s\n",
      "[CV] END max_depth=5, min_samples_leaf=8, min_samples_split=2; total time=   0.0s\n",
      "[CV] END max_depth=5, min_samples_leaf=8, min_samples_split=2; total time=   0.0s\n",
      "[CV] END max_depth=5, min_samples_leaf=8, min_samples_split=2; total time=   0.0s\n",
      "[CV] END max_depth=5, min_samples_leaf=8, min_samples_split=2; total time=   0.0s\n",
      "[CV] END max_depth=5, min_samples_leaf=8, min_samples_split=3; total time=   0.0s\n",
      "[CV] END max_depth=5, min_samples_leaf=8, min_samples_split=3; total time=   0.0s\n",
      "[CV] END max_depth=5, min_samples_leaf=8, min_samples_split=3; total time=   0.0s\n",
      "[CV] END max_depth=5, min_samples_leaf=8, min_samples_split=3; total time=   0.0s\n",
      "[CV] END max_depth=5, min_samples_leaf=8, min_samples_split=3; total time=   0.0s\n",
      "[CV] END max_depth=5, min_samples_leaf=8, min_samples_split=5; total time=   0.0s\n",
      "[CV] END max_depth=5, min_samples_leaf=8, min_samples_split=5; total time=   0.0s\n",
      "[CV] END max_depth=5, min_samples_leaf=8, min_samples_split=5; total time=   0.0s\n",
      "[CV] END max_depth=5, min_samples_leaf=8, min_samples_split=5; total time=   0.0s\n",
      "[CV] END max_depth=5, min_samples_leaf=8, min_samples_split=5; total time=   0.0s\n",
      "[CV] END max_depth=10, min_samples_leaf=1, min_samples_split=2; total time=   0.0s\n",
      "[CV] END max_depth=10, min_samples_leaf=1, min_samples_split=2; total time=   0.0s\n",
      "[CV] END max_depth=10, min_samples_leaf=1, min_samples_split=2; total time=   0.0s\n",
      "[CV] END max_depth=10, min_samples_leaf=1, min_samples_split=2; total time=   0.0s\n",
      "[CV] END max_depth=10, min_samples_leaf=1, min_samples_split=2; total time=   0.0s\n",
      "[CV] END max_depth=10, min_samples_leaf=1, min_samples_split=3; total time=   0.0s\n",
      "[CV] END max_depth=10, min_samples_leaf=1, min_samples_split=3; total time=   0.0s\n",
      "[CV] END max_depth=10, min_samples_leaf=1, min_samples_split=3; total time=   0.0s\n",
      "[CV] END max_depth=10, min_samples_leaf=1, min_samples_split=3; total time=   0.0s\n",
      "[CV] END max_depth=10, min_samples_leaf=1, min_samples_split=3; total time=   0.0s\n",
      "[CV] END max_depth=10, min_samples_leaf=1, min_samples_split=5; total time=   0.0s\n",
      "[CV] END max_depth=10, min_samples_leaf=1, min_samples_split=5; total time=   0.0s\n",
      "[CV] END max_depth=10, min_samples_leaf=1, min_samples_split=5; total time=   0.0s\n",
      "[CV] END max_depth=10, min_samples_leaf=1, min_samples_split=5; total time=   0.0s\n",
      "[CV] END max_depth=10, min_samples_leaf=1, min_samples_split=5; total time=   0.0s\n",
      "[CV] END max_depth=10, min_samples_leaf=5, min_samples_split=2; total time=   0.0s\n",
      "[CV] END max_depth=10, min_samples_leaf=5, min_samples_split=2; total time=   0.0s\n",
      "[CV] END max_depth=10, min_samples_leaf=5, min_samples_split=2; total time=   0.0s\n",
      "[CV] END max_depth=10, min_samples_leaf=5, min_samples_split=2; total time=   0.0s\n",
      "[CV] END max_depth=10, min_samples_leaf=5, min_samples_split=2; total time=   0.0s\n",
      "[CV] END max_depth=10, min_samples_leaf=5, min_samples_split=3; total time=   0.0s\n",
      "[CV] END max_depth=10, min_samples_leaf=5, min_samples_split=3; total time=   0.0s\n",
      "[CV] END max_depth=10, min_samples_leaf=5, min_samples_split=3; total time=   0.0s\n",
      "[CV] END max_depth=10, min_samples_leaf=5, min_samples_split=3; total time=   0.0s\n",
      "[CV] END max_depth=10, min_samples_leaf=5, min_samples_split=3; total time=   0.0s\n",
      "[CV] END max_depth=10, min_samples_leaf=5, min_samples_split=5; total time=   0.0s\n",
      "[CV] END max_depth=10, min_samples_leaf=5, min_samples_split=5; total time=   0.0s\n",
      "[CV] END max_depth=10, min_samples_leaf=5, min_samples_split=5; total time=   0.0s\n",
      "[CV] END max_depth=10, min_samples_leaf=5, min_samples_split=5; total time=   0.0s\n",
      "[CV] END max_depth=10, min_samples_leaf=5, min_samples_split=5; total time=   0.0s\n",
      "[CV] END max_depth=10, min_samples_leaf=8, min_samples_split=2; total time=   0.0s\n",
      "[CV] END max_depth=10, min_samples_leaf=8, min_samples_split=2; total time=   0.0s\n",
      "[CV] END max_depth=10, min_samples_leaf=8, min_samples_split=2; total time=   0.0s\n",
      "[CV] END max_depth=10, min_samples_leaf=8, min_samples_split=2; total time=   0.0s\n",
      "[CV] END max_depth=10, min_samples_leaf=8, min_samples_split=2; total time=   0.0s\n",
      "[CV] END max_depth=10, min_samples_leaf=8, min_samples_split=3; total time=   0.0s\n",
      "[CV] END max_depth=10, min_samples_leaf=8, min_samples_split=3; total time=   0.0s\n",
      "[CV] END max_depth=10, min_samples_leaf=8, min_samples_split=3; total time=   0.0s\n",
      "[CV] END max_depth=10, min_samples_leaf=8, min_samples_split=3; total time=   0.0s\n",
      "[CV] END max_depth=10, min_samples_leaf=8, min_samples_split=3; total time=   0.0s\n",
      "[CV] END max_depth=10, min_samples_leaf=8, min_samples_split=5; total time=   0.0s\n",
      "[CV] END max_depth=10, min_samples_leaf=8, min_samples_split=5; total time=   0.0s\n",
      "[CV] END max_depth=10, min_samples_leaf=8, min_samples_split=5; total time=   0.0s\n",
      "[CV] END max_depth=10, min_samples_leaf=8, min_samples_split=5; total time=   0.0s\n",
      "[CV] END max_depth=10, min_samples_leaf=8, min_samples_split=5; total time=   0.0s\n"
     ]
    },
    {
     "data": {
      "text/plain": [
       "GridSearchCV(cv=5, estimator=DecisionTreeClassifier(random_state=11),\n",
       "             param_grid={'max_depth': [2, 3, 5, 10],\n",
       "                         'min_samples_leaf': [1, 5, 8],\n",
       "                         'min_samples_split': [2, 3, 5]},\n",
       "             scoring='accuracy', verbose=2)"
      ]
     },
     "execution_count": 89,
     "metadata": {},
     "output_type": "execute_result"
    }
   ],
   "source": [
    "# refit=True : 제일 좋았던 파라미터로 학습한다.(기본값 True)\n",
    "grid_dclf = GridSearchCV(dt_clf, param_grid=parameters, scoring='accuracy', cv=5, verbose=2)\n",
    "\n",
    "grid_dclf.fit(X_train, y_train)"
   ]
  },
  {
   "cell_type": "code",
   "execution_count": 90,
   "id": "31dbe46c-60df-4e8f-8c25-6ef57f95c4ba",
   "metadata": {},
   "outputs": [],
   "source": [
    "grid_dclf.cv_results_ ;"
   ]
  },
  {
   "cell_type": "code",
   "execution_count": 91,
   "id": "96a8673e-9ca8-4828-beb1-cb542e75f95f",
   "metadata": {},
   "outputs": [
    {
     "data": {
      "text/plain": [
       "{'max_depth': 3, 'min_samples_leaf': 5, 'min_samples_split': 2}"
      ]
     },
     "execution_count": 91,
     "metadata": {},
     "output_type": "execute_result"
    }
   ],
   "source": [
    "grid_dclf.best_params_"
   ]
  },
  {
   "cell_type": "code",
   "execution_count": 92,
   "id": "030c8242-041f-462b-baf7-c2ce90151b0b",
   "metadata": {},
   "outputs": [
    {
     "data": {
      "text/plain": [
       "0.7991825076332119"
      ]
     },
     "execution_count": 92,
     "metadata": {},
     "output_type": "execute_result"
    }
   ],
   "source": [
    "grid_dclf.best_score_"
   ]
  },
  {
   "cell_type": "code",
   "execution_count": 93,
   "id": "0fa905b1-e022-4434-a7cd-65addb6c8269",
   "metadata": {},
   "outputs": [
    {
     "data": {
      "text/plain": [
       "0.8715083798882681"
      ]
     },
     "execution_count": 93,
     "metadata": {},
     "output_type": "execute_result"
    }
   ],
   "source": [
    "best_dclf = grid_dclf.best_estimator_\n",
    "\n",
    "dpred = best_dclf.predict(X_test)\n",
    "\n",
    "accuracy_score(y_test, dpred)"
   ]
  },
  {
   "cell_type": "code",
   "execution_count": null,
   "id": "4b22a751-ce9a-48ef-9beb-8c040cee85a5",
   "metadata": {},
   "outputs": [],
   "source": []
  },
  {
   "cell_type": "code",
   "execution_count": null,
   "id": "a726cefb-b5d2-4e5d-85db-05848454b806",
   "metadata": {},
   "outputs": [],
   "source": []
  },
  {
   "cell_type": "code",
   "execution_count": null,
   "id": "e4f16777-e317-49f2-b3c2-ea26570aaf5a",
   "metadata": {},
   "outputs": [],
   "source": []
  },
  {
   "cell_type": "code",
   "execution_count": null,
   "id": "9e0bd741-8615-4719-9a89-caf23cd7df49",
   "metadata": {},
   "outputs": [],
   "source": []
  }
 ],
 "metadata": {
  "kernelspec": {
   "display_name": "Python 3 (ipykernel)",
   "language": "python",
   "name": "python3"
  },
  "language_info": {
   "codemirror_mode": {
    "name": "ipython",
    "version": 3
   },
   "file_extension": ".py",
   "mimetype": "text/x-python",
   "name": "python",
   "nbconvert_exporter": "python",
   "pygments_lexer": "ipython3",
   "version": "3.9.7"
  }
 },
 "nbformat": 4,
 "nbformat_minor": 5
}
