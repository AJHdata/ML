{
 "cells": [
  {
   "cell_type": "code",
   "execution_count": 1,
   "id": "349ded89-85d2-4b75-9102-ada04e0eba3f",
   "metadata": {},
   "outputs": [],
   "source": [
    "from sklearn.base import BaseEstimator\n",
    "\n",
    "import numpy as np\n",
    "import pandas as pd"
   ]
  },
  {
   "cell_type": "code",
   "execution_count": 2,
   "id": "a739a7be-c580-4abf-983d-2241941332eb",
   "metadata": {},
   "outputs": [],
   "source": [
    "class MyDummyClassifier(BaseEstimator) :\n",
    "    def fit(self, X, y=None) :\n",
    "        pass\n",
    "    \n",
    "    def predict(self, X) :\n",
    "        pred = np.zeros((X.shape[0],1))\n",
    "        \n",
    "        for i in range(X.shape[0]) :   # 데이터 건 수 만큼 반복\n",
    "            if X['Sex'].iloc[i] == 1 : # 자기 위치의 값을 불러와서, 성별이 1(남자) 일 때,\n",
    "                pred[i] = 0 # 사망\n",
    "            else :\n",
    "                pred[i] = 1 # 생존\n",
    "                \n",
    "            return pred\n",
    "        \n",
    "\n",
    "def fillna(df) :\n",
    "    df['Age'].fillna(df['Age'].mean(),inplace=True)\n",
    "    df['Cabin'].fillna('N',inplace=True)\n",
    "    df['Embarked'].fillna('N',inplace=True)\n",
    "    df['Fare'].fillna(0,inplace=True)\n",
    "    \n",
    "    return df\n",
    "    \n",
    "def drop_features(df) :\n",
    "    df.drop(columns=['PassengerId', 'Name', 'Ticket'], inplace=True)\n",
    "    \n",
    "    return df\n",
    "\n",
    "\n",
    "def format_features(df) :\n",
    "    from sklearn.preprocessing import LabelEncoder\n",
    "    \n",
    "    df.Cabin = df.Cabin.str[:1]\n",
    "    \n",
    "    # categorical 컬럼이름\n",
    "    features = ['Cabin', 'Sex', 'Embarked']\n",
    "    \n",
    "    for feature in features :\n",
    "        df[feature] = LabelEncoder().fit_transform(df[feature])\n",
    "        \n",
    "    return df\n",
    "\n",
    "\n",
    "def transform_features(df) :\n",
    "    df = fillna(df)\n",
    "    df = drop_features(df)\n",
    "    df = format_features(df)\n",
    "    \n",
    "    return df"
   ]
  },
  {
   "cell_type": "code",
   "execution_count": 3,
   "id": "bb507f4b-b257-4c63-9eb8-a982535bfd68",
   "metadata": {},
   "outputs": [],
   "source": [
    "from sklearn.model_selection import train_test_split\n",
    "from sklearn.metrics import accuracy_score"
   ]
  },
  {
   "cell_type": "code",
   "execution_count": 5,
   "id": "a9ad3b02-c4b0-42d2-ba53-96d39ddddfe4",
   "metadata": {},
   "outputs": [
    {
     "data": {
      "text/plain": [
       "0.6145251396648045"
      ]
     },
     "execution_count": 5,
     "metadata": {},
     "output_type": "execute_result"
    }
   ],
   "source": [
    "titanic_df = pd.read_csv('titanic_train.csv')\n",
    "\n",
    "# X, y 분리\n",
    "y_titanic_df = titanic_df['Survived']\n",
    "X_titanic_df = titanic_df.drop(columns = ['Survived'])\n",
    "\n",
    "# 전처리\n",
    "X_titanic_df = transform_features(X_titanic_df)\n",
    "\n",
    "# 데이터 분리\n",
    "X_train, X_test, y_train, y_test = train_test_split(X_titanic_df, y_titanic_df, test_size=0.2, random_state=0)\n",
    "\n",
    "# 모델 만들기\n",
    "myclf = MyDummyClassifier()\n",
    "myclf.fit(X_train, y_train)\n",
    "pred = myclf.predict(X_test)\n",
    "accuracy_score(y_test, pred)"
   ]
  },
  {
   "cell_type": "markdown",
   "id": "c38bbfdb-db72-474b-9649-bf146cb1e301",
   "metadata": {},
   "source": [
    "---"
   ]
  },
  {
   "cell_type": "code",
   "execution_count": 6,
   "id": "98e42714-f59d-4c52-a12d-3db229a99463",
   "metadata": {},
   "outputs": [],
   "source": [
    "from sklearn.datasets import load_digits"
   ]
  },
  {
   "cell_type": "code",
   "execution_count": 7,
   "id": "b3f88b34-187e-4931-af08-3a845ba427c7",
   "metadata": {},
   "outputs": [],
   "source": [
    "class MyFakeClassifier(BaseEstimator) :\n",
    "    def fit(self, X, y) :\n",
    "        pass\n",
    "    \n",
    "    def predict(self, X) :\n",
    "        return np.zeros(\n",
    "                            (X.shape[0], 1),\n",
    "                            dtype=bool\n",
    "                        )"
   ]
  },
  {
   "cell_type": "code",
   "execution_count": 11,
   "id": "dbca1132-da86-4afa-94e5-dee70a0824ef",
   "metadata": {},
   "outputs": [
    {
     "data": {
      "text/plain": [
       "((450,),\n",
       " 0    405\n",
       " 1     45\n",
       " dtype: int64)"
      ]
     },
     "execution_count": 11,
     "metadata": {},
     "output_type": "execute_result"
    }
   ],
   "source": [
    "digits = load_digits()\n",
    "\n",
    "y = (digits.target == 7).astype(int)\n",
    "X_train, X_test, y_train, y_test = train_test_split(digits.data, y, random_state=11)\n",
    "\n",
    "y_test.shape, pd.Series(y_test).value_counts()"
   ]
  },
  {
   "cell_type": "code",
   "execution_count": 12,
   "id": "5ce1ef08-9526-4a8e-822b-c263c92849ff",
   "metadata": {},
   "outputs": [
    {
     "data": {
      "text/plain": [
       "0.9"
      ]
     },
     "execution_count": 12,
     "metadata": {},
     "output_type": "execute_result"
    }
   ],
   "source": [
    "fakeclf = MyFakeClassifier()\n",
    "fakeclf.fit(X_train, y_train)\n",
    "pred = fakeclf.predict(X_test)\n",
    "accuracy_score(y_test, pred)"
   ]
  },
  {
   "cell_type": "markdown",
   "id": "01ce0257-8b9e-42d8-bc7a-c29c262391c2",
   "metadata": {},
   "source": [
    "### => 정확도가 믿을 값이 못된다."
   ]
  },
  {
   "cell_type": "markdown",
   "id": "4f8ce628-3d7c-49cd-a0be-717f58faaee0",
   "metadata": {},
   "source": [
    "---"
   ]
  },
  {
   "cell_type": "code",
   "execution_count": null,
   "id": "b0ed8f21-b953-4b0a-9f2d-6e35f8b59c56",
   "metadata": {},
   "outputs": [],
   "source": []
  }
 ],
 "metadata": {
  "kernelspec": {
   "display_name": "Python 3 (ipykernel)",
   "language": "python",
   "name": "python3"
  },
  "language_info": {
   "codemirror_mode": {
    "name": "ipython",
    "version": 3
   },
   "file_extension": ".py",
   "mimetype": "text/x-python",
   "name": "python",
   "nbconvert_exporter": "python",
   "pygments_lexer": "ipython3",
   "version": "3.9.7"
  }
 },
 "nbformat": 4,
 "nbformat_minor": 5
}
