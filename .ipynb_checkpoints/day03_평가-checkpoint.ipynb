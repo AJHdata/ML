{
 "cells": [
  {
   "cell_type": "code",
   "execution_count": 1,
   "id": "349ded89-85d2-4b75-9102-ada04e0eba3f",
   "metadata": {},
   "outputs": [],
   "source": [
    "from sklearn.base import BaseEstimator\n",
    "\n",
    "import numpy as np\n",
    "import pandas as pd\n",
    "\n",
    "import warnings\n",
    "warnings.filterwarnings('ignore')"
   ]
  },
  {
   "cell_type": "code",
   "execution_count": 2,
   "id": "a739a7be-c580-4abf-983d-2241941332eb",
   "metadata": {},
   "outputs": [],
   "source": [
    "class MyDummyClassifier(BaseEstimator) :\n",
    "    def fit(self, X, y=None) :\n",
    "        pass\n",
    "    \n",
    "    def predict(self, X) :\n",
    "        pred = np.zeros((X.shape[0],1))\n",
    "        \n",
    "        for i in range(X.shape[0]) :   # 데이터 건 수 만큼 반복\n",
    "            if X['Sex'].iloc[i] == 1 : # 자기 위치의 값을 불러와서, 성별이 1(남자) 일 때,\n",
    "                pred[i] = 0 # 사망\n",
    "            else :\n",
    "                pred[i] = 1 # 생존\n",
    "                \n",
    "            return pred\n",
    "        \n",
    "\n",
    "def fillna(df) :\n",
    "    df['Age'].fillna(df['Age'].mean(),inplace=True)\n",
    "    df['Cabin'].fillna('N',inplace=True)\n",
    "    df['Embarked'].fillna('N',inplace=True)\n",
    "    df['Fare'].fillna(0,inplace=True)\n",
    "    \n",
    "    return df\n",
    "    \n",
    "def drop_features(df) :\n",
    "    df.drop(columns=['PassengerId', 'Name', 'Ticket'], inplace=True)\n",
    "    \n",
    "    return df\n",
    "\n",
    "\n",
    "def format_features(df) :\n",
    "    from sklearn.preprocessing import LabelEncoder\n",
    "    \n",
    "    df.Cabin = df.Cabin.str[:1]\n",
    "    \n",
    "    # categorical 컬럼이름\n",
    "    features = ['Cabin', 'Sex', 'Embarked']\n",
    "    \n",
    "    for feature in features :\n",
    "        df[feature] = LabelEncoder().fit_transform(df[feature])\n",
    "        \n",
    "    return df\n",
    "\n",
    "\n",
    "def transform_features(df) :\n",
    "    df = fillna(df)\n",
    "    df = drop_features(df)\n",
    "    df = format_features(df)\n",
    "    \n",
    "    return df"
   ]
  },
  {
   "cell_type": "code",
   "execution_count": 3,
   "id": "bb507f4b-b257-4c63-9eb8-a982535bfd68",
   "metadata": {},
   "outputs": [],
   "source": [
    "from sklearn.model_selection import train_test_split\n",
    "from sklearn.metrics import accuracy_score"
   ]
  },
  {
   "cell_type": "code",
   "execution_count": 4,
   "id": "a9ad3b02-c4b0-42d2-ba53-96d39ddddfe4",
   "metadata": {},
   "outputs": [
    {
     "data": {
      "text/plain": [
       "0.6145251396648045"
      ]
     },
     "execution_count": 4,
     "metadata": {},
     "output_type": "execute_result"
    }
   ],
   "source": [
    "titanic_df = pd.read_csv('titanic_train.csv')\n",
    "\n",
    "# X, y 분리\n",
    "y_titanic_df = titanic_df['Survived']\n",
    "X_titanic_df = titanic_df.drop(columns = ['Survived'])\n",
    "\n",
    "# 전처리\n",
    "X_titanic_df = transform_features(X_titanic_df)\n",
    "\n",
    "# 데이터 분리\n",
    "X_train, X_test, y_train, y_test = train_test_split(X_titanic_df, y_titanic_df, test_size=0.2, random_state=0)\n",
    "\n",
    "# 모델 만들기\n",
    "myclf = MyDummyClassifier()\n",
    "myclf.fit(X_train, y_train)\n",
    "pred = myclf.predict(X_test)\n",
    "accuracy_score(y_test, pred)"
   ]
  },
  {
   "cell_type": "markdown",
   "id": "c38bbfdb-db72-474b-9649-bf146cb1e301",
   "metadata": {},
   "source": [
    "---"
   ]
  },
  {
   "cell_type": "code",
   "execution_count": 5,
   "id": "98e42714-f59d-4c52-a12d-3db229a99463",
   "metadata": {},
   "outputs": [],
   "source": [
    "from sklearn.datasets import load_digits"
   ]
  },
  {
   "cell_type": "code",
   "execution_count": 6,
   "id": "b3f88b34-187e-4931-af08-3a845ba427c7",
   "metadata": {},
   "outputs": [],
   "source": [
    "class MyFakeClassifier(BaseEstimator) :\n",
    "    def fit(self, X, y) :\n",
    "        pass\n",
    "    \n",
    "    def predict(self, X) :\n",
    "        return np.zeros(\n",
    "                            (X.shape[0], 1),\n",
    "                            dtype=bool\n",
    "                        )"
   ]
  },
  {
   "cell_type": "code",
   "execution_count": 7,
   "id": "dbca1132-da86-4afa-94e5-dee70a0824ef",
   "metadata": {},
   "outputs": [
    {
     "data": {
      "text/plain": [
       "((450,),\n",
       " 0    405\n",
       " 1     45\n",
       " dtype: int64)"
      ]
     },
     "execution_count": 7,
     "metadata": {},
     "output_type": "execute_result"
    }
   ],
   "source": [
    "digits = load_digits()\n",
    "\n",
    "y = (digits.target == 7).astype(int)\n",
    "X_train, X_test, y_train, y_test = train_test_split(digits.data, y, random_state=11)\n",
    "\n",
    "y_test.shape, pd.Series(y_test).value_counts()"
   ]
  },
  {
   "cell_type": "code",
   "execution_count": 8,
   "id": "5ce1ef08-9526-4a8e-822b-c263c92849ff",
   "metadata": {},
   "outputs": [
    {
     "data": {
      "text/plain": [
       "0.9"
      ]
     },
     "execution_count": 8,
     "metadata": {},
     "output_type": "execute_result"
    }
   ],
   "source": [
    "fakeclf = MyFakeClassifier()\n",
    "fakeclf.fit(X_train, y_train)\n",
    "pred = fakeclf.predict(X_test)\n",
    "accuracy_score(y_test, pred)"
   ]
  },
  {
   "cell_type": "markdown",
   "id": "01ce0257-8b9e-42d8-bc7a-c29c262391c2",
   "metadata": {},
   "source": [
    "### => 정확도가 믿을 값이 못된다."
   ]
  },
  {
   "cell_type": "markdown",
   "id": "4f8ce628-3d7c-49cd-a0be-717f58faaee0",
   "metadata": {},
   "source": [
    "---"
   ]
  },
  {
   "cell_type": "code",
   "execution_count": 9,
   "id": "b0ed8f21-b953-4b0a-9f2d-6e35f8b59c56",
   "metadata": {},
   "outputs": [],
   "source": [
    "from sklearn.metrics import confusion_matrix"
   ]
  },
  {
   "cell_type": "code",
   "execution_count": 10,
   "id": "bb2d741e-e37c-4ef0-b373-2a09660f8f9c",
   "metadata": {},
   "outputs": [
    {
     "data": {
      "text/plain": [
       "array([[405,   0],\n",
       "       [ 45,   0]], dtype=int64)"
      ]
     },
     "execution_count": 10,
     "metadata": {},
     "output_type": "execute_result"
    }
   ],
   "source": [
    "confusion_matrix(y_test, pred)"
   ]
  },
  {
   "cell_type": "code",
   "execution_count": 11,
   "id": "f275edcb-c3e8-4e6e-9709-b17ec3b240f4",
   "metadata": {},
   "outputs": [],
   "source": [
    "from sklearn.metrics import accuracy_score, precision_score, recall_score, confusion_matrix"
   ]
  },
  {
   "cell_type": "code",
   "execution_count": 12,
   "id": "a3066992-cfcb-4970-b6f6-e68b75e1c4f3",
   "metadata": {},
   "outputs": [],
   "source": [
    "def get_clf_eval(y_test, pred) :\n",
    "    confusion = confusion_matrix(y_test, pred)\n",
    "    accuracy = accuracy_score(y_test, pred)\n",
    "    precision = precision_score(y_test, pred)\n",
    "    recall = recall_score(y_test, pred)\n",
    "    \n",
    "    print('오차행렬')\n",
    "    print(confusion)\n",
    "    print()\n",
    "    print(f'정확도 : {accuracy:.4f}, 정밀도 : {precision:.4f}, 재현율 : {recall:.4f}')\n",
    "    "
   ]
  },
  {
   "cell_type": "code",
   "execution_count": 13,
   "id": "6f419c38-e038-4306-93bb-249da453cc42",
   "metadata": {},
   "outputs": [],
   "source": [
    "titanic_df = pd.read_csv('titanic_train.csv')\n",
    "\n",
    "# X, y 분리\n",
    "y_titanic_df = titanic_df['Survived']\n",
    "X_titanic_df = titanic_df.drop(columns = ['Survived'])\n",
    "\n",
    "# 전처리\n",
    "X_titanic_df = transform_features(X_titanic_df)\n",
    "\n",
    "# 데이터 분리\n",
    "X_train, X_test, y_train, y_test = train_test_split(X_titanic_df, y_titanic_df, test_size=0.2, random_state=0)"
   ]
  },
  {
   "cell_type": "code",
   "execution_count": 15,
   "id": "fc528d3f-89a5-401b-8cba-f8f6cbd0e1c5",
   "metadata": {},
   "outputs": [],
   "source": [
    "from sklearn.linear_model import LogisticRegression"
   ]
  },
  {
   "cell_type": "code",
   "execution_count": 16,
   "id": "b7ab5358-8b63-41ee-99d4-09a5c4546bc2",
   "metadata": {},
   "outputs": [
    {
     "name": "stdout",
     "output_type": "stream",
     "text": [
      "오차행렬\n",
      "[[92 18]\n",
      " [16 53]]\n",
      "\n",
      "정확도 : 0.8101, 정밀도 : 0.7465, 재현율 : 0.7681\n"
     ]
    }
   ],
   "source": [
    "lr_clf = LogisticRegression()\n",
    "lr_clf.fit(X_train, y_train)\n",
    "pred = lr_clf.predict(X_test)\n",
    "\n",
    "get_clf_eval(y_test, pred)"
   ]
  },
  {
   "cell_type": "markdown",
   "id": "5482d691-3e7a-41a0-a9ea-d46744c9cb0f",
   "metadata": {},
   "source": [
    "---"
   ]
  },
  {
   "cell_type": "code",
   "execution_count": 19,
   "id": "3990ceb9-388b-48ca-b4c6-ada05a8c8ab8",
   "metadata": {},
   "outputs": [
    {
     "data": {
      "text/plain": [
       "(array([[0.85143272, 0.14856728],\n",
       "        [0.89230123, 0.10769877],\n",
       "        [0.93333601, 0.06666399],\n",
       "        [0.05347494, 0.94652506],\n",
       "        [0.3139637 , 0.6860363 ],\n",
       "        [0.4899739 , 0.5100261 ],\n",
       "        [0.08208226, 0.91791774]]),\n",
       " array([0, 0, 0, 1, 1, 1, 1], dtype=int64))"
      ]
     },
     "execution_count": 19,
     "metadata": {},
     "output_type": "execute_result"
    }
   ],
   "source": [
    "pred_proba = lr_clf.predict_proba(X_test)\n",
    "pred = lr_clf.predict(X_test)\n",
    "pred_proba[:7], pred[:7]"
   ]
  },
  {
   "cell_type": "markdown",
   "id": "fb196a86-bf15-4365-9689-eb73ba734ce4",
   "metadata": {},
   "source": [
    "---\n",
    "### 임계값 조정"
   ]
  },
  {
   "cell_type": "code",
   "execution_count": 23,
   "id": "238c5649-6a38-401a-9b90-fdfe5ea81569",
   "metadata": {},
   "outputs": [],
   "source": [
    "from sklearn.preprocessing import Binarizer"
   ]
  },
  {
   "cell_type": "code",
   "execution_count": 24,
   "id": "04ffba8c-3c24-47fe-b75c-c2bd132aeee1",
   "metadata": {},
   "outputs": [],
   "source": [
    "X = [[1,-1,2],\n",
    "     [2,0,0],\n",
    "     [0,1.1,1.2]]"
   ]
  },
  {
   "cell_type": "code",
   "execution_count": 27,
   "id": "25a42bb1-d4cd-433e-a2c4-5adf51c467e9",
   "metadata": {},
   "outputs": [
    {
     "data": {
      "text/plain": [
       "array([[1., 0., 1.],\n",
       "       [1., 0., 0.],\n",
       "       [0., 1., 1.]])"
      ]
     },
     "execution_count": 27,
     "metadata": {},
     "output_type": "execute_result"
    }
   ],
   "source": [
    "binarizer = Binarizer(threshold=0.0) # threshold 보다 >= 이면 0 \n",
    "binarizer.fit_transform(X)"
   ]
  },
  {
   "cell_type": "code",
   "execution_count": 35,
   "id": "7822fe65-c10a-455b-841b-eca330284fd1",
   "metadata": {},
   "outputs": [
    {
     "name": "stdout",
     "output_type": "stream",
     "text": [
      "오차행렬\n",
      "[[92 18]\n",
      " [16 53]]\n",
      "\n",
      "정확도 : 0.8101, 정밀도 : 0.7465, 재현율 : 0.7681\n"
     ]
    }
   ],
   "source": [
    "custom_threshold=0.5\n",
    "pred_proba_1 = pred_proba[:, 1].reshape(-1,1)\n",
    "\n",
    "binarizer = Binarizer(threshold=custom_threshold).fit(pred_proba_1)\n",
    "custom_predict = binarizer.transform(pred_proba_1)\n",
    "\n",
    "get_clf_eval(y_test, custom_predict)"
   ]
  },
  {
   "cell_type": "code",
   "execution_count": 38,
   "id": "0ffa9d73-02ba-48a8-a9d3-d09125f71829",
   "metadata": {},
   "outputs": [
    {
     "name": "stdout",
     "output_type": "stream",
     "text": [
      "오차행렬\n",
      "[[86 24]\n",
      " [13 56]]\n",
      "\n",
      "정확도 : 0.7933, 정밀도 : 0.7000, 재현율 : 0.8116\n"
     ]
    }
   ],
   "source": [
    "custom_threshold=0.4\n",
    "pred_proba_1 = pred_proba[:, 1].reshape(-1,1)\n",
    "\n",
    "binarizer = Binarizer(threshold=custom_threshold).fit(pred_proba_1)\n",
    "custom_predict = binarizer.transform(pred_proba_1)\n",
    "\n",
    "get_clf_eval(y_test, custom_predict)"
   ]
  },
  {
   "cell_type": "code",
   "execution_count": 43,
   "id": "166ce9c2-53be-4011-9b35-a19ee3ef79e9",
   "metadata": {},
   "outputs": [],
   "source": [
    "thresholds = [0.4, 0.45, 0.5, 0.55, 0.6]\n",
    "\n",
    "def get_eval_by_threshold(y_test, pred_proba_c1, thresholds) :\n",
    "    for custom_threshold in thresholds :\n",
    "        binarizer = Binarizer(threshold=custom_threshold).fit(pred_proba_1)\n",
    "        custom_predict = binarizer.transform(pred_proba_1)\n",
    "        print('임계값 : ', custom_threshold)\n",
    "        get_clf_eval(y_test, custom_predict)\n",
    "        \n",
    "        print('-'*60)\n",
    "        \n",
    "        "
   ]
  },
  {
   "cell_type": "code",
   "execution_count": 44,
   "id": "10eb8d5a-ac04-4788-8b96-ec3efd5afff4",
   "metadata": {},
   "outputs": [
    {
     "name": "stdout",
     "output_type": "stream",
     "text": [
      "임계값 :  0.4\n",
      "오차행렬\n",
      "[[86 24]\n",
      " [13 56]]\n",
      "\n",
      "정확도 : 0.7933, 정밀도 : 0.7000, 재현율 : 0.8116\n",
      "------------------------------------------------------------\n",
      "임계값 :  0.45\n",
      "오차행렬\n",
      "[[91 19]\n",
      " [14 55]]\n",
      "\n",
      "정확도 : 0.8156, 정밀도 : 0.7432, 재현율 : 0.7971\n",
      "------------------------------------------------------------\n",
      "임계값 :  0.5\n",
      "오차행렬\n",
      "[[92 18]\n",
      " [16 53]]\n",
      "\n",
      "정확도 : 0.8101, 정밀도 : 0.7465, 재현율 : 0.7681\n",
      "------------------------------------------------------------\n",
      "임계값 :  0.55\n",
      "오차행렬\n",
      "[[97 13]\n",
      " [18 51]]\n",
      "\n",
      "정확도 : 0.8268, 정밀도 : 0.7969, 재현율 : 0.7391\n",
      "------------------------------------------------------------\n",
      "임계값 :  0.6\n",
      "오차행렬\n",
      "[[99 11]\n",
      " [25 44]]\n",
      "\n",
      "정확도 : 0.7989, 정밀도 : 0.8000, 재현율 : 0.6377\n",
      "------------------------------------------------------------\n"
     ]
    }
   ],
   "source": [
    "get_eval_by_threshold(y_test, pred_proba[:, 1].reshape(-1,1), thresholds)"
   ]
  },
  {
   "cell_type": "code",
   "execution_count": null,
   "id": "3fa9237e-dac2-4c08-8f66-9285f26af1e6",
   "metadata": {},
   "outputs": [],
   "source": []
  },
  {
   "cell_type": "code",
   "execution_count": null,
   "id": "22c0c9d6-2b37-4163-afc5-ea5559b20311",
   "metadata": {},
   "outputs": [],
   "source": []
  },
  {
   "cell_type": "code",
   "execution_count": null,
   "id": "b93b23cc-3da6-4072-b326-d303de51dd5f",
   "metadata": {},
   "outputs": [],
   "source": []
  }
 ],
 "metadata": {
  "kernelspec": {
   "display_name": "Python 3 (ipykernel)",
   "language": "python",
   "name": "python3"
  },
  "language_info": {
   "codemirror_mode": {
    "name": "ipython",
    "version": 3
   },
   "file_extension": ".py",
   "mimetype": "text/x-python",
   "name": "python",
   "nbconvert_exporter": "python",
   "pygments_lexer": "ipython3",
   "version": "3.9.7"
  }
 },
 "nbformat": 4,
 "nbformat_minor": 5
}
